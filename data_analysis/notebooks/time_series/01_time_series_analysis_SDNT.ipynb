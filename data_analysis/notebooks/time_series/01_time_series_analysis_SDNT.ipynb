{
  "cells": [
    {
      "cell_type": "markdown",
      "metadata": {
        "id": "view-in-github",
        "colab_type": "text"
      },
      "source": [
        "<a href=\"https://colab.research.google.com/github/rhacrsse/AutomIoT/blob/main/data_analysis/notebooks/time_series/01_time_series_analysis_SDNT.ipynb\" target=\"_parent\"><img src=\"https://colab.research.google.com/assets/colab-badge.svg\" alt=\"Open In Colab\"/></a>"
      ]
    },
    {
      "cell_type": "markdown",
      "id": "275ac7e3",
      "metadata": {
        "id": "275ac7e3"
      },
      "source": [
        "# Analisi trace di rete su dispositivi\n",
        "\n",
        "## Smart Device Network Traffic (SDNT)\n",
        "\n",
        "### SMARTBULB EZVIZ 64:F2:FB:DF:FB:E1 -> LABEL 1\n",
        "### ~~SMARTPLUG EZVIZ 64:F2:FB:48:2C:5B -> LABEL 2~~\n",
        "### SMARTBULB TAPO  00:5F:67:BF:09:EF -> LABEL 3\n",
        "### SMARTPLUG TAPO  E8:48:B8:D6:A8:1D -> LABEL 4"
      ]
    },
    {
      "cell_type": "markdown",
      "source": [
        "## Mount Google Drive environment"
      ],
      "metadata": {
        "id": "1pHTE8owtPoA"
      },
      "id": "1pHTE8owtPoA"
    },
    {
      "cell_type": "code",
      "source": [
        "from google.colab import drive\n",
        "drive.mount('/content/drive')"
      ],
      "metadata": {
        "id": "sMUVt6VbhYaE"
      },
      "id": "sMUVt6VbhYaE",
      "execution_count": null,
      "outputs": []
    },
    {
      "cell_type": "markdown",
      "source": [
        "## Python Libraries"
      ],
      "metadata": {
        "id": "WSk6FOQatviU"
      },
      "id": "WSk6FOQatviU"
    },
    {
      "cell_type": "code",
      "execution_count": null,
      "id": "b42a42a4",
      "metadata": {
        "id": "b42a42a4"
      },
      "outputs": [],
      "source": [
        "import pandas as pd\n",
        "import matplotlib.pyplot as plt\n",
        "import numpy as np\n",
        "import time\n",
        "from datetime import datetime as dt, timedelta as td\n",
        "import time\n",
        "import plotly.express as px\n",
        "import socket\n",
        "import glob\n",
        "import os"
      ]
    },
    {
      "cell_type": "markdown",
      "source": [
        "## Python Dictionary Objects that identify a smart home device"
      ],
      "metadata": {
        "id": "4eKXhW2Gt_LR"
      },
      "id": "4eKXhW2Gt_LR"
    },
    {
      "cell_type": "code",
      "execution_count": null,
      "id": "21e86065",
      "metadata": {
        "id": "21e86065"
      },
      "outputs": [],
      "source": [
        "#\n",
        "# LABELS DEFINITION\n",
        "# Device are identified by MAC address associated to the device by the linksys router\n",
        "# during the tcpdump capturing phase\n",
        "#\n",
        "# Ezviz Smart Bulb LB1\n",
        "label1 = {\"mac\":\"64:F2:FB:DF:FB:E1\",\"app\":\"EZVIZ\",\"device\":\"Smart Bulb\",\"name\":\"LB1\"}\n",
        "# Ezviz Smart Plug T31 (device capture data non available since not connected to same access point, but to other Wi-Fi)\n",
        "# label2 = {\"mac\":\"64:F2:FB:48:2C:5B\",\"app\":\"EZVIZ\",\"device\":\"Smart Plug\",\"name\":\"T31\"}\n",
        "# Tapo Smart Bulb L530E\n",
        "label3 = {\"mac\":\"00:5F:67:BF:09:EF\",\"app\":\"Tapo\",\"device\":\"Smart Bulb\",\"name\":\"L530E\"}\n",
        "# Tapo Smart Plug P100\n",
        "label4 = {\"mac\":\"E8:48:B8:D6:A8:1D\",\"app\":\"Tapo\",\"device\":\"Smart Plug\",\"name\":\"P100\"}"
      ]
    },
    {
      "cell_type": "markdown",
      "id": "29869371",
      "metadata": {
        "id": "29869371"
      },
      "source": [
        "## CHOICE\n",
        "### a. captured data statistics for each smart device based upon temporal base with 1s windows chosen among 0.5s, 1s, 5s, 10s.\n",
        "### b. captured data with 0.5s temporal base cannot be used since there is a problem with capture00500ms_seg0204.csv that is emtpy\n",
        "### c. tapo devices have a temporal shift ???? Instead for ezviz devices this does not happen. The EVENT is not strictly located where there is a peak of traffic"
      ]
    },
    {
      "cell_type": "code",
      "execution_count": null,
      "id": "f75bbfb5",
      "metadata": {
        "id": "f75bbfb5"
      },
      "outputs": [],
      "source": [
        "lblsel = \"label3\" # label selected"
      ]
    },
    {
      "cell_type": "code",
      "execution_count": null,
      "id": "153348e0",
      "metadata": {
        "id": "153348e0"
      },
      "outputs": [],
      "source": [
        "# capdata = captured data\n",
        "#\n",
        "# Extract the data from aggregated data\n",
        "path = \"/content/drive/MyDrive/Thesis - Computer Science and Engineering - Master's degree/datasets/linksys/feature_sniffer/\"\n",
        "aggr_win = \"01000\"\n",
        "paths = sorted(glob.glob(r'{}'.format(path + 'capture'+aggr_win+'ms_seg[0-9]*.csv')))\n",
        "capdata = pd.concat((pd.read_csv(f) for f in paths), ignore_index=True)\n",
        "\n",
        "#capdata = pd.read_csv(path + \"capture00500ms_seg0104.csv\")\n",
        "#capdata = pd.read_csv(path + \"capture01000ms_seg0104.csv\")\n",
        "#capdata = pd.read_csv(path + \"capture05000ms_seg0104.csv\")\n",
        "#capdata = pd.read_csv(path + \"capture10000ms_seg0104.csv\")\n",
        "\n",
        "# Filter the data with the Mac  of device chosen in 'lblsel' variable.\n",
        "capdata = capdata.query(\"Dev == '{}'\".format(eval(lblsel).get(\"mac\")))\n",
        "# Convert Timestamp in long format to avoid eulero representation\n",
        "capdata[\"TS\"] = capdata[\"TS\"].apply(lambda a: round(np.compat.long(a),1))"
      ]
    },
    {
      "cell_type": "code",
      "execution_count": null,
      "id": "7ff10c86",
      "metadata": {
        "id": "7ff10c86"
      },
      "outputs": [],
      "source": [
        "# TIME SHIFT 1h\n",
        "''''\n",
        "-> gtfile.csv start and end timestamp\n",
        "First event time: 2022-09-20 17:31:20.935,1,Tapo,Smart Bulb,Turn ON bulb\n",
        "Last  event time: 2022-09-22 19:30:57.121,3000,EZVIZ,Smart Bulb,Set preset mode sweet\n",
        "\n",
        "-> capture01000ms.csv = capture01000ms_seg0104.csv\n",
        "                        + capture01000ms_seg0204.csv\n",
        "                        + capture01000ms_seg0304.csv\n",
        "                        + capture01000ms_seg0404.csv\n",
        "First packet time: 2022-09-20 17:19:24.476804\n",
        "Last  packet time: 2022-09-22 20:26:21.938617\n",
        "'''\n",
        "\n",
        "# AGGREGATION WINDOWS COMPARISON\n",
        "startDate=dt(2022,9,20,17,20,0)\n",
        "sdts=round(float(startDate.timestamp()),1)\n",
        "endDate=dt(2022,9,20,18,20,0)\n",
        "edts=round(float(endDate.timestamp()),1)\n",
        "\n",
        "# FIRST DAY CAPTURE EXAMPLE\n",
        "#startDate=dt(2022,9,20,21,30,0)\n",
        "#sdts=round(float(startDate.timestamp()),1)\n",
        "#endDate=dt(2022,9,20,22,30,0)\n",
        "#edts=round(float(endDate.timestamp()),1)\n",
        "\n",
        "# SECOND DAY CAPTURE EXAMPLE\n",
        "#startDate=dt(2022,9,21,11,30,0)\n",
        "#sdts=round(float(startDate.timestamp()),1)\n",
        "#endDate=dt(2022,9,21,12,30,0)\n",
        "#edts=round(float(endDate.timestamp()),1)\n",
        "\n",
        "# THIRD DAY CAPTURE EXAMPLE\n",
        "#startDate=dt(2022,9,22,13,30,0)\n",
        "#sdts=round(float(startDate.timestamp()),1)\n",
        "#endDate=dt(2022,9,22,14,30,0)\n",
        "#edts=round(float(endDate.timestamp()),1)"
      ]
    },
    {
      "cell_type": "code",
      "execution_count": null,
      "id": "9fe19802",
      "metadata": {
        "id": "9fe19802"
      },
      "outputs": [],
      "source": [
        "# x-axis plot ticks string formatted generated 1 per minute between starting date (sdts) and ending date (endts)\n",
        "yticksts = np.arange(sdts,edts,1*60) # every minute\n",
        "yticksdt = list(map(lambda elem: dt.fromtimestamp(elem).strftime('%Y-%m-%d %H:%M:%S') , yticksts))"
      ]
    },
    {
      "cell_type": "code",
      "execution_count": null,
      "id": "b6f0fc4b",
      "metadata": {
        "id": "b6f0fc4b"
      },
      "outputs": [],
      "source": [
        "pltcapdata = capdata.query(\"TS > {} and TS < {}\".format(sdts,edts))"
      ]
    },
    {
      "cell_type": "code",
      "execution_count": null,
      "id": "356b93b7",
      "metadata": {
        "id": "356b93b7"
      },
      "outputs": [],
      "source": [
        "# Get ground truth labelled events\n",
        "grtdata = pd.read_csv(\"/content/drive/MyDrive/Thesis - Computer Science and Engineering - Master's degree/datasets/activity_log/gtfile.csv\")\n",
        "# Filter labels by app and device\n",
        "grtdata = grtdata.query('APP == \"{}\" and DEVICE == \"{}\"'.format(eval(lblsel).get(\"app\"), eval(lblsel).get(\"device\")))\n",
        "rests = grtdata[\"TIMESTAMP\"].apply(lambda x: time.mktime(dt.strptime(x, \"%Y-%m-%d %H:%M:%S.%f\").timetuple()))\n",
        "pltgrtdata = grtdata\n",
        "# Convert timestamp to string format\n",
        "pltgrtdata[\"TIMESTAMP\"] = pltgrtdata[\"TIMESTAMP\"].apply(lambda x: time.mktime(dt.strptime(x, \"%Y-%m-%d %H:%M:%S.%f\").timetuple()))\n",
        "# Select only labels in the selected date range (sdts,edts)\n",
        "pltgrtdata = grtdata.query(\"TIMESTAMP > {} and TIMESTAMP < {}\".format(sdts,edts))"
      ]
    },
    {
      "cell_type": "markdown",
      "id": "1ef23d12",
      "metadata": {
        "id": "1ef23d12"
      },
      "source": [
        "### PLOT"
      ]
    },
    {
      "cell_type": "code",
      "execution_count": null,
      "id": "29395ddc",
      "metadata": {
        "id": "29395ddc"
      },
      "outputs": [],
      "source": [
        "#fig = plt.figure(figsize=(10, 3))\n",
        "#fig = plt.figure()\n",
        "#ax = fig.add_axes([0, 0, 5, 1])\n",
        "fig, ax = plt.subplots(nrows=1,ncols=1,figsize=(20,10))\n",
        "#fig, ax = plt.subplots(nrows=1,ncols=1,figsize=(10,3),dpi=200)\n",
        "#\n",
        "# PLOT NETWORK DATA\n",
        "#\n",
        "traffic = ax.bar(pltcapdata[\"TS\"],pltcapdata[\"SumTcpDLpckSz\"],align='center',width=10)\n",
        "ax.grid(True)\n",
        "\n",
        "#ax.set_title(\"{} {} {} Mean Packet Size from [{}] to [{}] of [{}]\"\n",
        "#             .format(eval(lblsel).get(\"app\"),\n",
        "#                     eval(lblsel).get(\"device\"),\n",
        "#                     eval(lblsel).get(\"name\"),\n",
        "#                     startDate.strftime('%H:%M:%S %a %d %b %Y'),\n",
        "#                     endDate.strftime('%H:%M:%S %a %d %b %Y'),\n",
        "#                     endDate.strftime('%H:%M:%S %a %d %b %Y')))\n",
        "\n",
        "ax.set_title(\"{} {} Mean Packet Size from [{}] to [{}] of [{}]\"\n",
        "             .format(eval(lblsel).get(\"app\"),\n",
        "                     eval(lblsel).get(\"device\").split(\" \")[1],\n",
        "                     startDate.strftime('%H:%M'),\n",
        "                     endDate.strftime('%H:%M'),\n",
        "                     endDate.strftime('%a %d %b %Y')))\n",
        "#ax.set_title(\"Ezviz Bulb Mean Packet Size over Time\")\n",
        "ax.set_xlabel(\"Timestamp [s]\")\n",
        "ax.set_ylabel(\"Packet Size [B]\")\n",
        "ax.set_xticks(yticksts)\n",
        "ax.set_xticklabels(yticksdt,rotation=90,size=8)\n",
        "#ax.scatter(pltgrtdata[\"TIMESTAMP\"], np.zeros(len(pltgrtdata[\"TIMESTAMP\"])), marker='X', color='r', linewidths=0.5)\n",
        "#\n",
        "# PLOT LABELED DATA\n",
        "#\n",
        "testdata = ax.stem(pltgrtdata[\"TIMESTAMP\"],\n",
        "                   np.multiply(np.ones(len(pltgrtdata[\"TIMESTAMP\"])), 100),linefmt=\"r--\",markerfmt=\"r.\",basefmt=\"r.\")\n",
        "#ax.legend([traffic, testdata],['Traffic Captured','Test Data'])\n",
        "ax.legend([traffic, testdata],['Aggregate Value','Event'])\n",
        "\n",
        "#ax = plt.gca()\n",
        "xtickslocs = ax.get_xticks()[::5]\n",
        "#plt.xticks(xtickslocs,[f\"{300*i}\" for i in range(len(xtickslocs ))])\n",
        "#plt.xticks(xtickslocs, [dt.fromtimestamp(i).strftime('%Y-%m-%d %H:%M:%S') for i in xtickslocs])\n",
        "plt.xticks(xtickslocs, [dt.fromtimestamp(i).strftime('%H:%M') for i in xtickslocs])\n",
        "#plt.savefig('/home/angioletto/Downloads/time_series_paper.png', bbox_inches = \"tight\")\n",
        "\n",
        "# AGGREGATION WINDOW EXAMPLES\n",
        "#plt.savefig('/home/angioletto/Downloads/capture00500ms_seg0104_first1h.png', bbox_inches = \"tight\")\n",
        "#plt.savefig('/home/angioletto/Downloads/capture01000ms_seg0104_first1h.png', bbox_inches = \"tight\")\n",
        "#plt.savefig('/home/angioletto/Downloads/capture05000ms_seg0104_first1h.png', bbox_inches = \"tight\")\n",
        "#plt.savefig('/home/angioletto/Downloads/capture10000ms_seg0104_first1h.png', bbox_inches = \"tight\")\n",
        "\n",
        "# FIRST DAY CAPTURE EXAMPLE\n",
        "#plt.savefig('/home/angioletto/Downloads/time_series_aggr_01000ms_day_01.png', bbox_inches = \"tight\")\n",
        "# SECOND DAY CAPTURE EXAMPLE\n",
        "#plt.savefig('/home/angioletto/Downloads/time_series_aggr_01000ms_day_02.png', bbox_inches = \"tight\")\n",
        "# THIRD DAY CAPTURE EXAMPLE\n",
        "#plt.savefig('/home/angioletto/Downloads/time_series_aggr_01000ms_day_03.png', bbox_inches = \"tight\")\n",
        "plt.show()"
      ]
    },
    {
      "cell_type": "markdown",
      "id": "73b76488",
      "metadata": {
        "id": "73b76488"
      },
      "source": [
        "### SUBPLOTS\n",
        "We tried to create subplots with successive hour time shift"
      ]
    },
    {
      "cell_type": "code",
      "execution_count": null,
      "id": "4594f418",
      "metadata": {
        "id": "4594f418"
      },
      "outputs": [],
      "source": [
        "lblsel = \"label1\"\n",
        "\n",
        "# capdata = captured data\n",
        "path = \"/content/drive/MyDrive/Thesis - Computer Science and Engineering - Master's degree/datasets/linksys/feature_sniffer/\"\n",
        "aggr_win = \"01000\"\n",
        "paths = sorted(glob.glob(r'{}'.format(path + 'capture'+aggr_win+'ms_seg[0-9]*.csv')))\n",
        "capdata = pd.concat((pd.read_csv(f) for f in paths), ignore_index=True)\n",
        "capdata = capdata.query(\"Dev == '{}'\".format(eval(lblsel).get(\"mac\")))\n",
        "capdata[\"TS\"] = capdata[\"TS\"].apply(lambda a: round(np.compat.long(a),1))\n",
        "fig_list, ax_list = plt.subplots(nrows=10,ncols=1,figsize=(20,100))\n",
        "for idx in range(0,10):\n",
        "    #startDate=dt(2022,9,20,17,19,0) + td(hours=idx)\n",
        "    startDate=dt(2022,9,22,1,42,0) + td(hours=idx)\n",
        "    sdts=round(float(startDate.timestamp()),1)\n",
        "    #endDate=dt(2022,9,20,18,19,0) + td(hours=idx)\\\n",
        "    endDate=dt(2022,9,22,2,42,0) + td(hours=idx)\n",
        "    edts=round(float(endDate.timestamp()),1)\n",
        "    yticksts = np.arange(sdts,edts,1*60) # every minute\n",
        "    yticksdt = list(map(lambda elem: dt.fromtimestamp(elem).strftime('%Y-%m-%d %H:%M:%S') , yticksts))\n",
        "    pltcapdata = capdata.query(\"TS > {} and TS < {}\".format(sdts,edts))\n",
        "    grtdata = pd.read_csv(\"/content/drive/MyDrive/Thesis - Computer Science and Engineering - Master's degree/datasets/activity_log/gtfile.csv\")\n",
        "    grtdata = grtdata.query('APP == \"{}\" and DEVICE == \"{}\"'.format(eval(lblsel).get(\"app\"), eval(lblsel).get(\"device\")))\n",
        "    rests = grtdata[\"TIMESTAMP\"].apply(lambda x: time.mktime(dt.strptime(x, \"%Y-%m-%d %H:%M:%S.%f\").timetuple()))\n",
        "    pltgrtdata = grtdata\n",
        "    pltgrtdata[\"TIMESTAMP\"] = pltgrtdata[\"TIMESTAMP\"].apply(lambda x: time.mktime(dt.strptime(x, \"%Y-%m-%d %H:%M:%S.%f\").timetuple()))\n",
        "    pltgrtdata = grtdata.query(\"TIMESTAMP > {} and TIMESTAMP < {}\".format(sdts,edts))\n",
        "    ax = ax_list[idx]\n",
        "    traffic = ax.bar(pltcapdata[\"TS\"],pltcapdata[\"SumTcpDLpckSz\"],align='center',width=10)\n",
        "    ax.grid(True)\n",
        "    ax.set_title(\"Network Traffic {} {} {} from [{}] to [{}]\".format(eval(lblsel).get(\"app\"),eval(lblsel).get(\"device\"),eval(lblsel).get(\"name\"),startDate.strftime('%H:%M:%S %a %d %b %Y'),endDate.strftime('%H:%M:%S %a %d %b %Y')))\n",
        "    ax.set_xlabel(\"Timestamp [s]\")\n",
        "    ax.set_ylabel(\"Packet Size [B]\")\n",
        "    ax.set_xticks(yticksts)\n",
        "    ax.set_xticklabels(yticksdt,rotation=90,size=8)\n",
        "    testdata = ax.stem(pltgrtdata[\"TIMESTAMP\"], np.multiply(np.ones(len(pltgrtdata[\"TIMESTAMP\"])), 100),linefmt=\"r--\",markerfmt=\"r.\",basefmt=\"r.\")\n",
        "    ax.legend([traffic, testdata],['Traffic Captured','Test Data'])\n",
        "\n",
        "plt.show()"
      ]
    },
    {
      "cell_type": "code",
      "execution_count": null,
      "id": "00be1eab-6f9e-4da0-9cd6-80554e167d35",
      "metadata": {
        "id": "00be1eab-6f9e-4da0-9cd6-80554e167d35"
      },
      "outputs": [],
      "source": []
    }
  ],
  "metadata": {
    "kernelspec": {
      "display_name": "Python 3 (ipykernel)",
      "language": "python",
      "name": "python3"
    },
    "language_info": {
      "codemirror_mode": {
        "name": "ipython",
        "version": 3
      },
      "file_extension": ".py",
      "mimetype": "text/x-python",
      "name": "python",
      "nbconvert_exporter": "python",
      "pygments_lexer": "ipython3",
      "version": "3.11.6"
    },
    "colab": {
      "provenance": [],
      "include_colab_link": true
    }
  },
  "nbformat": 4,
  "nbformat_minor": 5
}