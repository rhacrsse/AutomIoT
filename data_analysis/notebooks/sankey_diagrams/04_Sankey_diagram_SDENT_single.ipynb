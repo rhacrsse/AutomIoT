{
  "cells": [
    {
      "cell_type": "markdown",
      "metadata": {
        "id": "view-in-github",
        "colab_type": "text"
      },
      "source": [
        "<a href=\"https://colab.research.google.com/github/rhacrsse/AutomIoT/blob/main/data_analysis/notebooks/sankey_diagrams/04_Sankey_diagram_SDENT_single.ipynb\" target=\"_parent\"><img src=\"https://colab.research.google.com/assets/colab-badge.svg\" alt=\"Open In Colab\"/></a>"
      ]
    },
    {
      "cell_type": "markdown",
      "id": "275ac7e3",
      "metadata": {
        "id": "275ac7e3"
      },
      "source": [
        "# Analisi traffico di rete generato dai dispositivi\n",
        "\n",
        "## Smart Device Events Network Traffic (SDENT)\n",
        "\n",
        "## Utilizzo sankey diagrams\n",
        "\n",
        "### SMARTBULB EZVIZ 64:F2:FB:DF:FB:E1 -> LABEL 1\n",
        "### ~~SMARTPLUG EZVIZ 64:F2:FB:48:2C:5B -> LABEL 2~~\n",
        "### SMARTBULB TAPO  00:5F:67:BF:09:EF -> LABEL 3\n",
        "### SMARTPLUG TAPO  E8:48:B8:D6:A8:1D -> LABEL 4"
      ]
    },
    {
      "cell_type": "code",
      "source": [
        "from google.colab import drive\n",
        "drive.mount('/content/drive')"
      ],
      "metadata": {
        "id": "GScAgn_kicZe"
      },
      "id": "GScAgn_kicZe",
      "execution_count": null,
      "outputs": []
    },
    {
      "cell_type": "code",
      "execution_count": null,
      "id": "02b92ecf",
      "metadata": {
        "id": "02b92ecf"
      },
      "outputs": [],
      "source": [
        "import pandas as pd\n",
        "import matplotlib.pyplot as plt\n",
        "import numpy as np\n",
        "import time\n",
        "from datetime import datetime as dt, timedelta as td\n",
        "import time\n",
        "import plotly.express as px\n",
        "import socket\n",
        "#import dns.resolver as DNS\n",
        "import plotly.graph_objects as go\n",
        "import re"
      ]
    },
    {
      "cell_type": "code",
      "execution_count": null,
      "id": "be49317e",
      "metadata": {
        "id": "be49317e"
      },
      "outputs": [],
      "source": [
        "# capture.pcap\n",
        "first = dt.strptime('2022-09-20 17:19:24.476804','%Y-%m-%d %H:%M:%S.%f')\n",
        "second = dt.strptime('2022-09-21 12:30:37.158704','%Y-%m-%d %H:%M:%S.%f')\n",
        "result = second - first\n",
        "str(result)"
      ]
    },
    {
      "cell_type": "code",
      "execution_count": null,
      "id": "65706c01",
      "metadata": {
        "id": "65706c01"
      },
      "outputs": [],
      "source": [
        "# capture1.pcap\n",
        "first = dt.strptime('2022-09-21 12:30:37.172284','%Y-%m-%d %H:%M:%S.%f')\n",
        "second = dt.strptime('2022-09-22 13:41:31.234271','%Y-%m-%d %H:%M:%S.%f')\n",
        "result = second - first\n",
        "str(result)"
      ]
    },
    {
      "cell_type": "code",
      "execution_count": null,
      "id": "15ef3120",
      "metadata": {
        "id": "15ef3120"
      },
      "outputs": [],
      "source": [
        "# capture2.pcap\n",
        "first = dt.strptime('2022-09-22 13:41:31.234278','%Y-%m-%d %H:%M:%S.%f')\n",
        "second = dt.strptime('2022-09-22 17:45:33.925015','%Y-%m-%d %H:%M:%S.%f')\n",
        "result = second - first\n",
        "str(result)"
      ]
    },
    {
      "cell_type": "code",
      "execution_count": null,
      "id": "acc7c952",
      "metadata": {
        "id": "acc7c952"
      },
      "outputs": [],
      "source": [
        "# capture3.pcap\n",
        "first = dt.strptime('2022-09-22 17:45:33.925034','%Y-%m-%d %H:%M:%S.%f')\n",
        "second = dt.strptime('2022-09-22 20:26:21.938617','%Y-%m-%d %H:%M:%S.%f')\n",
        "result = second - first\n",
        "str(result)"
      ]
    },
    {
      "cell_type": "code",
      "execution_count": null,
      "id": "e726ac60",
      "metadata": {
        "id": "e726ac60"
      },
      "outputs": [],
      "source": [
        "#\n",
        "# LABELS DEFINITION\n",
        "# Device are identified by MAC address associated to the device by the linksys router\n",
        "# during the tcpdump capturing phase\n",
        "#\n",
        "# Ezviz Smart Bulb LB1\n",
        "label1 = {\"mac\":\"64:F2:FB:DF:FB:E1\",\"app\":\"EZVIZ\",\"device\":\"Smart Bulb\",\"name\":\"LB1\"}\n",
        "# Ezviz Smart Plug T31\n",
        "# label2 = {\"mac\":\"64:F2:FB:48:2C:5B\",\"app\":\"EZVIZ\",\"device\":\"Smart Plug\",\"name\":\"T31\"}\n",
        "# Tapo Smart Bulb L530E\n",
        "label3 = {\"mac\":\"00:5F:67:BF:09:EF\",\"app\":\"Tapo\",\"device\":\"Smart Bulb\",\"name\":\"L530E\"}\n",
        "# Tapo Smart Plug P100\n",
        "label4 = {\"mac\":\"E8:48:B8:D6:A8:1D\",\"app\":\"Tapo\",\"device\":\"Smart Plug\",\"name\":\"P100\"}"
      ]
    },
    {
      "cell_type": "code",
      "execution_count": null,
      "id": "0f1deeaa",
      "metadata": {
        "id": "0f1deeaa"
      },
      "outputs": [],
      "source": [
        "nodeclrs = [\"black\",\n",
        "            \"dimgray\",\n",
        "            \"dimgrey\",\n",
        "            \"gray\",\n",
        "            \"grey\",\n",
        "            \"darkgray\",\n",
        "            \"darkgrey\",\n",
        "            \"silver\",\n",
        "            \"lightgray\",\n",
        "            \"lightgrey\",\n",
        "            \"gainsboro\",\n",
        "            \"whitesmoke\",\n",
        "            \"white\",\"snow\",\n",
        "            \"rosybrown\",\n",
        "            \"lightcoral\",\n",
        "            \"indianred\",\n",
        "            \"brown\",\n",
        "            \"firebrick\",\n",
        "            \"maroon\",\n",
        "            \"darkred\",\n",
        "            \"red\",\n",
        "            \"mistyrose\",\n",
        "            \"salmon\",\n",
        "            \"tomato\",\n",
        "            \"darksalmon\",\n",
        "            \"coral\",\n",
        "            \"orangered\",\n",
        "            \"lightsalmon\",\n",
        "            \"sienna\",\n",
        "            \"seashell\",\n",
        "            \"chocolate\",\n",
        "            \"saddlebrown\",\n",
        "            \"sandybrown\",\n",
        "            \"peachpuff\",\n",
        "            \"peru\",\n",
        "            \"linen\",\n",
        "            \"bisque\",\n",
        "            \"darkorange\",\n",
        "            \"burlywood\",\n",
        "            \"antiquewhite\",\n",
        "            \"tan\",\n",
        "            \"navajowhite\",\n",
        "            \"blanchedalmond\",\n",
        "            \"papayawhip\",\n",
        "            \"moccasin\",\n",
        "            \"orange\",\n",
        "            \"wheat\",\n",
        "            \"oldlace\",\n",
        "            \"floralwhite\",\n",
        "            \"darkgoldenrod\",\n",
        "            \"goldenrod\",\n",
        "            \"cornsilk\",\n",
        "            \"gold\",\n",
        "            \"lemonchiffon\",\n",
        "            \"khaki\",\n",
        "            \"palegoldenrod\",\n",
        "            \"darkkhaki\",\n",
        "            \"Ivory\",\n",
        "            \"beige\",\n",
        "            \"lightyellow\",\n",
        "            \"lightgoldenrodyellow\",\n",
        "            \"olive\",\n",
        "            \"yellow\",\n",
        "            \"olivedrab\",\n",
        "            \"yellowgreen\",\n",
        "            \"darkolivegreen\",\n",
        "            \"greenyellow\",\n",
        "            \"chartreuse\",\n",
        "            \"lawngreen\",\n",
        "            \"honeydew\",\n",
        "            \"darkseagreen\",\n",
        "            \"palegreen\",\n",
        "            \"lightgreen\",\n",
        "            \"forestgreen\",\n",
        "            \"limegreen\",\n",
        "            \"darkgreen\",\n",
        "            \"green\",\n",
        "            \"lime\",\n",
        "            \"seagreen\",\n",
        "            \"mediumseagreen\",\n",
        "            \"springgreen\",\n",
        "            \"mintcream\",\n",
        "            \"mediumspringgreen\",\n",
        "            \"mediumaquamarine\",\n",
        "            \"aquamarine\",\n",
        "            \"turquoise\",\n",
        "            \"lightseagreen\",\n",
        "            \"mediumturquoise\",\n",
        "            \"azure\",\n",
        "            \"lightcyan\",\n",
        "            \"paleturquoise\",\n",
        "            \"darkslategray\",\n",
        "            \"darkslategrey\",\n",
        "            \"teal\",\n",
        "            \"darkcyan\",\n",
        "            \"aqua\",\n",
        "            \"cyan\",\n",
        "            \"darkturquoise\",\n",
        "            \"cadetblue\",\n",
        "            \"powderblue\",\n",
        "            \"lightblue\",\n",
        "            \"deepskyblue\",\n",
        "            \"skyblue\",\n",
        "            \"lightskyblue\",\n",
        "            \"steelblue\",\n",
        "            \"aliceblue\",\n",
        "            \"dodgerblue\",\n",
        "            \"lightslategray\",\n",
        "            \"lightslategrey\",\n",
        "            \"slategray\",\n",
        "            \"slategrey\",\n",
        "            \"lightsteelblue\",\n",
        "            \"cornflowerblue\",\n",
        "            \"royalblue\",\n",
        "            \"ghostwhite\",\n",
        "            \"lavender\",\n",
        "            \"midnightblue\",\n",
        "            \"navy\",\n",
        "            \"darkblue\",\n",
        "            \"mediumblue\",\n",
        "            \"blue\",\n",
        "            \"slateblue\",\n",
        "            \"darkslateblue\",\n",
        "            \"mediumslateblue\",\n",
        "            \"mediumpurple\",\n",
        "            \"rebeccapurple\",\n",
        "            \"blueviolet\",\n",
        "            \"indigo\",\n",
        "            \"darkorchid\",\n",
        "            \"darkviolet\",\n",
        "            \"mediumorchid\",\n",
        "            \"thistle\",\n",
        "            \"plum\",\n",
        "            \"violet\",\n",
        "            \"purple\",\n",
        "            \"darkmagenta\",\n",
        "            \"fuchsia\",\n",
        "            \"magenta\",\n",
        "            \"orchid\",\n",
        "            \"mediumvioletred\",\n",
        "            \"deeppink\",\n",
        "            \"hotpink\",\n",
        "            \"lavenderblush\",\n",
        "            \"palevioletred\",\n",
        "            \"crimson\",\n",
        "            \"pink\",\n",
        "            \"lightpink\"\n",
        "           ]"
      ]
    },
    {
      "cell_type": "markdown",
      "id": "5e211f23",
      "metadata": {
        "id": "5e211f23"
      },
      "source": []
    },
    {
      "cell_type": "markdown",
      "id": "223a957b",
      "metadata": {
        "id": "223a957b"
      },
      "source": [
        "### FILTRO TRAFFICO EVENTI"
      ]
    },
    {
      "cell_type": "markdown",
      "id": "9c512968",
      "metadata": {
        "id": "9c512968"
      },
      "source": []
    },
    {
      "cell_type": "code",
      "execution_count": null,
      "id": "4e5b2155",
      "metadata": {
        "id": "4e5b2155"
      },
      "outputs": [],
      "source": [
        "offset = 5 # seconds"
      ]
    },
    {
      "cell_type": "code",
      "execution_count": null,
      "id": "54092219",
      "metadata": {
        "id": "54092219"
      },
      "outputs": [],
      "source": [
        "#skdata = pd.read_csv(\"/home/angioletto/workspace/AutomIoT/linksysAnalysis/pcapSankey/sankey.csv\",header=None)\n",
        "skdata = pd.read_csv(\"/content/drive/MyDrive/Thesis - Computer Science and Engineering - Master's degree/datasets/sankey/sankey.csv\",header=None)\n",
        "skdata"
      ]
    },
    {
      "cell_type": "code",
      "execution_count": null,
      "id": "d3a366a1",
      "metadata": {
        "id": "d3a366a1"
      },
      "outputs": [],
      "source": [
        "#grtdata = pd.read_csv(\"/home/angioletto/workspace/AutomIoT/linksysAnalysis/gtfile.csv\")\n",
        "grtdata = pd.read_csv(\"/content/drive/MyDrive/Thesis - Computer Science and Engineering - Master's degree/datasets/activity_log/gtfile.csv\")"
      ]
    },
    {
      "cell_type": "code",
      "execution_count": null,
      "id": "4718c333",
      "metadata": {
        "id": "4718c333"
      },
      "outputs": [],
      "source": [
        "grtdata"
      ]
    },
    {
      "cell_type": "code",
      "execution_count": null,
      "id": "17b42ff7",
      "metadata": {
        "id": "17b42ff7"
      },
      "outputs": [],
      "source": [
        "grtdata.head(1).TIMESTAMP[0]"
      ]
    },
    {
      "cell_type": "code",
      "execution_count": null,
      "id": "cd8f7b3f",
      "metadata": {
        "id": "cd8f7b3f"
      },
      "outputs": [],
      "source": [
        "rests = grtdata[\"TIMESTAMP\"].apply(lambda x: time.mktime(dt.strptime(x, \"%Y-%m-%d %H:%M:%S.%f\").timetuple()))"
      ]
    },
    {
      "cell_type": "code",
      "execution_count": null,
      "id": "02b61583",
      "metadata": {
        "id": "02b61583"
      },
      "outputs": [],
      "source": [
        "rests"
      ]
    },
    {
      "cell_type": "code",
      "execution_count": null,
      "id": "aaac9b39",
      "metadata": {
        "id": "aaac9b39"
      },
      "outputs": [],
      "source": [
        "rests[0]+1"
      ]
    },
    {
      "cell_type": "code",
      "execution_count": null,
      "id": "fe7adb0d",
      "metadata": {
        "id": "fe7adb0d"
      },
      "outputs": [],
      "source": [
        "# org\n",
        "dt.fromtimestamp(rests[0]).strftime('%Y-%m-%d %H:%M:%S')"
      ]
    },
    {
      "cell_type": "code",
      "execution_count": null,
      "id": "134565d6",
      "metadata": {
        "id": "134565d6"
      },
      "outputs": [],
      "source": [
        "# before (-1s)\n",
        "dt.fromtimestamp(rests[0] - offset).strftime('%Y-%m-%d %H:%M:%S')"
      ]
    },
    {
      "cell_type": "code",
      "execution_count": null,
      "id": "a3a11a86",
      "metadata": {
        "id": "a3a11a86"
      },
      "outputs": [],
      "source": [
        "# before (+1s)\n",
        "dt.fromtimestamp(rests[0] + offset).strftime('%Y-%m-%d %H:%M:%S')"
      ]
    },
    {
      "cell_type": "code",
      "execution_count": null,
      "id": "7f5ee7fd",
      "metadata": {
        "id": "7f5ee7fd"
      },
      "outputs": [],
      "source": [
        "grtdata[\"TIMESTAMP\"] = rests"
      ]
    },
    {
      "cell_type": "code",
      "execution_count": null,
      "id": "16426445",
      "metadata": {
        "id": "16426445"
      },
      "outputs": [],
      "source": [
        "grtdata"
      ]
    },
    {
      "cell_type": "code",
      "execution_count": null,
      "id": "9a6af75b",
      "metadata": {
        "id": "9a6af75b"
      },
      "outputs": [],
      "source": [
        "rests = skdata[0].apply(lambda x: time.mktime(dt.strptime(x, \"%Y-%m-%d %H:%M:%S.%f\").timetuple()))"
      ]
    },
    {
      "cell_type": "code",
      "execution_count": null,
      "id": "67af3ed0",
      "metadata": {
        "id": "67af3ed0"
      },
      "outputs": [],
      "source": [
        "rests"
      ]
    },
    {
      "cell_type": "code",
      "execution_count": null,
      "id": "0c4aa5cf",
      "metadata": {
        "id": "0c4aa5cf"
      },
      "outputs": [],
      "source": [
        "skdata[0] = rests"
      ]
    },
    {
      "cell_type": "code",
      "execution_count": null,
      "id": "6e5e9dfe",
      "metadata": {
        "id": "6e5e9dfe"
      },
      "outputs": [],
      "source": [
        "skdata"
      ]
    },
    {
      "cell_type": "code",
      "execution_count": null,
      "id": "2e117fc1",
      "metadata": {
        "id": "2e117fc1"
      },
      "outputs": [],
      "source": [
        "frstvnts = grtdata.groupby([\"EVENT COUNTER\"]).first().TIMESTAMP # min()"
      ]
    },
    {
      "cell_type": "code",
      "execution_count": null,
      "id": "0c3d782d",
      "metadata": {
        "id": "0c3d782d"
      },
      "outputs": [],
      "source": [
        "frstvnts = frstvnts.apply(lambda x: x - 5)"
      ]
    },
    {
      "cell_type": "code",
      "execution_count": null,
      "id": "a054c9fe",
      "metadata": {
        "id": "a054c9fe"
      },
      "outputs": [],
      "source": [
        "frstvnts"
      ]
    },
    {
      "cell_type": "code",
      "execution_count": null,
      "id": "bb6a64e4",
      "metadata": {
        "id": "bb6a64e4"
      },
      "outputs": [],
      "source": [
        "lstvnts = grtdata.groupby([\"EVENT COUNTER\"]).last().TIMESTAMP # max()"
      ]
    },
    {
      "cell_type": "code",
      "execution_count": null,
      "id": "071fa27e",
      "metadata": {
        "id": "071fa27e"
      },
      "outputs": [],
      "source": [
        "lstvnts = lstvnts.apply(lambda x: x + 5)"
      ]
    },
    {
      "cell_type": "code",
      "execution_count": null,
      "id": "c57102d4",
      "metadata": {
        "id": "c57102d4"
      },
      "outputs": [],
      "source": [
        "lstvnts"
      ]
    },
    {
      "cell_type": "code",
      "execution_count": null,
      "id": "18aee09d",
      "metadata": {
        "id": "18aee09d"
      },
      "outputs": [],
      "source": [
        "vntsfltrs = list(zip(list(frstvnts),list(lstvnts)))"
      ]
    },
    {
      "cell_type": "code",
      "execution_count": null,
      "id": "4b1a4fab",
      "metadata": {
        "id": "4b1a4fab"
      },
      "outputs": [],
      "source": [
        "vntsfltrs"
      ]
    },
    {
      "cell_type": "code",
      "execution_count": null,
      "id": "75115437",
      "metadata": {
        "id": "75115437"
      },
      "outputs": [],
      "source": [
        "fltrs1 = list(map(lambda a: \"@filtrato[0] >= {} and @filtrato[0] <= {}\".format(a[0], a[1]), vntsfltrs))"
      ]
    },
    {
      "cell_type": "code",
      "execution_count": null,
      "id": "7b3b112a",
      "metadata": {
        "id": "7b3b112a"
      },
      "outputs": [],
      "source": [
        "fltrs1"
      ]
    },
    {
      "cell_type": "code",
      "execution_count": null,
      "id": "510f2461",
      "metadata": {
        "id": "510f2461"
      },
      "outputs": [],
      "source": [
        "skdata"
      ]
    },
    {
      "cell_type": "code",
      "execution_count": null,
      "id": "e5a4d1fd",
      "metadata": {
        "id": "e5a4d1fd"
      },
      "outputs": [],
      "source": [
        "tmpdf = pd.DataFrame()\n",
        "for i in fltrs1:\n",
        "    filtrato = skdata\n",
        "    #tmpdf = tmpdf.append(filtrato.query(i))\n",
        "    tmpdf = pd.concat([tmpdf,filtrato.query(i)])"
      ]
    },
    {
      "cell_type": "code",
      "execution_count": null,
      "id": "0c0d7944",
      "metadata": {
        "scrolled": true,
        "id": "0c0d7944"
      },
      "outputs": [],
      "source": [
        "len(tmpdf)"
      ]
    },
    {
      "cell_type": "code",
      "execution_count": null,
      "id": "a0b31bf0-9c1f-4894-8cb2-34a7e42ab517",
      "metadata": {
        "id": "a0b31bf0-9c1f-4894-8cb2-34a7e42ab517"
      },
      "outputs": [],
      "source": [
        "sum(tmpdf[10])"
      ]
    },
    {
      "cell_type": "markdown",
      "id": "329122a8",
      "metadata": {
        "id": "329122a8"
      },
      "source": []
    },
    {
      "cell_type": "markdown",
      "id": "a228400a",
      "metadata": {
        "id": "a228400a"
      },
      "source": [
        "## NETWORK TRAFFIC OUTGOING SMART DEVICE"
      ]
    },
    {
      "cell_type": "markdown",
      "id": "9aee4b55",
      "metadata": {
        "id": "9aee4b55"
      },
      "source": [
        "#### filtering the pcap upon smart devices mac address"
      ]
    },
    {
      "cell_type": "markdown",
      "id": "f5dde897",
      "metadata": {
        "id": "f5dde897"
      },
      "source": []
    },
    {
      "cell_type": "code",
      "execution_count": null,
      "id": "dfe5d587",
      "metadata": {
        "id": "dfe5d587"
      },
      "outputs": [],
      "source": [
        "lblsel = 'label3'"
      ]
    },
    {
      "cell_type": "code",
      "execution_count": null,
      "id": "685922db",
      "metadata": {
        "id": "685922db"
      },
      "outputs": [],
      "source": [
        "skdata = tmpdf"
      ]
    },
    {
      "cell_type": "code",
      "execution_count": null,
      "id": "294f28ae",
      "metadata": {
        "id": "294f28ae"
      },
      "outputs": [],
      "source": [
        "len(skdata)"
      ]
    },
    {
      "cell_type": "code",
      "execution_count": null,
      "id": "e051b01f",
      "metadata": {
        "id": "e051b01f"
      },
      "outputs": [],
      "source": [
        "skdata.take(range(0,10))"
      ]
    },
    {
      "cell_type": "code",
      "execution_count": null,
      "id": "a62a4cea",
      "metadata": {
        "id": "a62a4cea"
      },
      "outputs": [],
      "source": [
        "pino = eval(lblsel).get(\"mac\").lower()\n",
        "\n",
        "# TRAFFICO IN USCITA DA DISPOSITIVO VERSO L'ESTERNO\n",
        "skinit = skdata.query(\"@skdata[1] == '{}'\".format(pino))"
      ]
    },
    {
      "cell_type": "code",
      "execution_count": null,
      "id": "d3ce5775",
      "metadata": {
        "id": "d3ce5775"
      },
      "outputs": [],
      "source": [
        "skinit"
      ]
    },
    {
      "cell_type": "code",
      "execution_count": null,
      "id": "37975fe5",
      "metadata": {
        "id": "37975fe5"
      },
      "outputs": [],
      "source": [
        "len(skinit)"
      ]
    },
    {
      "cell_type": "code",
      "execution_count": null,
      "id": "affa5afe-d648-4591-a97c-5a8a0671da94",
      "metadata": {
        "id": "affa5afe-d648-4591-a97c-5a8a0671da94"
      },
      "outputs": [],
      "source": [
        "sum(skinit[10])"
      ]
    },
    {
      "cell_type": "code",
      "execution_count": null,
      "id": "68432496",
      "metadata": {
        "id": "68432496"
      },
      "outputs": [],
      "source": [
        "skcleanse=skinit.fillna(0)"
      ]
    },
    {
      "cell_type": "code",
      "execution_count": null,
      "id": "aae3b5ac",
      "metadata": {
        "id": "aae3b5ac"
      },
      "outputs": [],
      "source": [
        "skcleanse.take(range(0,10))"
      ]
    },
    {
      "cell_type": "code",
      "execution_count": null,
      "id": "84d5f0dd",
      "metadata": {
        "id": "84d5f0dd"
      },
      "outputs": [],
      "source": [
        "def remap(mtup):\n",
        "    # OUTGOING\n",
        "    # [ time, mac address smart device, src port, fdqn/ip remote host, dst port, protocol, frame length ]\n",
        "\n",
        "    # IP not defined => Layer 2 protocol\n",
        "    if mtup[2] == 0 and mtup[6] == 0:\n",
        "        mtup[[2,3,4,5,6]] = [mtup[3],mtup[5],mtup[7],mtup[9],mtup[10]]\n",
        "        return mtup[range(0,7)]\n",
        "\n",
        "    # IP defined, but not TCP port => Layer 3 and 4 UDP protocol\n",
        "    if mtup[4] == 0 and mtup[8] == 0:\n",
        "        mtup[[2,3,4,5,6]] = [mtup[3],mtup[6],mtup[7],mtup[9],mtup[10]]\n",
        "        return mtup[range(0,7)]\n",
        "\n",
        "    # IP defined, TCP port defined => Layer 3 and 4 TCP protocol\n",
        "    mtup[[2,3,4,5,6]] = [mtup[4],mtup[6],mtup[8],mtup[9],mtup[10]]\n",
        "\n",
        "    return mtup[range(0,7)]"
      ]
    },
    {
      "cell_type": "code",
      "execution_count": null,
      "id": "4bd1efc8",
      "metadata": {
        "id": "4bd1efc8"
      },
      "outputs": [],
      "source": [
        "sklbl = skcleanse.apply(lambda x: remap(x), axis=1)"
      ]
    },
    {
      "cell_type": "code",
      "execution_count": null,
      "id": "3512d8db",
      "metadata": {
        "id": "3512d8db"
      },
      "outputs": [],
      "source": [
        "sklbl"
      ]
    },
    {
      "cell_type": "code",
      "execution_count": null,
      "id": "c5decf62",
      "metadata": {
        "id": "c5decf62"
      },
      "outputs": [],
      "source": [
        "def getfqdn(ip):\n",
        "    try:\n",
        "        return socket.gethostbyaddr(ip)[0]\n",
        "        #return str(dns.Resolver().resolve_address(ip)[0])\n",
        "    except Exception as e:\n",
        "        return ip"
      ]
    },
    {
      "cell_type": "code",
      "execution_count": null,
      "id": "fba25cef-6e3e-44c4-a13a-b6a150b7cc06",
      "metadata": {
        "id": "fba25cef-6e3e-44c4-a13a-b6a150b7cc06"
      },
      "outputs": [],
      "source": [
        "#dns1 = dns.Resolver()\n",
        "#dns1.nameservers = ['1.1.1.1','1.0.0.1','208.67.222.222','208.67.220.220','4.4.4.4','8.8.4.4']\n",
        "#print(dns1.nameservers)\n",
        "#print(dns1.resolve_address('18.203.82.110')[0])\n",
        "#print(dns1.resolve_address('54.155.237.177')[0])"
      ]
    },
    {
      "cell_type": "code",
      "execution_count": null,
      "id": "f4e1d089",
      "metadata": {
        "id": "f4e1d089"
      },
      "outputs": [],
      "source": [
        "tic = time.time()\n",
        "\n",
        "cns = sklbl.apply(lambda x: getfqdn(x[3]), axis=1)\n",
        "\n",
        "toc = time.time()\n",
        "elapsed = toc - tic"
      ]
    },
    {
      "cell_type": "code",
      "execution_count": null,
      "id": "6e60b196",
      "metadata": {
        "id": "6e60b196"
      },
      "outputs": [],
      "source": [
        "elapsed"
      ]
    },
    {
      "cell_type": "code",
      "execution_count": null,
      "id": "0cdc546b",
      "metadata": {
        "id": "0cdc546b"
      },
      "outputs": [],
      "source": [
        "cns"
      ]
    },
    {
      "cell_type": "code",
      "source": [
        "cns = cns.apply(lambda x: \"*.amazonaws.com.\" if re.match(\".*.compute.amazonaws.com\", x) else x)"
      ],
      "metadata": {
        "id": "ihj_an-stMaY"
      },
      "id": "ihj_an-stMaY",
      "execution_count": null,
      "outputs": []
    },
    {
      "cell_type": "code",
      "source": [
        "cns"
      ],
      "metadata": {
        "id": "3w_cDrMMtNhM"
      },
      "id": "3w_cDrMMtNhM",
      "execution_count": null,
      "outputs": []
    },
    {
      "cell_type": "code",
      "execution_count": null,
      "id": "0871626f",
      "metadata": {
        "id": "0871626f"
      },
      "outputs": [],
      "source": [
        "# sklbl[9] = cns\n",
        "sklbl.insert(7,7,cns)"
      ]
    },
    {
      "cell_type": "code",
      "execution_count": null,
      "id": "6efa5f94",
      "metadata": {
        "id": "6efa5f94"
      },
      "outputs": [],
      "source": [
        "sklbl[2]= sklbl.apply(lambda x: int(x[2]), axis=1)\n",
        "sklbl[4]= sklbl.apply(lambda x: int(x[4]), axis=1)"
      ]
    },
    {
      "cell_type": "code",
      "execution_count": null,
      "id": "711f2c34",
      "metadata": {
        "id": "711f2c34"
      },
      "outputs": [],
      "source": [
        "sklbl"
      ]
    },
    {
      "cell_type": "code",
      "execution_count": null,
      "id": "d44025ed",
      "metadata": {
        "id": "d44025ed"
      },
      "outputs": [],
      "source": [
        "sklayer34 = sklbl.query(\"@sklbl[2] != 0 and @sklbl[4] != 0\")"
      ]
    },
    {
      "cell_type": "code",
      "execution_count": null,
      "id": "7b801e92",
      "metadata": {
        "id": "7b801e92"
      },
      "outputs": [],
      "source": [
        "sklayer34"
      ]
    },
    {
      "cell_type": "code",
      "execution_count": null,
      "id": "d85592b0",
      "metadata": {
        "id": "d85592b0"
      },
      "outputs": [],
      "source": [
        "sklayer2 = sklbl.query(\"@sklbl[2] == 0 and @sklbl[4] == 0\")"
      ]
    },
    {
      "cell_type": "code",
      "execution_count": null,
      "id": "3e850dc9",
      "metadata": {
        "id": "3e850dc9"
      },
      "outputs": [],
      "source": [
        "sklayer2"
      ]
    },
    {
      "cell_type": "code",
      "execution_count": null,
      "id": "fbed41ea",
      "metadata": {
        "id": "fbed41ea"
      },
      "outputs": [],
      "source": [
        "processedList = [ i for i in sklbl.apply(lambda x: x[1], axis=1).drop_duplicates().values.tolist() ]\n",
        "out = [ processedList.append(i) for i in sklbl.apply(lambda x: x[7], axis=1).drop_duplicates().values.tolist() ]\n",
        "out = [ processedList.append(i) for i in sklayer34.apply(lambda x: x[2], axis=1).drop_duplicates().values.tolist() ]\n",
        "out = [ processedList.append(i) for i in sklayer34.apply(lambda x: x[4], axis=1).drop_duplicates().values.tolist() ]\n",
        "out = [ processedList.append(i) for i in sklbl.apply(lambda x: x[5], axis=1).drop_duplicates().values.tolist() ]"
      ]
    },
    {
      "cell_type": "code",
      "execution_count": null,
      "id": "fcb257dc",
      "metadata": {
        "id": "fcb257dc"
      },
      "outputs": [],
      "source": [
        "processedList"
      ]
    },
    {
      "cell_type": "code",
      "execution_count": null,
      "id": "ffb2c169",
      "metadata": {
        "id": "ffb2c169"
      },
      "outputs": [],
      "source": [
        "processedList1 = [ i for i in sklbl.apply(lambda x: x[1], axis=1).drop_duplicates().values.tolist() ]\n",
        "processedList2 = [ i for i in sklbl.apply(lambda x: x[7], axis=1).drop_duplicates().values.tolist() ]\n",
        "processedList3 = [ i for i in sklayer34.apply(lambda x: x[2], axis=1).drop_duplicates().values.tolist() ]\n",
        "processedList4 = [ i for i in sklayer34.apply(lambda x: x[4], axis=1).drop_duplicates().values.tolist() ]\n",
        "processedList5 = [ i for i in sklbl.apply(lambda x: x[5], axis=1).drop_duplicates().values.tolist() ]"
      ]
    },
    {
      "cell_type": "code",
      "execution_count": null,
      "id": "e676d33e",
      "metadata": {
        "id": "e676d33e"
      },
      "outputs": [],
      "source": [
        "processedList1"
      ]
    },
    {
      "cell_type": "code",
      "execution_count": null,
      "id": "f1d8d202",
      "metadata": {
        "id": "f1d8d202"
      },
      "outputs": [],
      "source": [
        "processedList2"
      ]
    },
    {
      "cell_type": "code",
      "execution_count": null,
      "id": "c0d27a78",
      "metadata": {
        "id": "c0d27a78"
      },
      "outputs": [],
      "source": [
        "processedList3"
      ]
    },
    {
      "cell_type": "code",
      "execution_count": null,
      "id": "5ebfbdeb",
      "metadata": {
        "id": "5ebfbdeb"
      },
      "outputs": [],
      "source": [
        "processedList4"
      ]
    },
    {
      "cell_type": "code",
      "execution_count": null,
      "id": "e395106d",
      "metadata": {
        "id": "e395106d"
      },
      "outputs": [],
      "source": [
        "processedList5"
      ]
    },
    {
      "cell_type": "code",
      "execution_count": null,
      "id": "585d5de4",
      "metadata": {
        "id": "585d5de4"
      },
      "outputs": [],
      "source": [
        "mapidxs1 = { i: processedList1.index(i) for i in processedList1 }\n",
        "mapidxs2 = { i: processedList2.index(i) + len(processedList1) for i in processedList2 }\n",
        "mapidxs3 = { i: processedList3.index(i) + len(processedList1) + len(processedList2) for i in processedList3 }\n",
        "mapidxs4 = { i: processedList4.index(i) + len(processedList1) + len(processedList2) + len(processedList3) for i in processedList4 }\n",
        "mapidxs5 = { i: processedList5.index(i) + len(processedList1) + len(processedList2) + len(processedList3) + len(processedList4) for i in processedList5 }"
      ]
    },
    {
      "cell_type": "code",
      "execution_count": null,
      "id": "24d84530",
      "metadata": {
        "id": "24d84530"
      },
      "outputs": [],
      "source": [
        "mapidxs1"
      ]
    },
    {
      "cell_type": "code",
      "execution_count": null,
      "id": "a77fb611",
      "metadata": {
        "id": "a77fb611"
      },
      "outputs": [],
      "source": [
        "mapidxs2"
      ]
    },
    {
      "cell_type": "code",
      "execution_count": null,
      "id": "9ac0a3c4",
      "metadata": {
        "id": "9ac0a3c4"
      },
      "outputs": [],
      "source": [
        "mapidxs3"
      ]
    },
    {
      "cell_type": "code",
      "execution_count": null,
      "id": "e5226df1",
      "metadata": {
        "id": "e5226df1"
      },
      "outputs": [],
      "source": [
        "mapidxs4"
      ]
    },
    {
      "cell_type": "code",
      "execution_count": null,
      "id": "e12abeaa",
      "metadata": {
        "id": "e12abeaa"
      },
      "outputs": [],
      "source": [
        "mapidxs5"
      ]
    },
    {
      "cell_type": "code",
      "execution_count": null,
      "id": "1aad94c6",
      "metadata": {
        "id": "1aad94c6"
      },
      "outputs": [],
      "source": [
        "lbllbl = processedList"
      ]
    },
    {
      "cell_type": "code",
      "execution_count": null,
      "id": "5001d181",
      "metadata": {
        "id": "5001d181"
      },
      "outputs": [],
      "source": [
        "lbllbl"
      ]
    },
    {
      "cell_type": "code",
      "execution_count": null,
      "id": "9ac989b3",
      "metadata": {
        "id": "9ac989b3"
      },
      "outputs": [],
      "source": [
        "# FLOW 1 => FROM SRC SMART DEVICE MAC ADDRESS TO DST REMOTE IP ADDRESS (TCP/IP STACK LAYER 3 AND 4)\n",
        "srclbl = [ mapidxs1.get(i[0]) for i in sklayer34.groupby([1,7]).count().index ]\n",
        "trgtlbl = [ mapidxs2.get(i[1]) for i in sklayer34.groupby([1,7]).count().index ]\n",
        "vllbl = [ i for i in sklayer34.groupby([1,7]).sum()[6].values ]"
      ]
    },
    {
      "cell_type": "code",
      "execution_count": null,
      "id": "8ebb4bb7",
      "metadata": {
        "id": "8ebb4bb7"
      },
      "outputs": [],
      "source": [
        "# FLOW 2 => FROM DST REMOTE IP ADDRESS TO SRC SMART DEVICE PORT (TCP/IP STACK LAYER 3 AND 4)\n",
        "out = [ srclbl.append(mapidxs2.get(i[0])) for i in sklayer34.groupby([7,2]).count().index ]\n",
        "out = [ trgtlbl.append(mapidxs3.get(i[1])) for i in sklayer34.groupby([7,2]).count().index ]\n",
        "out = [ vllbl.append(i) for i in sklayer34.groupby([7,2]).sum()[6].values ]"
      ]
    },
    {
      "cell_type": "code",
      "execution_count": null,
      "id": "324be422",
      "metadata": {
        "id": "324be422"
      },
      "outputs": [],
      "source": [
        "# FLOW 3 => FROM SRC SMART DEVICE PORT TO DST REMOTE PORT (TCP/IP STACK LAYER 3 AND 4)\n",
        "out = [ srclbl.append(mapidxs3.get(i[0])) for i in sklayer34.groupby([2,4]).count().index ]\n",
        "out = [ trgtlbl.append(mapidxs4.get(i[1])) for i in sklayer34.groupby([2,4]).count().index ]\n",
        "out = [ vllbl.append(i) for i in sklayer34.groupby([2,4]).sum()[6].values ]"
      ]
    },
    {
      "cell_type": "code",
      "execution_count": null,
      "id": "5287d686",
      "metadata": {
        "id": "5287d686"
      },
      "outputs": [],
      "source": [
        "# FLOW 4 => FROM DST REMOTE PORT TO PROTOCOL USED (TCP/IP STACK LAYER 3 AND 4)\n",
        "out = [ srclbl.append(mapidxs4.get(i[0])) for i in sklayer34.groupby([4,5]).count().index ]\n",
        "out = [ trgtlbl.append(mapidxs5.get(i[1])) for i in sklayer34.groupby([4,5]).count().index ]\n",
        "out = [ vllbl.append(i) for i in sklayer34.groupby([4,5]).sum()[6].values ]"
      ]
    },
    {
      "cell_type": "code",
      "execution_count": null,
      "id": "b88a1c56",
      "metadata": {
        "id": "b88a1c56"
      },
      "outputs": [],
      "source": [
        "# FLOW 5 => FROM SRC SMART DEVICE MAC ADDRESS TO DST REMOTE MAC ADDRESS (TCP/IP STACK LAYER 2)\n",
        "out = [ srclbl.append(mapidxs1.get(i[0])) for i in sklayer2.groupby([1,7]).count().index ]\n",
        "out = [ trgtlbl.append(mapidxs2.get(i[1])) for i in sklayer2.groupby([1,7]).count().index ]\n",
        "out = [ vllbl.append(i) for i in sklayer2.groupby([1,7]).sum()[6].values ]"
      ]
    },
    {
      "cell_type": "code",
      "execution_count": null,
      "id": "fa50f149",
      "metadata": {
        "id": "fa50f149"
      },
      "outputs": [],
      "source": [
        "# FLOW 6 => FROM DST REMOTE MAC ADDRESS TO PROTOCOL USED (TCP/IP STACK LAYER 2)\n",
        "out = [ srclbl.append(mapidxs2.get(i[0])) for i in sklayer2.groupby([7,5]).count().index ]\n",
        "out = [ trgtlbl.append(mapidxs5.get(i[1])) for i in sklayer2.groupby([7,5]).count().index ]\n",
        "out = [ vllbl.append(i) for i in sklayer2.groupby([7,5]).sum()[6].values ]"
      ]
    },
    {
      "cell_type": "code",
      "execution_count": null,
      "id": "f3ae582c",
      "metadata": {
        "id": "f3ae582c"
      },
      "outputs": [],
      "source": [
        "nodeclrs = [\n",
        "    \"turquoise\" for i in sklbl.apply(lambda x: x[1], axis=1).drop_duplicates().values.tolist()\n",
        "]\n",
        "out = [ nodeclrs.append(\"limegreen\") for i in sklbl.apply(lambda x: x[7], axis=1).drop_duplicates().values.tolist()]\n",
        "out = [ nodeclrs.append(\"green\") for i in sklayer34.apply(lambda x: x[2], axis=1).drop_duplicates().values.tolist() ]\n",
        "out = [ nodeclrs.append(\"salmon\") for i in sklayer34.apply(lambda x: x[4], axis=1).drop_duplicates().values.tolist() ]\n",
        "out = [ nodeclrs.append(\"deeppink\") for i in sklbl.apply(lambda x: x[5], axis=1).drop_duplicates().values.tolist() ]\n",
        "\n",
        "linkclrs=[\n",
        "    \"silver\" for i in trgtlbl\n",
        "]"
      ]
    },
    {
      "cell_type": "code",
      "execution_count": null,
      "id": "881d9855",
      "metadata": {
        "id": "881d9855"
      },
      "outputs": [],
      "source": [
        "fig = go.Figure(data=[go.Sankey(\n",
        "    valuesuffix = \"Bytes\",\n",
        "    node = dict(\n",
        "      pad = 20,\n",
        "      thickness = 20,\n",
        "      line = dict(color = \"black\", width = .5),\n",
        "      label = lbllbl\n",
        "    ),\n",
        "    link = dict(\n",
        "      source = srclbl,\n",
        "      target = trgtlbl,\n",
        "      value = vllbl\n",
        "  ))])\n",
        "\n",
        "\n",
        "fig.update_layout(width=1000,height=700,title_text=\"Network Events Traffic Outgoing for {} {} {}\".format(eval(lblsel).get(\"app\"),eval(lblsel).get(\"device\"),eval(lblsel).get(\"name\")), font_size=20)\n",
        "fig.update_traces(node_color=nodeclrs,link_color=linkclrs)\n",
        "#fig.write_image(file=\"/content/drive/MyDrive/Thesis - Computer Science and Engineering - Master's degree/datasets/sankey/fig1.png\",format='png',engine='orca')\n",
        "fig.show()"
      ]
    },
    {
      "cell_type": "markdown",
      "id": "469f97e0",
      "metadata": {
        "id": "469f97e0"
      },
      "source": []
    },
    {
      "cell_type": "markdown",
      "id": "3f19571c",
      "metadata": {
        "id": "3f19571c"
      },
      "source": [
        "## NETWORK TRAFFIC INCOMING SMART DEVICE"
      ]
    },
    {
      "cell_type": "markdown",
      "id": "d1096133",
      "metadata": {
        "id": "d1096133"
      },
      "source": []
    },
    {
      "cell_type": "code",
      "execution_count": null,
      "id": "9ea84796",
      "metadata": {
        "id": "9ea84796"
      },
      "outputs": [],
      "source": [
        "lblsel = 'label4'"
      ]
    },
    {
      "cell_type": "code",
      "execution_count": null,
      "id": "14badd67",
      "metadata": {
        "id": "14badd67"
      },
      "outputs": [],
      "source": [
        "skdata = tmpdf"
      ]
    },
    {
      "cell_type": "code",
      "execution_count": null,
      "id": "a1ea27e7",
      "metadata": {
        "id": "a1ea27e7"
      },
      "outputs": [],
      "source": [
        "len(skdata)"
      ]
    },
    {
      "cell_type": "code",
      "execution_count": null,
      "id": "a2ca8d0e",
      "metadata": {
        "id": "a2ca8d0e"
      },
      "outputs": [],
      "source": [
        "skdata.take(range(0,10))"
      ]
    },
    {
      "cell_type": "code",
      "execution_count": null,
      "id": "c5f8c2a8",
      "metadata": {
        "id": "c5f8c2a8"
      },
      "outputs": [],
      "source": [
        "pino = eval(lblsel).get(\"mac\").lower()\n",
        "\n",
        "# TRAFFICO IN ENTRATA VERSO IL DISPOSITIVO DALL'ESTERNO\n",
        "skinit = skdata.query(\"@skdata[5] == '{}'\".format(pino))"
      ]
    },
    {
      "cell_type": "code",
      "execution_count": null,
      "id": "95add5e3",
      "metadata": {
        "id": "95add5e3"
      },
      "outputs": [],
      "source": [
        "skinit"
      ]
    },
    {
      "cell_type": "code",
      "execution_count": null,
      "id": "f430493a",
      "metadata": {
        "id": "f430493a"
      },
      "outputs": [],
      "source": [
        "len(skinit)"
      ]
    },
    {
      "cell_type": "code",
      "execution_count": null,
      "id": "4bcc566d-3f79-40af-9d39-c0135ef894de",
      "metadata": {
        "id": "4bcc566d-3f79-40af-9d39-c0135ef894de"
      },
      "outputs": [],
      "source": [
        "sum(skinit[10])"
      ]
    },
    {
      "cell_type": "code",
      "execution_count": null,
      "id": "b808644a",
      "metadata": {
        "id": "b808644a"
      },
      "outputs": [],
      "source": [
        "skcleanse=skinit.fillna(0)"
      ]
    },
    {
      "cell_type": "code",
      "execution_count": null,
      "id": "5e145823",
      "metadata": {
        "id": "5e145823"
      },
      "outputs": [],
      "source": [
        "skcleanse.take(range(0,10))"
      ]
    },
    {
      "cell_type": "code",
      "execution_count": null,
      "id": "e9a609e3",
      "metadata": {
        "id": "e9a609e3"
      },
      "outputs": [],
      "source": [
        "def remap(mtup):\n",
        "    # INGOING\n",
        "    # [ time, fdqn/ip remote host, src port, mac address smart device, dst port, protocol, frame length ]\n",
        "\n",
        "    # IP not defined => Layer 2 protocol\n",
        "    if mtup[2] == 0 and mtup[6] == 0:\n",
        "        mtup[[2,3,4,5,6]] = [mtup[3],mtup[5],mtup[7],mtup[9],mtup[10]]\n",
        "        return mtup[range(0,7)]\n",
        "\n",
        "    # IP defined, but not TCP port => Layer 3 and 4 UDP protocol\n",
        "    if mtup[4] == 0 and mtup[8] == 0:\n",
        "        mtup[[1,2,3,4,5,6]] = [mtup[2],mtup[3],mtup[5],mtup[7],mtup[9],mtup[10]]\n",
        "        return mtup[range(0,7)]\n",
        "\n",
        "    # IP defined, TCP port defined => Layer 3 and 4 TCP protocol\n",
        "    mtup[[1,2,3,4,5,6]] = [mtup[2],mtup[4],mtup[5],mtup[8],mtup[9],mtup[10]]\n",
        "\n",
        "    return mtup[range(0,7)]"
      ]
    },
    {
      "cell_type": "code",
      "execution_count": null,
      "id": "bc4c95c3",
      "metadata": {
        "id": "bc4c95c3"
      },
      "outputs": [],
      "source": [
        "sklbl = skcleanse.apply(lambda x: remap(x), axis=1)"
      ]
    },
    {
      "cell_type": "code",
      "execution_count": null,
      "id": "ea04d94f",
      "metadata": {
        "id": "ea04d94f"
      },
      "outputs": [],
      "source": [
        "sklbl"
      ]
    },
    {
      "cell_type": "code",
      "execution_count": null,
      "id": "ea27be00",
      "metadata": {
        "id": "ea27be00"
      },
      "outputs": [],
      "source": [
        "def getfqdn(ip):\n",
        "    try:\n",
        "        #return socket.gethostbyaddr(ip)[0]\n",
        "        return str(dns.Resolver().resolve_address(ip)[0])\n",
        "    except Exception as e:\n",
        "        return ip"
      ]
    },
    {
      "cell_type": "code",
      "execution_count": null,
      "id": "e13e0c1b",
      "metadata": {
        "id": "e13e0c1b"
      },
      "outputs": [],
      "source": [
        "tic = time.time()\n",
        "\n",
        "cns = sklbl.apply(lambda x: getfqdn(x[1]), axis=1)\n",
        "\n",
        "toc = time.time()\n",
        "elapsed = toc - tic"
      ]
    },
    {
      "cell_type": "code",
      "execution_count": null,
      "id": "e5918bad",
      "metadata": {
        "id": "e5918bad"
      },
      "outputs": [],
      "source": [
        "elapsed"
      ]
    },
    {
      "cell_type": "code",
      "execution_count": null,
      "id": "ccd17a40",
      "metadata": {
        "id": "ccd17a40"
      },
      "outputs": [],
      "source": [
        "cns"
      ]
    },
    {
      "cell_type": "code",
      "execution_count": null,
      "id": "ce32c7c0",
      "metadata": {
        "id": "ce32c7c0"
      },
      "outputs": [],
      "source": [
        "# sklbl[9] = cns\n",
        "sklbl.insert(7,7,cns)"
      ]
    },
    {
      "cell_type": "code",
      "execution_count": null,
      "id": "e39f74b0",
      "metadata": {
        "id": "e39f74b0"
      },
      "outputs": [],
      "source": [
        "sklbl[2]= sklbl.apply(lambda x: int(x[2]), axis=1)\n",
        "sklbl[4]= sklbl.apply(lambda x: int(x[4]), axis=1)"
      ]
    },
    {
      "cell_type": "code",
      "execution_count": null,
      "id": "e932819f",
      "metadata": {
        "id": "e932819f"
      },
      "outputs": [],
      "source": [
        "sklbl"
      ]
    },
    {
      "cell_type": "code",
      "execution_count": null,
      "id": "84b297bf",
      "metadata": {
        "id": "84b297bf"
      },
      "outputs": [],
      "source": [
        "sklayer34 = sklbl.query(\"@sklbl[2] != 0 and @sklbl[4] != 0\")"
      ]
    },
    {
      "cell_type": "code",
      "execution_count": null,
      "id": "19549416",
      "metadata": {
        "id": "19549416"
      },
      "outputs": [],
      "source": [
        "sklayer34"
      ]
    },
    {
      "cell_type": "code",
      "execution_count": null,
      "id": "449544cd",
      "metadata": {
        "id": "449544cd"
      },
      "outputs": [],
      "source": [
        "sklayer2 = sklbl.query(\"@sklbl[2] == 0 and @sklbl[4] == 0\")"
      ]
    },
    {
      "cell_type": "code",
      "execution_count": null,
      "id": "6d0325c2",
      "metadata": {
        "id": "6d0325c2"
      },
      "outputs": [],
      "source": [
        "sklayer2"
      ]
    },
    {
      "cell_type": "code",
      "execution_count": null,
      "id": "ab5b1fc5",
      "metadata": {
        "id": "ab5b1fc5"
      },
      "outputs": [],
      "source": [
        "processedList = [ i for i in sklbl.apply(lambda x: x[7], axis=1).drop_duplicates().values.tolist() ]\n",
        "out = [ processedList.append(i) for i in sklbl.apply(lambda x: x[3], axis=1).drop_duplicates().values.tolist() ]\n",
        "out = [ processedList.append(i) for i in sklayer34.apply(lambda x: x[2], axis=1).drop_duplicates().values.tolist() ]\n",
        "out = [ processedList.append(i) for i in sklayer34.apply(lambda x: x[4], axis=1).drop_duplicates().values.tolist() ]\n",
        "out = [ processedList.append(i) for i in sklbl.apply(lambda x: x[5], axis=1).drop_duplicates().values.tolist() ]"
      ]
    },
    {
      "cell_type": "code",
      "execution_count": null,
      "id": "78150e90",
      "metadata": {
        "id": "78150e90"
      },
      "outputs": [],
      "source": [
        "processedList"
      ]
    },
    {
      "cell_type": "code",
      "execution_count": null,
      "id": "9f9e0b47",
      "metadata": {
        "id": "9f9e0b47"
      },
      "outputs": [],
      "source": [
        "processedList1 = [ i for i in sklbl.apply(lambda x: x[7], axis=1).drop_duplicates().values.tolist() ]\n",
        "processedList2 = [ i for i in sklbl.apply(lambda x: x[3], axis=1).drop_duplicates().values.tolist() ]\n",
        "processedList3 = [ i for i in sklayer34.apply(lambda x: x[2], axis=1).drop_duplicates().values.tolist() ]\n",
        "processedList4 = [ i for i in sklayer34.apply(lambda x: x[4], axis=1).drop_duplicates().values.tolist() ]\n",
        "processedList5 = [ i for i in sklbl.apply(lambda x: x[5], axis=1).drop_duplicates().values.tolist() ]"
      ]
    },
    {
      "cell_type": "code",
      "execution_count": null,
      "id": "797de211",
      "metadata": {
        "id": "797de211"
      },
      "outputs": [],
      "source": [
        "processedList1"
      ]
    },
    {
      "cell_type": "code",
      "execution_count": null,
      "id": "34ec8b21",
      "metadata": {
        "id": "34ec8b21"
      },
      "outputs": [],
      "source": [
        "processedList2"
      ]
    },
    {
      "cell_type": "code",
      "execution_count": null,
      "id": "e50843e8",
      "metadata": {
        "id": "e50843e8"
      },
      "outputs": [],
      "source": [
        "processedList3"
      ]
    },
    {
      "cell_type": "code",
      "execution_count": null,
      "id": "d2aca009",
      "metadata": {
        "id": "d2aca009"
      },
      "outputs": [],
      "source": [
        "processedList4"
      ]
    },
    {
      "cell_type": "code",
      "execution_count": null,
      "id": "bf344314",
      "metadata": {
        "id": "bf344314"
      },
      "outputs": [],
      "source": [
        "processedList5"
      ]
    },
    {
      "cell_type": "code",
      "execution_count": null,
      "id": "e09fbe48",
      "metadata": {
        "id": "e09fbe48"
      },
      "outputs": [],
      "source": [
        "mapidxs1 = { i: processedList1.index(i) for i in processedList1 }\n",
        "mapidxs2 = { i: processedList2.index(i) + len(processedList1) for i in processedList2 }\n",
        "mapidxs3 = { i: processedList3.index(i) + len(processedList1) + len(processedList2) for i in processedList3 }\n",
        "mapidxs4 = { i: processedList4.index(i) + len(processedList1) + len(processedList2) + len(processedList3) for i in processedList4 }\n",
        "mapidxs5 = { i: processedList5.index(i) + len(processedList1) + len(processedList2) + len(processedList3) + len(processedList4) for i in processedList5 }"
      ]
    },
    {
      "cell_type": "code",
      "execution_count": null,
      "id": "14d2a926",
      "metadata": {
        "id": "14d2a926"
      },
      "outputs": [],
      "source": [
        "mapidxs1"
      ]
    },
    {
      "cell_type": "code",
      "execution_count": null,
      "id": "2b4fd360",
      "metadata": {
        "id": "2b4fd360"
      },
      "outputs": [],
      "source": [
        "mapidxs2"
      ]
    },
    {
      "cell_type": "code",
      "execution_count": null,
      "id": "d65e440a",
      "metadata": {
        "id": "d65e440a"
      },
      "outputs": [],
      "source": [
        "mapidxs3"
      ]
    },
    {
      "cell_type": "code",
      "execution_count": null,
      "id": "5b7904de",
      "metadata": {
        "id": "5b7904de"
      },
      "outputs": [],
      "source": [
        "mapidxs4"
      ]
    },
    {
      "cell_type": "code",
      "execution_count": null,
      "id": "e9ffceb6",
      "metadata": {
        "id": "e9ffceb6"
      },
      "outputs": [],
      "source": [
        "mapidxs5"
      ]
    },
    {
      "cell_type": "code",
      "execution_count": null,
      "id": "d371be72",
      "metadata": {
        "id": "d371be72"
      },
      "outputs": [],
      "source": [
        "lbllbl = processedList"
      ]
    },
    {
      "cell_type": "code",
      "execution_count": null,
      "id": "5d89a5f2",
      "metadata": {
        "id": "5d89a5f2"
      },
      "outputs": [],
      "source": [
        "lbllbl"
      ]
    },
    {
      "cell_type": "code",
      "execution_count": null,
      "id": "bde98d0b",
      "metadata": {
        "id": "bde98d0b"
      },
      "outputs": [],
      "source": [
        "# FLOW 1 => FROM SRC REMOTE IP ADDRESS TO DST SMART DEVICE MAC ADDRESS (TCP/IP STACK LAYER 3 AND 4)\n",
        "srclbl = [ mapidxs1.get(i[0]) for i in sklayer34.groupby([7,3]).count().index ]\n",
        "trgtlbl = [ mapidxs2.get(i[1]) for i in sklayer34.groupby([7,3]).count().index ]\n",
        "vllbl = [ i for i in sklayer34.groupby([7,3]).sum()[6].values ]"
      ]
    },
    {
      "cell_type": "code",
      "execution_count": null,
      "id": "b595cf2d",
      "metadata": {
        "id": "b595cf2d"
      },
      "outputs": [],
      "source": [
        "# FLOW 2 => FROM DST SMART DEVICE MAC ADDRESS TO SRC REMOTE IP PORT (TCP/IP STACK LAYER 3 AND 4)\n",
        "out = [ srclbl.append(mapidxs2.get(i[0])) for i in sklayer34.groupby([3,2]).count().index  ]\n",
        "out = [ trgtlbl.append(mapidxs3.get(i[1])) for i in sklayer34.groupby([3,2]).count().index ]\n",
        "out = [ vllbl.append(i) for i in sklayer34.groupby([3,2]).sum()[6].values ]"
      ]
    },
    {
      "cell_type": "code",
      "execution_count": null,
      "id": "f983e9d5",
      "metadata": {
        "id": "f983e9d5"
      },
      "outputs": [],
      "source": [
        "# FLOW 3 => FROM SRC REMOTE IP PORT TO DST SMART DEVICE PORT (TCP/IP STACK LAYER 3 AND 4)\n",
        "out = [ srclbl.append(mapidxs3.get(i[0])) for i in sklayer34.groupby([2,4]).count().index]\n",
        "out = [ trgtlbl.append(mapidxs4.get(i[1])) for i in sklayer34.groupby([2,4]).count().index ]\n",
        "out = [ vllbl.append(i) for i in sklayer34.groupby([2,4]).sum()[6].values ]"
      ]
    },
    {
      "cell_type": "code",
      "execution_count": null,
      "id": "b9e87bb1",
      "metadata": {
        "id": "b9e87bb1"
      },
      "outputs": [],
      "source": [
        "# FLOW 4 => FROM DST SMART DEVICE PORT TO PROTOCOL USED (TCP/IP STACK LAYER 3 AND 4)\n",
        "out = [ srclbl.append(mapidxs4.get(i[0])) for i in sklayer34.groupby([4,5]).count().index ]\n",
        "out = [ trgtlbl.append(mapidxs5.get(i[1])) for i in sklayer34.groupby([4,5]).count().index ]\n",
        "out = [ vllbl.append(i) for i in sklayer34.groupby([4,5]).sum()[6].values ]"
      ]
    },
    {
      "cell_type": "code",
      "execution_count": null,
      "id": "36500363",
      "metadata": {
        "id": "36500363"
      },
      "outputs": [],
      "source": [
        "# FLOW 5 => FROM SRC REMOTE MAC ADDRESS TO DST SMART DEVICE MAC ADDRESS (TCP/IP STACK LAYER 2)\n",
        "out = [ srclbl.append(mapidxs1.get(i[0])) for i in sklayer2.groupby([7,3]).count().index ]\n",
        "out = [ trgtlbl.append(mapidxs2.get(i[1])) for i in sklayer2.groupby([7,3]).count().index ]\n",
        "out = [ vllbl.append(i) for i in sklayer2.groupby([7,3]).sum()[6].values ]"
      ]
    },
    {
      "cell_type": "code",
      "execution_count": null,
      "id": "49c1955e",
      "metadata": {
        "id": "49c1955e"
      },
      "outputs": [],
      "source": [
        "# FLOW 6 => FROM DST SMART DEVICE MAC ADDRESS TO PROTOCOL USED (TCP/IP STACK LAYER 2)\n",
        "out = [ srclbl.append(mapidxs2.get(i[0])) for i in sklayer2.groupby([3,5]).count().index ]\n",
        "out = [ trgtlbl.append(mapidxs5.get(i[1])) for i in sklayer2.groupby([3,5]).count().index ]\n",
        "out = [ vllbl.append(i) for i in sklayer2.groupby([7,5]).sum()[6].values ]"
      ]
    },
    {
      "cell_type": "code",
      "execution_count": null,
      "id": "e2ddb975",
      "metadata": {
        "id": "e2ddb975"
      },
      "outputs": [],
      "source": [
        "nodeclrs = [\n",
        "    \"turquoise\" for i in sklbl.apply(lambda x: x[7], axis=1).drop_duplicates().values.tolist()\n",
        "]\n",
        "out = [ nodeclrs.append(\"limegreen\") for i in sklbl.apply(lambda x: x[3], axis=1).drop_duplicates().values.tolist()]\n",
        "out = [ nodeclrs.append(\"green\") for i in sklayer34.apply(lambda x: x[2], axis=1).drop_duplicates().values.tolist() ]\n",
        "out = [ nodeclrs.append(\"salmon\") for i in sklayer34.apply(lambda x: x[4], axis=1).drop_duplicates().values.tolist() ]\n",
        "out = [ nodeclrs.append(\"deeppink\") for i in sklbl.apply(lambda x: x[5], axis=1).drop_duplicates().values.tolist() ]\n",
        "\n",
        "linkclrs=[\n",
        "    \"silver\" for i in trgtlbl\n",
        "]"
      ]
    },
    {
      "cell_type": "code",
      "execution_count": null,
      "id": "b6acdfe1",
      "metadata": {
        "id": "b6acdfe1"
      },
      "outputs": [],
      "source": [
        "fig = go.Figure(data=[go.Sankey(\n",
        "    valuesuffix = \"Bytes\",\n",
        "    node = dict(\n",
        "      pad = 20,\n",
        "      thickness = 20,\n",
        "      line = dict(color = \"black\", width = .5),\n",
        "      label = lbllbl\n",
        "    ),\n",
        "    link = dict(\n",
        "      source = srclbl,\n",
        "      target = trgtlbl,\n",
        "      value = vllbl,\n",
        "  ))])\n",
        "\n",
        "\n",
        "fig.update_layout(width=1500,height=1000,title_text=\"Network Events Traffic Incoming for {} {} {}\".format(eval(lblsel).get(\"app\"),eval(lblsel).get(\"device\"),eval(lblsel).get(\"name\")), font_size=10)\n",
        "fig.update_traces(node_color=nodeclrs,link_color=linkclrs)\n",
        "fig.write_image(file=\"/content/drive/MyDrive/Thesis - Computer Science and Engineering - Master's degree/datasets/sankey/fig1.png\",format='png',engine='orca')\n",
        "fig.show()"
      ]
    }
  ],
  "metadata": {
    "kernelspec": {
      "display_name": "Python 3 (ipykernel)",
      "language": "python",
      "name": "python3"
    },
    "language_info": {
      "codemirror_mode": {
        "name": "ipython",
        "version": 3
      },
      "file_extension": ".py",
      "mimetype": "text/x-python",
      "name": "python",
      "nbconvert_exporter": "python",
      "pygments_lexer": "ipython3",
      "version": "3.11.6"
    },
    "colab": {
      "provenance": [],
      "include_colab_link": true
    }
  },
  "nbformat": 4,
  "nbformat_minor": 5
}