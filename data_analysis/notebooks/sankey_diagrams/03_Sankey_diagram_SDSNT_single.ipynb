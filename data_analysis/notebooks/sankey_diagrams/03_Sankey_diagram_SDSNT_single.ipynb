{
  "cells": [
    {
      "cell_type": "markdown",
      "metadata": {
        "id": "view-in-github",
        "colab_type": "text"
      },
      "source": [
        "<a href=\"https://colab.research.google.com/github/rhacrsse/AutomIoT/blob/main/data_analysis/notebooks/sankey_diagrams/03_Sankey_diagram_SDSNT_single.ipynb\" target=\"_parent\"><img src=\"https://colab.research.google.com/assets/colab-badge.svg\" alt=\"Open In Colab\"/></a>"
      ]
    },
    {
      "cell_type": "markdown",
      "id": "275ac7e3",
      "metadata": {
        "id": "275ac7e3"
      },
      "source": [
        "# Analisi traffico di rete generato dai dispositivi\n",
        "\n",
        "## Smart Device Spontaneous Network Traffic (SDSNT)\n",
        "\n",
        "## Utilizzo sankey diagrams\n",
        "\n",
        "### SMARTBULB EZVIZ 64:F2:FB:DF:FB:E1 -> LABEL 1\n",
        "### ~~SMARTPLUG EZVIZ 64:F2:FB:48:2C:5B -> LABEL 2~~\n",
        "### SMARTBULB TAPO  00:5F:67:BF:09:EF -> LABEL 3\n",
        "### SMARTPLUG TAPO  E8:48:B8:D6:A8:1D -> LABEL 4"
      ]
    },
    {
      "cell_type": "code",
      "source": [
        "from google.colab import drive\n",
        "drive.mount('/content/drive')"
      ],
      "metadata": {
        "id": "vB6xBwtth7kV"
      },
      "id": "vB6xBwtth7kV",
      "execution_count": null,
      "outputs": []
    },
    {
      "cell_type": "code",
      "execution_count": null,
      "id": "02b92ecf",
      "metadata": {
        "id": "02b92ecf"
      },
      "outputs": [],
      "source": [
        "import pandas as pd\n",
        "import matplotlib.pyplot as plt\n",
        "import numpy as np\n",
        "import time\n",
        "from datetime import datetime as dt, timedelta as td\n",
        "import time\n",
        "import plotly.express as px\n",
        "import socket\n",
        "import dns.resolver as dns\n",
        "import plotly.graph_objects as go"
      ]
    },
    {
      "cell_type": "code",
      "execution_count": null,
      "id": "449d05f4",
      "metadata": {
        "id": "449d05f4"
      },
      "outputs": [],
      "source": [
        "# capture.pcap\n",
        "first = dt.strptime('2022-09-20 17:19:24.476804','%Y-%m-%d %H:%M:%S.%f')\n",
        "second = dt.strptime('2022-09-21 12:30:37.158704','%Y-%m-%d %H:%M:%S.%f')\n",
        "result = second - first\n",
        "str(result)"
      ]
    },
    {
      "cell_type": "code",
      "execution_count": null,
      "id": "1f551aef",
      "metadata": {
        "id": "1f551aef"
      },
      "outputs": [],
      "source": [
        "# capture1.pcap\n",
        "first = dt.strptime('2022-09-21 12:30:37.172284','%Y-%m-%d %H:%M:%S.%f')\n",
        "second = dt.strptime('2022-09-22 13:41:31.234271','%Y-%m-%d %H:%M:%S.%f')\n",
        "result = second - first\n",
        "str(result)"
      ]
    },
    {
      "cell_type": "code",
      "execution_count": null,
      "id": "5b4dfbe0",
      "metadata": {
        "id": "5b4dfbe0"
      },
      "outputs": [],
      "source": [
        "# capture2.pcap\n",
        "first = dt.strptime('2022-09-22 13:41:31.234278','%Y-%m-%d %H:%M:%S.%f')\n",
        "second = dt.strptime('2022-09-22 17:45:33.925015','%Y-%m-%d %H:%M:%S.%f')\n",
        "result = second - first\n",
        "str(result)"
      ]
    },
    {
      "cell_type": "code",
      "execution_count": null,
      "id": "ab3d452a",
      "metadata": {
        "id": "ab3d452a"
      },
      "outputs": [],
      "source": [
        "# capture3.pcap\n",
        "first = dt.strptime('2022-09-22 17:45:33.925034','%Y-%m-%d %H:%M:%S.%f')\n",
        "second = dt.strptime('2022-09-22 20:26:21.938617','%Y-%m-%d %H:%M:%S.%f')\n",
        "result = second - first\n",
        "str(result)"
      ]
    },
    {
      "cell_type": "code",
      "execution_count": null,
      "id": "e726ac60",
      "metadata": {
        "id": "e726ac60"
      },
      "outputs": [],
      "source": [
        "#\n",
        "# LABELS DEFINITION\n",
        "# Device are identified by MAC address associated to the device by the linksys router\n",
        "# during the tcpdump capturing phase\n",
        "#\n",
        "# Ezviz Smart Bulb LB1\n",
        "label1 = {\"mac\":\"64:F2:FB:DF:FB:E1\",\"app\":\"EZVIZ\",\"device\":\"Smart Bulb\",\"name\":\"LB1\"}\n",
        "# Ezviz Smart Plug T31\n",
        "# label2 = {\"mac\":\"64:F2:FB:48:2C:5B\",\"app\":\"EZVIZ\",\"device\":\"Smart Plug\",\"name\":\"T31\"}\n",
        "# Tapo Smart Bulb L530E\n",
        "label3 = {\"mac\":\"00:5F:67:BF:09:EF\",\"app\":\"Tapo\",\"device\":\"Smart Bulb\",\"name\":\"L530E\"}\n",
        "# Tapo Smart Plug P100\n",
        "label4 = {\"mac\":\"E8:48:B8:D6:A8:1D\",\"app\":\"Tapo\",\"device\":\"Smart Plug\",\"name\":\"P100\"}"
      ]
    },
    {
      "cell_type": "code",
      "execution_count": null,
      "id": "b79a6e93",
      "metadata": {
        "id": "b79a6e93"
      },
      "outputs": [],
      "source": [
        "nodeclrs = [\"black\",\n",
        "            \"dimgray\",\n",
        "            \"dimgrey\",\n",
        "            \"gray\",\n",
        "            \"grey\",\n",
        "            \"darkgray\",\n",
        "            \"darkgrey\",\n",
        "            \"silver\",\n",
        "            \"lightgray\",\n",
        "            \"lightgrey\",\n",
        "            \"gainsboro\",\n",
        "            \"whitesmoke\",\n",
        "            \"white\",\"snow\",\n",
        "            \"rosybrown\",\n",
        "            \"lightcoral\",\n",
        "            \"indianred\",\n",
        "            \"brown\",\n",
        "            \"firebrick\",\n",
        "            \"maroon\",\n",
        "            \"darkred\",\n",
        "            \"red\",\n",
        "            \"mistyrose\",\n",
        "            \"salmon\",\n",
        "            \"tomato\",\n",
        "            \"darksalmon\",\n",
        "            \"coral\",\n",
        "            \"orangered\",\n",
        "            \"lightsalmon\",\n",
        "            \"sienna\",\n",
        "            \"seashell\",\n",
        "            \"chocolate\",\n",
        "            \"saddlebrown\",\n",
        "            \"sandybrown\",\n",
        "            \"peachpuff\",\n",
        "            \"peru\",\n",
        "            \"linen\",\n",
        "            \"bisque\",\n",
        "            \"darkorange\",\n",
        "            \"burlywood\",\n",
        "            \"antiquewhite\",\n",
        "            \"tan\",\n",
        "            \"navajowhite\",\n",
        "            \"blanchedalmond\",\n",
        "            \"papayawhip\",\n",
        "            \"moccasin\",\n",
        "            \"orange\",\n",
        "            \"wheat\",\n",
        "            \"oldlace\",\n",
        "            \"floralwhite\",\n",
        "            \"darkgoldenrod\",\n",
        "            \"goldenrod\",\n",
        "            \"cornsilk\",\n",
        "            \"gold\",\n",
        "            \"lemonchiffon\",\n",
        "            \"khaki\",\n",
        "            \"palegoldenrod\",\n",
        "            \"darkkhaki\",\n",
        "            \"Ivory\",\n",
        "            \"beige\",\n",
        "            \"lightyellow\",\n",
        "            \"lightgoldenrodyellow\",\n",
        "            \"olive\",\n",
        "            \"yellow\",\n",
        "            \"olivedrab\",\n",
        "            \"yellowgreen\",\n",
        "            \"darkolivegreen\",\n",
        "            \"greenyellow\",\n",
        "            \"chartreuse\",\n",
        "            \"lawngreen\",\n",
        "            \"honeydew\",\n",
        "            \"darkseagreen\",\n",
        "            \"palegreen\",\n",
        "            \"lightgreen\",\n",
        "            \"forestgreen\",\n",
        "            \"limegreen\",\n",
        "            \"darkgreen\",\n",
        "            \"green\",\n",
        "            \"lime\",\n",
        "            \"seagreen\",\n",
        "            \"mediumseagreen\",\n",
        "            \"springgreen\",\n",
        "            \"mintcream\",\n",
        "            \"mediumspringgreen\",\n",
        "            \"mediumaquamarine\",\n",
        "            \"aquamarine\",\n",
        "            \"turquoise\",\n",
        "            \"lightseagreen\",\n",
        "            \"mediumturquoise\",\n",
        "            \"azure\",\n",
        "            \"lightcyan\",\n",
        "            \"paleturquoise\",\n",
        "            \"darkslategray\",\n",
        "            \"darkslategrey\",\n",
        "            \"teal\",\n",
        "            \"darkcyan\",\n",
        "            \"aqua\",\n",
        "            \"cyan\",\n",
        "            \"darkturquoise\",\n",
        "            \"cadetblue\",\n",
        "            \"powderblue\",\n",
        "            \"lightblue\",\n",
        "            \"deepskyblue\",\n",
        "            \"skyblue\",\n",
        "            \"lightskyblue\",\n",
        "            \"steelblue\",\n",
        "            \"aliceblue\",\n",
        "            \"dodgerblue\",\n",
        "            \"lightslategray\",\n",
        "            \"lightslategrey\",\n",
        "            \"slategray\",\n",
        "            \"slategrey\",\n",
        "            \"lightsteelblue\",\n",
        "            \"cornflowerblue\",\n",
        "            \"royalblue\",\n",
        "            \"ghostwhite\",\n",
        "            \"lavender\",\n",
        "            \"midnightblue\",\n",
        "            \"navy\",\n",
        "            \"darkblue\",\n",
        "            \"mediumblue\",\n",
        "            \"blue\",\n",
        "            \"slateblue\",\n",
        "            \"darkslateblue\",\n",
        "            \"mediumslateblue\",\n",
        "            \"mediumpurple\",\n",
        "            \"rebeccapurple\",\n",
        "            \"blueviolet\",\n",
        "            \"indigo\",\n",
        "            \"darkorchid\",\n",
        "            \"darkviolet\",\n",
        "            \"mediumorchid\",\n",
        "            \"thistle\",\n",
        "            \"plum\",\n",
        "            \"violet\",\n",
        "            \"purple\",\n",
        "            \"darkmagenta\",\n",
        "            \"fuchsia\",\n",
        "            \"magenta\",\n",
        "            \"orchid\",\n",
        "            \"mediumvioletred\",\n",
        "            \"deeppink\",\n",
        "            \"hotpink\",\n",
        "            \"lavenderblush\",\n",
        "            \"palevioletred\",\n",
        "            \"crimson\",\n",
        "            \"pink\",\n",
        "            \"lightpink\"\n",
        "           ]"
      ]
    },
    {
      "cell_type": "markdown",
      "id": "390d122e",
      "metadata": {
        "id": "390d122e"
      },
      "source": []
    },
    {
      "cell_type": "markdown",
      "id": "0acced30",
      "metadata": {
        "id": "0acced30"
      },
      "source": [
        "### FILTRO TRAFFICO SPONTANEO"
      ]
    },
    {
      "cell_type": "markdown",
      "id": "4a1664b5",
      "metadata": {
        "id": "4a1664b5"
      },
      "source": []
    },
    {
      "cell_type": "code",
      "execution_count": null,
      "id": "6a32e031",
      "metadata": {
        "id": "6a32e031"
      },
      "outputs": [],
      "source": [
        "offset = 5 # seconds"
      ]
    },
    {
      "cell_type": "code",
      "execution_count": null,
      "id": "30b75f0d",
      "metadata": {
        "id": "30b75f0d"
      },
      "outputs": [],
      "source": [
        "skdata = pd.read_csv(\"/content/drive/MyDrive/Thesis - Computer Science and Engineering - Master's degree/datasets/sankey/sankey.csv\",header=None)\n",
        "skdata"
      ]
    },
    {
      "cell_type": "code",
      "execution_count": null,
      "id": "4c753415",
      "metadata": {
        "id": "4c753415"
      },
      "outputs": [],
      "source": [
        "grtdata = pd.read_csv(\"/content/drive/MyDrive/Thesis - Computer Science and Engineering - Master's degree/datasets/activity_log/gtfile.csv\")"
      ]
    },
    {
      "cell_type": "code",
      "execution_count": null,
      "id": "7a18cf6e",
      "metadata": {
        "id": "7a18cf6e"
      },
      "outputs": [],
      "source": [
        "grtdata"
      ]
    },
    {
      "cell_type": "code",
      "execution_count": null,
      "id": "abad7b2d",
      "metadata": {
        "id": "abad7b2d"
      },
      "outputs": [],
      "source": [
        "grtdata.head(1).TIMESTAMP[0]"
      ]
    },
    {
      "cell_type": "code",
      "execution_count": null,
      "id": "af8c151a",
      "metadata": {
        "id": "af8c151a"
      },
      "outputs": [],
      "source": [
        "rests = grtdata[\"TIMESTAMP\"].apply(lambda x: time.mktime(dt.strptime(x, \"%Y-%m-%d %H:%M:%S.%f\").timetuple()))"
      ]
    },
    {
      "cell_type": "code",
      "execution_count": null,
      "id": "8b9ad26c",
      "metadata": {
        "id": "8b9ad26c"
      },
      "outputs": [],
      "source": [
        "rests"
      ]
    },
    {
      "cell_type": "code",
      "execution_count": null,
      "id": "abe9e3b2",
      "metadata": {
        "id": "abe9e3b2"
      },
      "outputs": [],
      "source": [
        "rests[0]+1"
      ]
    },
    {
      "cell_type": "code",
      "execution_count": null,
      "id": "eaa34336",
      "metadata": {
        "id": "eaa34336"
      },
      "outputs": [],
      "source": [
        "# org\n",
        "dt.fromtimestamp(rests[0]).strftime('%Y-%m-%d %H:%M:%S')"
      ]
    },
    {
      "cell_type": "code",
      "execution_count": null,
      "id": "08ccfab4",
      "metadata": {
        "id": "08ccfab4"
      },
      "outputs": [],
      "source": [
        "# before (-1s)\n",
        "dt.fromtimestamp(rests[0] - offset).strftime('%Y-%m-%d %H:%M:%S')"
      ]
    },
    {
      "cell_type": "code",
      "execution_count": null,
      "id": "fbf4740a",
      "metadata": {
        "id": "fbf4740a"
      },
      "outputs": [],
      "source": [
        "# before (+1s)\n",
        "dt.fromtimestamp(rests[0] + offset).strftime('%Y-%m-%d %H:%M:%S')"
      ]
    },
    {
      "cell_type": "code",
      "execution_count": null,
      "id": "883d8b5c",
      "metadata": {
        "id": "883d8b5c"
      },
      "outputs": [],
      "source": [
        "grtdata[\"TIMESTAMP\"] = rests"
      ]
    },
    {
      "cell_type": "code",
      "execution_count": null,
      "id": "2220f457",
      "metadata": {
        "id": "2220f457"
      },
      "outputs": [],
      "source": [
        "grtdata"
      ]
    },
    {
      "cell_type": "code",
      "execution_count": null,
      "id": "6a4e4d56",
      "metadata": {
        "id": "6a4e4d56"
      },
      "outputs": [],
      "source": [
        "rests = skdata[0].apply(lambda x: time.mktime(dt.strptime(x, \"%Y-%m-%d %H:%M:%S.%f\").timetuple()))"
      ]
    },
    {
      "cell_type": "code",
      "execution_count": null,
      "id": "5acf80a3",
      "metadata": {
        "id": "5acf80a3"
      },
      "outputs": [],
      "source": [
        "rests"
      ]
    },
    {
      "cell_type": "code",
      "execution_count": null,
      "id": "f79ad20a",
      "metadata": {
        "id": "f79ad20a"
      },
      "outputs": [],
      "source": [
        "skdata[0] = rests"
      ]
    },
    {
      "cell_type": "code",
      "execution_count": null,
      "id": "815333ed",
      "metadata": {
        "id": "815333ed"
      },
      "outputs": [],
      "source": [
        "skdata"
      ]
    },
    {
      "cell_type": "code",
      "execution_count": null,
      "id": "a2712d34",
      "metadata": {
        "id": "a2712d34"
      },
      "outputs": [],
      "source": [
        "frstvnts = grtdata.groupby([\"EVENT COUNTER\"]).first().TIMESTAMP # min()"
      ]
    },
    {
      "cell_type": "code",
      "execution_count": null,
      "id": "5b7ca0f0",
      "metadata": {
        "id": "5b7ca0f0"
      },
      "outputs": [],
      "source": [
        "frstvnts = frstvnts.apply(lambda x: x - 5)"
      ]
    },
    {
      "cell_type": "code",
      "execution_count": null,
      "id": "a8a24a15",
      "metadata": {
        "id": "a8a24a15"
      },
      "outputs": [],
      "source": [
        "frstvnts"
      ]
    },
    {
      "cell_type": "code",
      "execution_count": null,
      "id": "9f7e17af",
      "metadata": {
        "id": "9f7e17af"
      },
      "outputs": [],
      "source": [
        "lstvnts = grtdata.groupby([\"EVENT COUNTER\"]).last().TIMESTAMP # max()"
      ]
    },
    {
      "cell_type": "code",
      "execution_count": null,
      "id": "0331a8b9",
      "metadata": {
        "id": "0331a8b9"
      },
      "outputs": [],
      "source": [
        "lstvnts = lstvnts.apply(lambda x: x + 5)"
      ]
    },
    {
      "cell_type": "code",
      "execution_count": null,
      "id": "8c12c5ab",
      "metadata": {
        "id": "8c12c5ab"
      },
      "outputs": [],
      "source": [
        "lstvnts"
      ]
    },
    {
      "cell_type": "code",
      "execution_count": null,
      "id": "8f11a251",
      "metadata": {
        "id": "8f11a251"
      },
      "outputs": [],
      "source": [
        "vntsfltrs = list(zip(list(frstvnts),list(lstvnts)))"
      ]
    },
    {
      "cell_type": "code",
      "execution_count": null,
      "id": "40cbd0e2",
      "metadata": {
        "scrolled": true,
        "id": "40cbd0e2"
      },
      "outputs": [],
      "source": [
        "vntsfltrs"
      ]
    },
    {
      "cell_type": "code",
      "execution_count": null,
      "id": "87af7d40",
      "metadata": {
        "id": "87af7d40"
      },
      "outputs": [],
      "source": [
        "fltrs1 = list(map(lambda a: \"@filtrato[0] < {} or @filtrato[0] > {}\".format(a[0], a[1]), vntsfltrs))"
      ]
    },
    {
      "cell_type": "code",
      "execution_count": null,
      "id": "3d80f455",
      "metadata": {
        "scrolled": true,
        "id": "3d80f455"
      },
      "outputs": [],
      "source": [
        "fltrs1"
      ]
    },
    {
      "cell_type": "code",
      "execution_count": null,
      "id": "6535a645",
      "metadata": {
        "id": "6535a645"
      },
      "outputs": [],
      "source": [
        "skdata"
      ]
    },
    {
      "cell_type": "code",
      "execution_count": null,
      "id": "c829ae41",
      "metadata": {
        "id": "c829ae41"
      },
      "outputs": [],
      "source": [
        "filtrato = skdata\n",
        "for i in fltrs1:\n",
        "    filtrato = filtrato.query(i)"
      ]
    },
    {
      "cell_type": "code",
      "execution_count": null,
      "id": "fe8d871c",
      "metadata": {
        "id": "fe8d871c"
      },
      "outputs": [],
      "source": [
        "filtrato"
      ]
    },
    {
      "cell_type": "code",
      "execution_count": null,
      "id": "3a2c5765-70a2-484c-866c-c451e6b1ae98",
      "metadata": {
        "id": "3a2c5765-70a2-484c-866c-c451e6b1ae98"
      },
      "outputs": [],
      "source": [
        "len(filtrato)"
      ]
    },
    {
      "cell_type": "code",
      "execution_count": null,
      "id": "b34e3c45-c3e0-4bfd-a189-ed6556bd3ec6",
      "metadata": {
        "id": "b34e3c45-c3e0-4bfd-a189-ed6556bd3ec6"
      },
      "outputs": [],
      "source": [
        "sum(filtrato[10])"
      ]
    },
    {
      "cell_type": "markdown",
      "id": "9f56b994",
      "metadata": {
        "id": "9f56b994"
      },
      "source": []
    },
    {
      "cell_type": "markdown",
      "id": "a228400a",
      "metadata": {
        "id": "a228400a"
      },
      "source": [
        "## NETWORK TRAFFIC OUTGOING SMART DEVICE"
      ]
    },
    {
      "cell_type": "markdown",
      "id": "9aee4b55",
      "metadata": {
        "id": "9aee4b55"
      },
      "source": [
        "#### filtering the pcap upon smart devices mac address"
      ]
    },
    {
      "cell_type": "markdown",
      "id": "7e7e628d",
      "metadata": {
        "id": "7e7e628d"
      },
      "source": []
    },
    {
      "cell_type": "code",
      "execution_count": null,
      "id": "8744d6e6",
      "metadata": {
        "id": "8744d6e6"
      },
      "outputs": [],
      "source": [
        "lblsel = 'label1'"
      ]
    },
    {
      "cell_type": "code",
      "execution_count": null,
      "id": "685922db",
      "metadata": {
        "id": "685922db"
      },
      "outputs": [],
      "source": [
        "skdata = filtrato"
      ]
    },
    {
      "cell_type": "code",
      "execution_count": null,
      "id": "294f28ae",
      "metadata": {
        "id": "294f28ae"
      },
      "outputs": [],
      "source": [
        "len(skdata)"
      ]
    },
    {
      "cell_type": "code",
      "execution_count": null,
      "id": "e051b01f",
      "metadata": {
        "id": "e051b01f"
      },
      "outputs": [],
      "source": [
        "skdata.take(range(0,10))"
      ]
    },
    {
      "cell_type": "code",
      "execution_count": null,
      "id": "a62a4cea",
      "metadata": {
        "id": "a62a4cea"
      },
      "outputs": [],
      "source": [
        "pino = eval(lblsel).get(\"mac\").lower()\n",
        "\n",
        "# TRAFFICO IN USCITA DA DISPOSITIVO VERSO L'ESTERNO\n",
        "skinit = skdata.query(\"@skdata[1] == '{}'\".format(pino))"
      ]
    },
    {
      "cell_type": "code",
      "execution_count": null,
      "id": "d3ce5775",
      "metadata": {
        "id": "d3ce5775"
      },
      "outputs": [],
      "source": [
        "skinit"
      ]
    },
    {
      "cell_type": "code",
      "execution_count": null,
      "id": "37975fe5",
      "metadata": {
        "id": "37975fe5"
      },
      "outputs": [],
      "source": [
        "len(skinit)"
      ]
    },
    {
      "cell_type": "code",
      "execution_count": null,
      "id": "9dc26d78-dcf3-4270-ab57-455145a35ea2",
      "metadata": {
        "id": "9dc26d78-dcf3-4270-ab57-455145a35ea2"
      },
      "outputs": [],
      "source": [
        "sum(skinit[10])"
      ]
    },
    {
      "cell_type": "code",
      "execution_count": null,
      "id": "68432496",
      "metadata": {
        "id": "68432496"
      },
      "outputs": [],
      "source": [
        "skcleanse=skinit.fillna(0)"
      ]
    },
    {
      "cell_type": "code",
      "execution_count": null,
      "id": "aae3b5ac",
      "metadata": {
        "id": "aae3b5ac"
      },
      "outputs": [],
      "source": [
        "skcleanse.take(range(0,10))"
      ]
    },
    {
      "cell_type": "code",
      "execution_count": null,
      "id": "84d5f0dd",
      "metadata": {
        "id": "84d5f0dd"
      },
      "outputs": [],
      "source": [
        "def remap(mtup):\n",
        "    # OUTGOING\n",
        "    # [ time, mac address smart device, src port, fdqn/ip remote host, dst port, protocol, frame length ]\n",
        "\n",
        "    # IP not defined => Layer 2 protocol\n",
        "    if mtup[2] == 0 and mtup[6] == 0:\n",
        "        mtup[[2,3,4,5,6]] = [mtup[3],mtup[5],mtup[7],mtup[9],mtup[10]]\n",
        "        return mtup[range(0,7)]\n",
        "\n",
        "    # IP defined, but not TCP port => Layer 3 and 4 UDP protocol\n",
        "    if mtup[4] == 0 and mtup[8] == 0:\n",
        "        mtup[[2,3,4,5,6]] = [mtup[3],mtup[6],mtup[7],mtup[9],mtup[10]]\n",
        "        return mtup[range(0,7)]\n",
        "\n",
        "    # IP defined, TCP port defined => Layer 3 and 4 TCP protocol\n",
        "    mtup[[2,3,4,5,6]] = [mtup[4],mtup[6],mtup[8],mtup[9],mtup[10]]\n",
        "\n",
        "    return mtup[range(0,7)]"
      ]
    },
    {
      "cell_type": "code",
      "execution_count": null,
      "id": "4bd1efc8",
      "metadata": {
        "id": "4bd1efc8"
      },
      "outputs": [],
      "source": [
        "sklbl = skcleanse.apply(lambda x: remap(x), axis=1)"
      ]
    },
    {
      "cell_type": "code",
      "execution_count": null,
      "id": "3512d8db",
      "metadata": {
        "id": "3512d8db"
      },
      "outputs": [],
      "source": [
        "sklbl"
      ]
    },
    {
      "cell_type": "code",
      "execution_count": null,
      "id": "c5decf62",
      "metadata": {
        "id": "c5decf62"
      },
      "outputs": [],
      "source": [
        "def getfqdn(ip):\n",
        "    try:\n",
        "        #return socket.gethostbyaddr(ip)[0]\n",
        "        return str(dns.Resolver().resolve_address(ip)[0])\n",
        "    except Exception as e:\n",
        "        return ip"
      ]
    },
    {
      "cell_type": "code",
      "execution_count": null,
      "id": "801908f7-6b07-400e-898f-66aa41c3546b",
      "metadata": {
        "id": "801908f7-6b07-400e-898f-66aa41c3546b"
      },
      "outputs": [],
      "source": [
        "sklbl.take(range(0,5)).apply(lambda x: getfqdn(x[3]), axis=1)"
      ]
    },
    {
      "cell_type": "code",
      "execution_count": null,
      "id": "9dc362c0-801f-4e26-b73f-3907c91e7102",
      "metadata": {
        "id": "9dc362c0-801f-4e26-b73f-3907c91e7102"
      },
      "outputs": [],
      "source": [
        "dns1 = dns.Resolver()\n",
        "dns1.nameservers = ['1.1.1.1','1.0.0.1','208.67.222.222','208.67.220.220','4.4.4.4','8.8.4.4']\n",
        "print(dns1.nameservers)\n",
        "print(dns1.resolve_address('18.203.82.110')[0])\n",
        "print(dns1.resolve_address('54.155.237.177')[0])"
      ]
    },
    {
      "cell_type": "code",
      "execution_count": null,
      "id": "65ca03af-45a0-4ce7-ba7a-d7affe83b6c3",
      "metadata": {
        "id": "65ca03af-45a0-4ce7-ba7a-d7affe83b6c3"
      },
      "outputs": [],
      "source": [
        "#cns = sklbl.apply(lambda x: \"ec2-52-49-119-121.eu-west-1.compute.amazonaws.com.\" if x[3] == '52.49.119.121' else x[3], axis=1)\n",
        "cns = sklbl.apply(lambda x: \"*.amazonaws.com.\" if x[3] in ['52.49.119.121', '54.155.237.177', '18.203.82.110'] else x[3], axis=1)"
      ]
    },
    {
      "cell_type": "code",
      "execution_count": null,
      "id": "f4e1d089",
      "metadata": {
        "id": "f4e1d089"
      },
      "outputs": [],
      "source": [
        "tic = time.time()\n",
        "\n",
        "cns = sklbl.apply(lambda x: getfqdn(x[3]), axis=1)\n",
        "\n",
        "toc = time.time()\n",
        "elapsed = toc - tic"
      ]
    },
    {
      "cell_type": "code",
      "execution_count": null,
      "id": "6e60b196",
      "metadata": {
        "id": "6e60b196"
      },
      "outputs": [],
      "source": [
        "elapsed"
      ]
    },
    {
      "cell_type": "code",
      "execution_count": null,
      "id": "0cdc546b",
      "metadata": {
        "id": "0cdc546b"
      },
      "outputs": [],
      "source": [
        "cns"
      ]
    },
    {
      "cell_type": "code",
      "execution_count": null,
      "id": "0871626f",
      "metadata": {
        "id": "0871626f"
      },
      "outputs": [],
      "source": [
        "# sklbl[9] = cns\n",
        "sklbl.insert(7,7,cns)"
      ]
    },
    {
      "cell_type": "code",
      "execution_count": null,
      "id": "6efa5f94",
      "metadata": {
        "id": "6efa5f94"
      },
      "outputs": [],
      "source": [
        "sklbl[2]= sklbl.apply(lambda x: int(x[2]), axis=1)\n",
        "sklbl[4]= sklbl.apply(lambda x: int(x[4]), axis=1)"
      ]
    },
    {
      "cell_type": "code",
      "execution_count": null,
      "id": "711f2c34",
      "metadata": {
        "id": "711f2c34"
      },
      "outputs": [],
      "source": [
        "sklbl"
      ]
    },
    {
      "cell_type": "code",
      "execution_count": null,
      "id": "d44025ed",
      "metadata": {
        "id": "d44025ed"
      },
      "outputs": [],
      "source": [
        "sklayer34 = sklbl.query(\"@sklbl[2] != 0 and @sklbl[4] != 0\")"
      ]
    },
    {
      "cell_type": "code",
      "execution_count": null,
      "id": "7b801e92",
      "metadata": {
        "id": "7b801e92"
      },
      "outputs": [],
      "source": [
        "sklayer34"
      ]
    },
    {
      "cell_type": "code",
      "execution_count": null,
      "id": "d85592b0",
      "metadata": {
        "id": "d85592b0"
      },
      "outputs": [],
      "source": [
        "sklayer2 = sklbl.query(\"@sklbl[2] == 0 and @sklbl[4] == 0\")"
      ]
    },
    {
      "cell_type": "code",
      "execution_count": null,
      "id": "3e850dc9",
      "metadata": {
        "id": "3e850dc9"
      },
      "outputs": [],
      "source": [
        "sklayer2"
      ]
    },
    {
      "cell_type": "code",
      "execution_count": null,
      "id": "fbed41ea",
      "metadata": {
        "id": "fbed41ea"
      },
      "outputs": [],
      "source": [
        "processedList = [ i for i in sklbl.apply(lambda x: x[1], axis=1).drop_duplicates().values.tolist() ]\n",
        "out = [ processedList.append(i) for i in sklbl.apply(lambda x: x[7], axis=1).drop_duplicates().values.tolist() ]\n",
        "out = [ processedList.append(i) for i in sklayer34.apply(lambda x: x[2], axis=1).drop_duplicates().values.tolist() ]\n",
        "out = [ processedList.append(i) for i in sklayer34.apply(lambda x: x[4], axis=1).drop_duplicates().values.tolist() ]\n",
        "out = [ processedList.append(i) for i in sklbl.apply(lambda x: x[5], axis=1).drop_duplicates().values.tolist() ]"
      ]
    },
    {
      "cell_type": "code",
      "execution_count": null,
      "id": "fcb257dc",
      "metadata": {
        "id": "fcb257dc"
      },
      "outputs": [],
      "source": [
        "processedList"
      ]
    },
    {
      "cell_type": "code",
      "execution_count": null,
      "id": "624ab33d",
      "metadata": {
        "id": "624ab33d"
      },
      "outputs": [],
      "source": [
        "processedList1 = [ i for i in sklbl.apply(lambda x: x[1], axis=1).drop_duplicates().values.tolist() ]\n",
        "processedList2 = [ i for i in sklbl.apply(lambda x: x[7], axis=1).drop_duplicates().values.tolist() ]\n",
        "processedList3 = [ i for i in sklayer34.apply(lambda x: x[2], axis=1).drop_duplicates().values.tolist() ]\n",
        "processedList4 = [ i for i in sklayer34.apply(lambda x: x[4], axis=1).drop_duplicates().values.tolist() ]\n",
        "processedList5 = [ i for i in sklbl.apply(lambda x: x[5], axis=1).drop_duplicates().values.tolist() ]"
      ]
    },
    {
      "cell_type": "code",
      "execution_count": null,
      "id": "19206b57",
      "metadata": {
        "id": "19206b57"
      },
      "outputs": [],
      "source": [
        "processedList1"
      ]
    },
    {
      "cell_type": "code",
      "execution_count": null,
      "id": "6f76a076",
      "metadata": {
        "id": "6f76a076"
      },
      "outputs": [],
      "source": [
        "processedList2"
      ]
    },
    {
      "cell_type": "code",
      "execution_count": null,
      "id": "e6a7dc87",
      "metadata": {
        "id": "e6a7dc87"
      },
      "outputs": [],
      "source": [
        "processedList3"
      ]
    },
    {
      "cell_type": "code",
      "execution_count": null,
      "id": "53124773",
      "metadata": {
        "id": "53124773"
      },
      "outputs": [],
      "source": [
        "processedList4"
      ]
    },
    {
      "cell_type": "code",
      "execution_count": null,
      "id": "a1c92ef5",
      "metadata": {
        "id": "a1c92ef5"
      },
      "outputs": [],
      "source": [
        "processedList5"
      ]
    },
    {
      "cell_type": "code",
      "execution_count": null,
      "id": "e36cd94e",
      "metadata": {
        "id": "e36cd94e"
      },
      "outputs": [],
      "source": [
        "mapidxs1 = { i: processedList1.index(i) for i in processedList1 }\n",
        "mapidxs2 = { i: processedList2.index(i) + len(processedList1) for i in processedList2 }\n",
        "mapidxs3 = { i: processedList3.index(i) + len(processedList1) + len(processedList2) for i in processedList3 }\n",
        "mapidxs4 = { i: processedList4.index(i) + len(processedList1) + len(processedList2) + len(processedList3) for i in processedList4 }\n",
        "mapidxs5 = { i: processedList5.index(i) + len(processedList1) + len(processedList2) + len(processedList3) + len(processedList4) for i in processedList5 }"
      ]
    },
    {
      "cell_type": "code",
      "execution_count": null,
      "id": "cb27c755",
      "metadata": {
        "id": "cb27c755"
      },
      "outputs": [],
      "source": [
        "mapidxs1"
      ]
    },
    {
      "cell_type": "code",
      "execution_count": null,
      "id": "29322746",
      "metadata": {
        "id": "29322746"
      },
      "outputs": [],
      "source": [
        "mapidxs2"
      ]
    },
    {
      "cell_type": "code",
      "execution_count": null,
      "id": "2706d9b5",
      "metadata": {
        "id": "2706d9b5"
      },
      "outputs": [],
      "source": [
        "mapidxs3"
      ]
    },
    {
      "cell_type": "code",
      "execution_count": null,
      "id": "531d2d47",
      "metadata": {
        "id": "531d2d47"
      },
      "outputs": [],
      "source": [
        "mapidxs4"
      ]
    },
    {
      "cell_type": "code",
      "execution_count": null,
      "id": "84b0554f",
      "metadata": {
        "id": "84b0554f"
      },
      "outputs": [],
      "source": [
        "mapidxs5"
      ]
    },
    {
      "cell_type": "code",
      "execution_count": null,
      "id": "1aad94c6",
      "metadata": {
        "id": "1aad94c6"
      },
      "outputs": [],
      "source": [
        "lbllbl = processedList"
      ]
    },
    {
      "cell_type": "code",
      "execution_count": null,
      "id": "5001d181",
      "metadata": {
        "id": "5001d181"
      },
      "outputs": [],
      "source": [
        "lbllbl"
      ]
    },
    {
      "cell_type": "code",
      "execution_count": null,
      "id": "645aab05",
      "metadata": {
        "id": "645aab05"
      },
      "outputs": [],
      "source": [
        "# FLOW 1 => FROM SRC SMART DEVICE MAC ADDRESS TO DST REMOTE IP ADDRESS (TCP/IP STACK LAYER 3 AND 4)\n",
        "srclbl = [ mapidxs1.get(i[0]) for i in sklayer34.groupby([1,7]).count().index ]\n",
        "trgtlbl = [ mapidxs2.get(i[1]) for i in sklayer34.groupby([1,7]).count().index ]\n",
        "vllbl = [ i for i in sklayer34.groupby([1,7]).sum()[6].values ]"
      ]
    },
    {
      "cell_type": "code",
      "execution_count": null,
      "id": "403a2657",
      "metadata": {
        "id": "403a2657"
      },
      "outputs": [],
      "source": [
        "# FLOW 2 => FROM DST REMOTE IP ADDRESS TO SRC SMART DEVICE PORT (TCP/IP STACK LAYER 3 AND 4)\n",
        "out = [ srclbl.append(mapidxs2.get(i[0])) for i in sklayer34.groupby([7,2]).count().index ]\n",
        "out = [ trgtlbl.append(mapidxs3.get(i[1])) for i in sklayer34.groupby([7,2]).count().index ]\n",
        "out = [ vllbl.append(i) for i in sklayer34.groupby([7,2]).sum()[6].values ]"
      ]
    },
    {
      "cell_type": "code",
      "execution_count": null,
      "id": "3cd451d0",
      "metadata": {
        "id": "3cd451d0"
      },
      "outputs": [],
      "source": [
        "# FLOW 3 => FROM SRC SMART DEVICE PORT TO DST REMOTE PORT (TCP/IP STACK LAYER 3 AND 4)\n",
        "out = [ srclbl.append(mapidxs3.get(i[0])) for i in sklayer34.groupby([2,4]).count().index ]\n",
        "out = [ trgtlbl.append(mapidxs4.get(i[1])) for i in sklayer34.groupby([2,4]).count().index ]\n",
        "out = [ vllbl.append(i) for i in sklayer34.groupby([2,4]).sum()[6].values ]"
      ]
    },
    {
      "cell_type": "code",
      "execution_count": null,
      "id": "a8832f76",
      "metadata": {
        "id": "a8832f76"
      },
      "outputs": [],
      "source": [
        "# FLOW 4 => FROM DST REMOTE PORT TO PROTOCOL USED (TCP/IP STACK LAYER 3 AND 4)\n",
        "out = [ srclbl.append(mapidxs4.get(i[0])) for i in sklayer34.groupby([4,5]).count().index ]\n",
        "out = [ trgtlbl.append(mapidxs5.get(i[1])) for i in sklayer34.groupby([4,5]).count().index ]\n",
        "out = [ vllbl.append(i) for i in sklayer34.groupby([4,5]).sum()[6].values ]"
      ]
    },
    {
      "cell_type": "code",
      "execution_count": null,
      "id": "3c4f49c9",
      "metadata": {
        "id": "3c4f49c9"
      },
      "outputs": [],
      "source": [
        "# FLOW 5 => FROM SRC SMART DEVICE MAC ADDRESS TO DST REMOTE MAC ADDRESS (TCP/IP STACK LAYER 2)\n",
        "out = [ srclbl.append(mapidxs1.get(i[0])) for i in sklayer2.groupby([1,7]).count().index ]\n",
        "out = [ trgtlbl.append(mapidxs2.get(i[1])) for i in sklayer2.groupby([1,7]).count().index ]\n",
        "out = [ vllbl.append(i) for i in sklayer2.groupby([1,7]).sum()[6].values ]"
      ]
    },
    {
      "cell_type": "code",
      "execution_count": null,
      "id": "944636d8",
      "metadata": {
        "id": "944636d8"
      },
      "outputs": [],
      "source": [
        "# FLOW 6 => FROM DST REMOTE MAC ADDRESS TO PROTOCOL USED (TCP/IP STACK LAYER 2)\n",
        "out = [ srclbl.append(mapidxs2.get(i[0])) for i in sklayer2.groupby([7,5]).count().index ]\n",
        "out = [ trgtlbl.append(mapidxs5.get(i[1])) for i in sklayer2.groupby([7,5]).count().index ]\n",
        "out = [ vllbl.append(i) for i in sklayer2.groupby([7,5]).sum()[6].values ]"
      ]
    },
    {
      "cell_type": "code",
      "execution_count": null,
      "id": "68fe36bd",
      "metadata": {
        "id": "68fe36bd"
      },
      "outputs": [],
      "source": [
        "nodeclrs = [\n",
        "    \"turquoise\" for i in sklbl.apply(lambda x: x[1], axis=1).drop_duplicates().values.tolist()\n",
        "]\n",
        "out = [ nodeclrs.append(\"limegreen\") for i in sklbl.apply(lambda x: x[7], axis=1).drop_duplicates().values.tolist()]\n",
        "out = [ nodeclrs.append(\"green\") for i in sklayer34.apply(lambda x: x[2], axis=1).drop_duplicates().values.tolist() ]\n",
        "out = [ nodeclrs.append(\"salmon\") for i in sklayer34.apply(lambda x: x[4], axis=1).drop_duplicates().values.tolist() ]\n",
        "out = [ nodeclrs.append(\"deeppink\") for i in sklbl.apply(lambda x: x[5], axis=1).drop_duplicates().values.tolist() ]\n",
        "\n",
        "linkclrs=[\n",
        "    \"silver\" for i in trgtlbl\n",
        "]"
      ]
    },
    {
      "cell_type": "code",
      "execution_count": null,
      "id": "881d9855",
      "metadata": {
        "id": "881d9855"
      },
      "outputs": [],
      "source": [
        "fig = go.Figure(data=[go.Sankey(\n",
        "    valuesuffix = \"Bytes\",\n",
        "    node = dict(\n",
        "      pad = 20,\n",
        "      thickness = 20,\n",
        "      line = dict(color = \"black\", width = .5),\n",
        "      label = lbllbl\n",
        "    ),\n",
        "    link = dict(\n",
        "      source = srclbl,\n",
        "      target = trgtlbl,\n",
        "      value = vllbl\n",
        "  ))])\n",
        "\n",
        "\n",
        "fig.update_layout(width=1000,height=700,title_text=\"Network Spontaneous Traffic Outgoing for {} {} {}\".format(eval(lblsel).get(\"app\"),eval(lblsel).get(\"device\"),eval(lblsel).get(\"name\")), font_size=20)\n",
        "fig.update_traces(node_color=nodeclrs,link_color=linkclrs)\n",
        "fig.write_image(file=\"/content/drive/MyDrive/Thesis - Computer Science and Engineering - Master's degree/datasets/sankey/fig1.png\",format='png',engine='orca')\n",
        "fig.show()"
      ]
    },
    {
      "cell_type": "markdown",
      "id": "c3d93996",
      "metadata": {
        "id": "c3d93996"
      },
      "source": []
    },
    {
      "cell_type": "markdown",
      "id": "3f19571c",
      "metadata": {
        "id": "3f19571c"
      },
      "source": [
        "## NETWORK TRAFFIC INCOMING SMART DEVICE"
      ]
    },
    {
      "cell_type": "markdown",
      "id": "c367dee6",
      "metadata": {
        "id": "c367dee6"
      },
      "source": []
    },
    {
      "cell_type": "code",
      "execution_count": null,
      "id": "cf8223aa",
      "metadata": {
        "id": "cf8223aa"
      },
      "outputs": [],
      "source": [
        "lblsel = 'label4'"
      ]
    },
    {
      "cell_type": "code",
      "execution_count": null,
      "id": "14badd67",
      "metadata": {
        "id": "14badd67"
      },
      "outputs": [],
      "source": [
        "skdata = filtrato"
      ]
    },
    {
      "cell_type": "code",
      "execution_count": null,
      "id": "a1ea27e7",
      "metadata": {
        "id": "a1ea27e7"
      },
      "outputs": [],
      "source": [
        "len(skdata)"
      ]
    },
    {
      "cell_type": "code",
      "execution_count": null,
      "id": "a2ca8d0e",
      "metadata": {
        "id": "a2ca8d0e"
      },
      "outputs": [],
      "source": [
        "skdata.take(range(0,10))"
      ]
    },
    {
      "cell_type": "code",
      "execution_count": null,
      "id": "c5f8c2a8",
      "metadata": {
        "id": "c5f8c2a8"
      },
      "outputs": [],
      "source": [
        "pino = eval(lblsel).get(\"mac\").lower()\n",
        "\n",
        "# TRAFFICO IN ENTRATA VERSO IL DISPOSITIVO DALL'ESTERNO\n",
        "skinit = skdata.query(\"@skdata[5] == '{}'\".format(pino))"
      ]
    },
    {
      "cell_type": "code",
      "execution_count": null,
      "id": "95add5e3",
      "metadata": {
        "id": "95add5e3"
      },
      "outputs": [],
      "source": [
        "skinit"
      ]
    },
    {
      "cell_type": "code",
      "execution_count": null,
      "id": "f430493a",
      "metadata": {
        "id": "f430493a"
      },
      "outputs": [],
      "source": [
        "len(skinit)"
      ]
    },
    {
      "cell_type": "code",
      "execution_count": null,
      "id": "dbf0d8fb-d6eb-42d5-b7fb-9f3e1b7a921a",
      "metadata": {
        "id": "dbf0d8fb-d6eb-42d5-b7fb-9f3e1b7a921a"
      },
      "outputs": [],
      "source": [
        "sum(skinit[10])"
      ]
    },
    {
      "cell_type": "code",
      "execution_count": null,
      "id": "b808644a",
      "metadata": {
        "id": "b808644a"
      },
      "outputs": [],
      "source": [
        "skcleanse=skinit.fillna(0)"
      ]
    },
    {
      "cell_type": "code",
      "execution_count": null,
      "id": "5e145823",
      "metadata": {
        "id": "5e145823"
      },
      "outputs": [],
      "source": [
        "skcleanse.take(range(0,10))"
      ]
    },
    {
      "cell_type": "code",
      "execution_count": null,
      "id": "e9a609e3",
      "metadata": {
        "id": "e9a609e3"
      },
      "outputs": [],
      "source": [
        "def remap(mtup):\n",
        "    # INGOING\n",
        "    # [ time, fdqn/ip remote host, src port, mac address smart device, dst port, protocol, frame length ]\n",
        "\n",
        "    # IP not defined => Layer 2 protocol\n",
        "    if mtup[2] == 0 and mtup[6] == 0:\n",
        "        mtup[[2,3,4,5,6]] = [mtup[3],mtup[5],mtup[7],mtup[9],mtup[10]]\n",
        "        return mtup[range(0,7)]\n",
        "\n",
        "    # IP defined, but not TCP port => Layer 3 and 4 UDP protocol\n",
        "    if mtup[4] == 0 and mtup[8] == 0:\n",
        "        mtup[[1,2,3,4,5,6]] = [mtup[2],mtup[3],mtup[5],mtup[7],mtup[9],mtup[10]]\n",
        "        return mtup[range(0,7)]\n",
        "\n",
        "    # IP defined, TCP port defined => Layer 3 and 4 TCP protocol\n",
        "    mtup[[1,2,3,4,5,6]] = [mtup[2],mtup[4],mtup[5],mtup[8],mtup[9],mtup[10]]\n",
        "\n",
        "    return mtup[range(0,7)]"
      ]
    },
    {
      "cell_type": "code",
      "execution_count": null,
      "id": "bc4c95c3",
      "metadata": {
        "id": "bc4c95c3"
      },
      "outputs": [],
      "source": [
        "sklbl = skcleanse.apply(lambda x: remap(x), axis=1)"
      ]
    },
    {
      "cell_type": "code",
      "execution_count": null,
      "id": "ea04d94f",
      "metadata": {
        "id": "ea04d94f"
      },
      "outputs": [],
      "source": [
        "sklbl"
      ]
    },
    {
      "cell_type": "code",
      "execution_count": null,
      "id": "ea27be00",
      "metadata": {
        "id": "ea27be00"
      },
      "outputs": [],
      "source": [
        "def getfqdn(ip):\n",
        "    try:\n",
        "        #return socket.gethostbyaddr(ip)[0]\n",
        "        return str(dns.Resolver().resolve_address(ip)[0])\n",
        "    except Exception as e:\n",
        "        return ip"
      ]
    },
    {
      "cell_type": "code",
      "execution_count": null,
      "id": "e13e0c1b",
      "metadata": {
        "id": "e13e0c1b"
      },
      "outputs": [],
      "source": [
        "tic = time.time()\n",
        "\n",
        "cns = sklbl.apply(lambda x: getfqdn(x[1]), axis=1)\n",
        "\n",
        "toc = time.time()\n",
        "elapsed = toc - tic"
      ]
    },
    {
      "cell_type": "code",
      "execution_count": null,
      "id": "e5918bad",
      "metadata": {
        "id": "e5918bad"
      },
      "outputs": [],
      "source": [
        "elapsed"
      ]
    },
    {
      "cell_type": "code",
      "execution_count": null,
      "id": "ccd17a40",
      "metadata": {
        "id": "ccd17a40"
      },
      "outputs": [],
      "source": [
        "cns"
      ]
    },
    {
      "cell_type": "code",
      "execution_count": null,
      "id": "ce32c7c0",
      "metadata": {
        "id": "ce32c7c0"
      },
      "outputs": [],
      "source": [
        "# sklbl[9] = cns\n",
        "sklbl.insert(7,7,cns)"
      ]
    },
    {
      "cell_type": "code",
      "execution_count": null,
      "id": "e39f74b0",
      "metadata": {
        "id": "e39f74b0"
      },
      "outputs": [],
      "source": [
        "sklbl[2]= sklbl.apply(lambda x: int(x[2]), axis=1)\n",
        "sklbl[4]= sklbl.apply(lambda x: int(x[4]), axis=1)"
      ]
    },
    {
      "cell_type": "code",
      "execution_count": null,
      "id": "e932819f",
      "metadata": {
        "id": "e932819f"
      },
      "outputs": [],
      "source": [
        "sklbl"
      ]
    },
    {
      "cell_type": "code",
      "execution_count": null,
      "id": "84b297bf",
      "metadata": {
        "id": "84b297bf"
      },
      "outputs": [],
      "source": [
        "sklayer34 = sklbl.query(\"@sklbl[2] != 0 and @sklbl[4] != 0\")"
      ]
    },
    {
      "cell_type": "code",
      "execution_count": null,
      "id": "19549416",
      "metadata": {
        "id": "19549416"
      },
      "outputs": [],
      "source": [
        "sklayer34"
      ]
    },
    {
      "cell_type": "code",
      "execution_count": null,
      "id": "449544cd",
      "metadata": {
        "id": "449544cd"
      },
      "outputs": [],
      "source": [
        "sklayer2 = sklbl.query(\"@sklbl[2] == 0 and @sklbl[4] == 0\")"
      ]
    },
    {
      "cell_type": "code",
      "execution_count": null,
      "id": "6d0325c2",
      "metadata": {
        "id": "6d0325c2"
      },
      "outputs": [],
      "source": [
        "sklayer2"
      ]
    },
    {
      "cell_type": "code",
      "execution_count": null,
      "id": "ab5b1fc5",
      "metadata": {
        "id": "ab5b1fc5"
      },
      "outputs": [],
      "source": [
        "processedList = [ i for i in sklbl.apply(lambda x: x[7], axis=1).drop_duplicates().values.tolist() ]\n",
        "out = [ processedList.append(i) for i in sklbl.apply(lambda x: x[3], axis=1).drop_duplicates().values.tolist() ]\n",
        "out = [ processedList.append(i) for i in sklayer34.apply(lambda x: x[2], axis=1).drop_duplicates().values.tolist() ]\n",
        "out = [ processedList.append(i) for i in sklayer34.apply(lambda x: x[4], axis=1).drop_duplicates().values.tolist() ]\n",
        "out = [ processedList.append(i) for i in sklbl.apply(lambda x: x[5], axis=1).drop_duplicates().values.tolist() ]"
      ]
    },
    {
      "cell_type": "code",
      "execution_count": null,
      "id": "78150e90",
      "metadata": {
        "id": "78150e90"
      },
      "outputs": [],
      "source": [
        "processedList"
      ]
    },
    {
      "cell_type": "code",
      "execution_count": null,
      "id": "3e5d96cb",
      "metadata": {
        "id": "3e5d96cb"
      },
      "outputs": [],
      "source": [
        "processedList1 = [ i for i in sklbl.apply(lambda x: x[7], axis=1).drop_duplicates().values.tolist() ]\n",
        "processedList2 = [ i for i in sklbl.apply(lambda x: x[3], axis=1).drop_duplicates().values.tolist() ]\n",
        "processedList3 = [ i for i in sklayer34.apply(lambda x: x[2], axis=1).drop_duplicates().values.tolist() ]\n",
        "processedList4 = [ i for i in sklayer34.apply(lambda x: x[4], axis=1).drop_duplicates().values.tolist() ]\n",
        "processedList5 = [ i for i in sklbl.apply(lambda x: x[5], axis=1).drop_duplicates().values.tolist() ]"
      ]
    },
    {
      "cell_type": "code",
      "execution_count": null,
      "id": "55c6b798",
      "metadata": {
        "id": "55c6b798"
      },
      "outputs": [],
      "source": [
        "processedList1"
      ]
    },
    {
      "cell_type": "code",
      "execution_count": null,
      "id": "0af191e6",
      "metadata": {
        "id": "0af191e6"
      },
      "outputs": [],
      "source": [
        "processedList2"
      ]
    },
    {
      "cell_type": "code",
      "execution_count": null,
      "id": "41de4e85",
      "metadata": {
        "id": "41de4e85"
      },
      "outputs": [],
      "source": [
        "processedList3"
      ]
    },
    {
      "cell_type": "code",
      "execution_count": null,
      "id": "e2561b3a",
      "metadata": {
        "id": "e2561b3a"
      },
      "outputs": [],
      "source": [
        "processedList4"
      ]
    },
    {
      "cell_type": "code",
      "execution_count": null,
      "id": "2e25651f",
      "metadata": {
        "id": "2e25651f"
      },
      "outputs": [],
      "source": [
        "processedList5"
      ]
    },
    {
      "cell_type": "code",
      "execution_count": null,
      "id": "0b171124",
      "metadata": {
        "id": "0b171124"
      },
      "outputs": [],
      "source": [
        "mapidxs1 = { i: processedList1.index(i) for i in processedList1 }\n",
        "mapidxs2 = { i: processedList2.index(i) + len(processedList1) for i in processedList2 }\n",
        "mapidxs3 = { i: processedList3.index(i) + len(processedList1) + len(processedList2) for i in processedList3 }\n",
        "mapidxs4 = { i: processedList4.index(i) + len(processedList1) + len(processedList2) + len(processedList3) for i in processedList4 }\n",
        "mapidxs5 = { i: processedList5.index(i) + len(processedList1) + len(processedList2) + len(processedList3) + len(processedList4) for i in processedList5 }"
      ]
    },
    {
      "cell_type": "code",
      "execution_count": null,
      "id": "50818051",
      "metadata": {
        "id": "50818051"
      },
      "outputs": [],
      "source": [
        "mapidxs1"
      ]
    },
    {
      "cell_type": "code",
      "execution_count": null,
      "id": "8e25538e",
      "metadata": {
        "id": "8e25538e"
      },
      "outputs": [],
      "source": [
        "mapidxs2"
      ]
    },
    {
      "cell_type": "code",
      "execution_count": null,
      "id": "26f5f8ad",
      "metadata": {
        "id": "26f5f8ad"
      },
      "outputs": [],
      "source": [
        "mapidxs3"
      ]
    },
    {
      "cell_type": "code",
      "execution_count": null,
      "id": "20883577",
      "metadata": {
        "id": "20883577"
      },
      "outputs": [],
      "source": [
        "mapidxs4"
      ]
    },
    {
      "cell_type": "code",
      "execution_count": null,
      "id": "3c4ade89",
      "metadata": {
        "id": "3c4ade89"
      },
      "outputs": [],
      "source": [
        "mapidxs5"
      ]
    },
    {
      "cell_type": "code",
      "execution_count": null,
      "id": "1c7d267e",
      "metadata": {
        "id": "1c7d267e"
      },
      "outputs": [],
      "source": [
        "lbllbl = processedList"
      ]
    },
    {
      "cell_type": "code",
      "execution_count": null,
      "id": "5d89a5f2",
      "metadata": {
        "id": "5d89a5f2"
      },
      "outputs": [],
      "source": [
        "lbllbl"
      ]
    },
    {
      "cell_type": "code",
      "execution_count": null,
      "id": "9aaec6f4",
      "metadata": {
        "id": "9aaec6f4"
      },
      "outputs": [],
      "source": [
        "# FLOW 1 => FROM SRC REMOTE IP ADDRESS TO DST SMART DEVICE MAC ADDRESS (TCP/IP STACK LAYER 3 AND 4)\n",
        "srclbl = [ mapidxs1.get(i[0]) for i in sklayer34.groupby([7,3]).count().index ]\n",
        "trgtlbl = [ mapidxs2.get(i[1]) for i in sklayer34.groupby([7,3]).count().index ]\n",
        "vllbl = [ i for i in sklayer34.groupby([7,3]).sum()[6].values ]"
      ]
    },
    {
      "cell_type": "code",
      "execution_count": null,
      "id": "c57e349a",
      "metadata": {
        "id": "c57e349a"
      },
      "outputs": [],
      "source": [
        "# FLOW 2 => FROM DST SMART DEVICE MAC ADDRESS TO SRC REMOTE IP PORT (TCP/IP STACK LAYER 3 AND 4)\n",
        "out = [ srclbl.append(mapidxs2.get(i[0])) for i in sklayer34.groupby([3,2]).count().index  ]\n",
        "out = [ trgtlbl.append(mapidxs3.get(i[1])) for i in sklayer34.groupby([3,2]).count().index ]\n",
        "out = [ vllbl.append(i) for i in sklayer34.groupby([3,2]).sum()[6].values ]"
      ]
    },
    {
      "cell_type": "code",
      "execution_count": null,
      "id": "a815e895",
      "metadata": {
        "id": "a815e895"
      },
      "outputs": [],
      "source": [
        "# FLOW 3 => FROM SRC REMOTE IP PORT TO DST SMART DEVICE PORT (TCP/IP STACK LAYER 3 AND 4)\n",
        "out = [ srclbl.append(mapidxs3.get(i[0])) for i in sklayer34.groupby([2,4]).count().index]\n",
        "out = [ trgtlbl.append(mapidxs4.get(i[1])) for i in sklayer34.groupby([2,4]).count().index ]\n",
        "out = [ vllbl.append(i) for i in sklayer34.groupby([2,4]).sum()[6].values ]"
      ]
    },
    {
      "cell_type": "code",
      "execution_count": null,
      "id": "39e172ae",
      "metadata": {
        "id": "39e172ae"
      },
      "outputs": [],
      "source": [
        "# FLOW 4 => FROM DST SMART DEVICE PORT TO PROTOCOL USED (TCP/IP STACK LAYER 3 AND 4)\n",
        "out = [ srclbl.append(mapidxs4.get(i[0])) for i in sklayer34.groupby([4,5]).count().index ]\n",
        "out = [ trgtlbl.append(mapidxs5.get(i[1])) for i in sklayer34.groupby([4,5]).count().index ]\n",
        "out = [ vllbl.append(i) for i in sklayer34.groupby([4,5]).sum()[6].values ]"
      ]
    },
    {
      "cell_type": "code",
      "execution_count": null,
      "id": "e7d0fa4e",
      "metadata": {
        "id": "e7d0fa4e"
      },
      "outputs": [],
      "source": [
        "# FLOW 5 => FROM SRC REMOTE MAC ADDRESS TO DST SMART DEVICE MAC ADDRESS (TCP/IP STACK LAYER 2)\n",
        "out = [ srclbl.append(mapidxs1.get(i[0])) for i in sklayer2.groupby([7,3]).count().index ]\n",
        "out = [ trgtlbl.append(mapidxs2.get(i[1])) for i in sklayer2.groupby([7,3]).count().index ]\n",
        "out = [ vllbl.append(i) for i in sklayer2.groupby([7,3]).sum()[6].values ]"
      ]
    },
    {
      "cell_type": "code",
      "execution_count": null,
      "id": "403941ff",
      "metadata": {
        "id": "403941ff"
      },
      "outputs": [],
      "source": [
        "# FLOW 6 => FROM DST SMART DEVICE MAC ADDRESS TO PROTOCOL USED (TCP/IP STACK LAYER 2)\n",
        "out = [ srclbl.append(mapidxs2.get(i[0])) for i in sklayer2.groupby([3,5]).count().index ]\n",
        "out = [ trgtlbl.append(mapidxs5.get(i[1])) for i in sklayer2.groupby([3,5]).count().index ]\n",
        "out = [ vllbl.append(i) for i in sklayer2.groupby([7,5]).sum()[6].values ]"
      ]
    },
    {
      "cell_type": "code",
      "execution_count": null,
      "id": "e2ddb975",
      "metadata": {
        "id": "e2ddb975"
      },
      "outputs": [],
      "source": [
        "nodeclrs = [\n",
        "    \"turquoise\" for i in sklbl.apply(lambda x: x[7], axis=1).drop_duplicates().values.tolist()\n",
        "]\n",
        "out = [ nodeclrs.append(\"limegreen\") for i in sklbl.apply(lambda x: x[3], axis=1).drop_duplicates().values.tolist()]\n",
        "out = [ nodeclrs.append(\"green\") for i in sklayer34.apply(lambda x: x[2], axis=1).drop_duplicates().values.tolist() ]\n",
        "out = [ nodeclrs.append(\"salmon\") for i in sklayer34.apply(lambda x: x[4], axis=1).drop_duplicates().values.tolist() ]\n",
        "out = [ nodeclrs.append(\"deeppink\") for i in sklbl.apply(lambda x: x[5], axis=1).drop_duplicates().values.tolist() ]\n",
        "\n",
        "linkclrs=[\n",
        "    \"silver\" for i in trgtlbl\n",
        "]"
      ]
    },
    {
      "cell_type": "code",
      "execution_count": null,
      "id": "b6acdfe1",
      "metadata": {
        "id": "b6acdfe1"
      },
      "outputs": [],
      "source": [
        "fig = go.Figure(data=[go.Sankey(\n",
        "    valuesuffix = \"Bytes\",\n",
        "    node = dict(\n",
        "      pad = 20,\n",
        "      thickness = 20,\n",
        "      line = dict(color = \"black\", width = .5),\n",
        "      label = lbllbl\n",
        "    ),\n",
        "    link = dict(\n",
        "      source = srclbl,\n",
        "      target = trgtlbl,\n",
        "      value = vllbl,\n",
        "  ))])\n",
        "\n",
        "\n",
        "fig.update_layout(width=1500,height=1000,title_text=\"Network Spontaneous Traffic Incoming for {} {} {}\".format(eval(lblsel).get(\"app\"),eval(lblsel).get(\"device\"),eval(lblsel).get(\"name\")), font_size=10)\n",
        "fig.update_traces(node_color=nodeclrs,link_color=linkclrs)\n",
        "fig.write_image(file=\"/content/drive/MyDrive/Thesis - Computer Science and Engineering - Master's degree/datasets/sankey/fig1.png\",format='png',engine='orca')\n",
        "fig.show()"
      ]
    }
  ],
  "metadata": {
    "kernelspec": {
      "display_name": "Python 3 (ipykernel)",
      "language": "python",
      "name": "python3"
    },
    "language_info": {
      "codemirror_mode": {
        "name": "ipython",
        "version": 3
      },
      "file_extension": ".py",
      "mimetype": "text/x-python",
      "name": "python",
      "nbconvert_exporter": "python",
      "pygments_lexer": "ipython3",
      "version": "3.11.6"
    },
    "colab": {
      "provenance": [],
      "include_colab_link": true
    }
  },
  "nbformat": 4,
  "nbformat_minor": 5
}