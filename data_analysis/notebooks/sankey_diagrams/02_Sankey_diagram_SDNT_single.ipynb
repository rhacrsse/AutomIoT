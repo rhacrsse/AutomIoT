{
  "cells": [
    {
      "cell_type": "markdown",
      "metadata": {
        "id": "view-in-github",
        "colab_type": "text"
      },
      "source": [
        "<a href=\"https://colab.research.google.com/github/rhacrsse/AutomIoT/blob/main/data_analysis/notebooks/sankey_diagrams/02_Sankey_diagram_SDNT_single.ipynb\" target=\"_parent\"><img src=\"https://colab.research.google.com/assets/colab-badge.svg\" alt=\"Open In Colab\"/></a>"
      ]
    },
    {
      "cell_type": "markdown",
      "id": "275ac7e3",
      "metadata": {
        "id": "275ac7e3"
      },
      "source": [
        "# Analisi traffico di rete generato dai dispositivi\n",
        "\n",
        "## Smart Device Network Traffic (SDNT)\n",
        "\n",
        "## Utilizzo sankey diagrams\n",
        "\n",
        "### SMARTBULB EZVIZ 64:F2:FB:DF:FB:E1 -> LABEL 1\n",
        "### ~~SMARTPLUG EZVIZ 64:F2:FB:48:2C:5B -> LABEL 2~~\n",
        "### SMARTBULB TAPO  00:5F:67:BF:09:EF -> LABEL 3\n",
        "### SMARTPLUG TAPO  E8:48:B8:D6:A8:1D -> LABEL 4"
      ]
    },
    {
      "cell_type": "code",
      "source": [
        "from google.colab import drive\n",
        "drive.mount('/content/drive')"
      ],
      "metadata": {
        "id": "vxBQkCsGXvED"
      },
      "id": "vxBQkCsGXvED",
      "execution_count": null,
      "outputs": []
    },
    {
      "cell_type": "code",
      "execution_count": null,
      "id": "02b92ecf",
      "metadata": {
        "id": "02b92ecf"
      },
      "outputs": [],
      "source": [
        "import pandas as pd\n",
        "import matplotlib.pyplot as plt\n",
        "import numpy as np\n",
        "import time\n",
        "from datetime import datetime as dt, timedelta as td\n",
        "import time\n",
        "import plotly.express as px\n",
        "import socket\n",
        "import dns.resolver as dns\n",
        "import plotly.graph_objects as go"
      ]
    },
    {
      "cell_type": "code",
      "execution_count": null,
      "id": "66bffbb6",
      "metadata": {
        "id": "66bffbb6"
      },
      "outputs": [],
      "source": [
        "# capture.pcap\n",
        "first = dt.strptime('2022-09-20 17:19:24.476804','%Y-%m-%d %H:%M:%S.%f')\n",
        "second = dt.strptime('2022-09-21 12:30:37.158704','%Y-%m-%d %H:%M:%S.%f')\n",
        "result = second - first\n",
        "str(result)"
      ]
    },
    {
      "cell_type": "code",
      "execution_count": null,
      "id": "d9c350d2",
      "metadata": {
        "id": "d9c350d2"
      },
      "outputs": [],
      "source": [
        "# capture1.pcap\n",
        "first = dt.strptime('2022-09-21 12:30:37.172284','%Y-%m-%d %H:%M:%S.%f')\n",
        "second = dt.strptime('2022-09-22 13:41:31.234271','%Y-%m-%d %H:%M:%S.%f')\n",
        "result = second - first\n",
        "str(result)"
      ]
    },
    {
      "cell_type": "code",
      "execution_count": null,
      "id": "984f1699",
      "metadata": {
        "id": "984f1699"
      },
      "outputs": [],
      "source": [
        "# capture2.pcap\n",
        "first = dt.strptime('2022-09-22 13:41:31.234278','%Y-%m-%d %H:%M:%S.%f')\n",
        "second = dt.strptime('2022-09-22 17:45:33.925015','%Y-%m-%d %H:%M:%S.%f')\n",
        "result = second - first\n",
        "str(result)"
      ]
    },
    {
      "cell_type": "code",
      "execution_count": null,
      "id": "303e32c8",
      "metadata": {
        "id": "303e32c8"
      },
      "outputs": [],
      "source": [
        "# capture3.pcap\n",
        "first = dt.strptime('2022-09-22 17:45:33.925034','%Y-%m-%d %H:%M:%S.%f')\n",
        "second = dt.strptime('2022-09-22 20:26:21.938617','%Y-%m-%d %H:%M:%S.%f')\n",
        "result = second - first\n",
        "str(result)"
      ]
    },
    {
      "cell_type": "code",
      "execution_count": null,
      "id": "e726ac60",
      "metadata": {
        "id": "e726ac60"
      },
      "outputs": [],
      "source": [
        "#\n",
        "# LABELS DEFINITION\n",
        "# Device are identified by MAC address associated to the device by the linksys router\n",
        "# during the tcpdump capturing phase\n",
        "#\n",
        "# Ezviz Smart Bulb LB1\n",
        "label1 = {\"mac\":\"64:F2:FB:DF:FB:E1\",\"app\":\"EZVIZ\",\"device\":\"Smart Bulb\",\"name\":\"LB1\"}\n",
        "# Ezviz Smart Plug T31\n",
        "# label2 = {\"mac\":\"64:F2:FB:48:2C:5B\",\"app\":\"EZVIZ\",\"device\":\"Smart Plug\",\"name\":\"T31\"}\n",
        "# Tapo Smart Bulb L530E\n",
        "label3 = {\"mac\":\"00:5F:67:BF:09:EF\",\"app\":\"Tapo\",\"device\":\"Smart Bulb\",\"name\":\"L530E\"}\n",
        "# Tapo Smart Plug P100\n",
        "label4 = {\"mac\":\"E8:48:B8:D6:A8:1D\",\"app\":\"Tapo\",\"device\":\"Smart Plug\",\"name\":\"P100\"}"
      ]
    },
    {
      "cell_type": "markdown",
      "id": "25d570d7",
      "metadata": {
        "id": "25d570d7"
      },
      "source": [
        "![sphx_glr_named_colors_003.webp](attachment:sphx_glr_named_colors_003.webp)"
      ]
    },
    {
      "cell_type": "code",
      "execution_count": null,
      "id": "f9d44d3e",
      "metadata": {
        "id": "f9d44d3e"
      },
      "outputs": [],
      "source": [
        "nodeclrs = [\"black\",\n",
        "            \"dimgray\",\n",
        "            \"dimgrey\",\n",
        "            \"gray\",\n",
        "            \"grey\",\n",
        "            \"darkgray\",\n",
        "            \"darkgrey\",\n",
        "            \"silver\",\n",
        "            \"lightgray\",\n",
        "            \"lightgrey\",\n",
        "            \"gainsboro\",\n",
        "            \"whitesmoke\",\n",
        "            \"white\",\"snow\",\n",
        "            \"rosybrown\",\n",
        "            \"lightcoral\",\n",
        "            \"indianred\",\n",
        "            \"brown\",\n",
        "            \"firebrick\",\n",
        "            \"maroon\",\n",
        "            \"darkred\",\n",
        "            \"red\",\n",
        "            \"mistyrose\",\n",
        "            \"salmon\",\n",
        "            \"tomato\",\n",
        "            \"darksalmon\",\n",
        "            \"coral\",\n",
        "            \"orangered\",\n",
        "            \"lightsalmon\",\n",
        "            \"sienna\",\n",
        "            \"seashell\",\n",
        "            \"chocolate\",\n",
        "            \"saddlebrown\",\n",
        "            \"sandybrown\",\n",
        "            \"peachpuff\",\n",
        "            \"peru\",\n",
        "            \"linen\",\n",
        "            \"bisque\",\n",
        "            \"darkorange\",\n",
        "            \"burlywood\",\n",
        "            \"antiquewhite\",\n",
        "            \"tan\",\n",
        "            \"navajowhite\",\n",
        "            \"blanchedalmond\",\n",
        "            \"papayawhip\",\n",
        "            \"moccasin\",\n",
        "            \"orange\",\n",
        "            \"wheat\",\n",
        "            \"oldlace\",\n",
        "            \"floralwhite\",\n",
        "            \"darkgoldenrod\",\n",
        "            \"goldenrod\",\n",
        "            \"cornsilk\",\n",
        "            \"gold\",\n",
        "            \"lemonchiffon\",\n",
        "            \"khaki\",\n",
        "            \"palegoldenrod\",\n",
        "            \"darkkhaki\",\n",
        "            \"Ivory\",\n",
        "            \"beige\",\n",
        "            \"lightyellow\",\n",
        "            \"lightgoldenrodyellow\",\n",
        "            \"olive\",\n",
        "            \"yellow\",\n",
        "            \"olivedrab\",\n",
        "            \"yellowgreen\",\n",
        "            \"darkolivegreen\",\n",
        "            \"greenyellow\",\n",
        "            \"chartreuse\",\n",
        "            \"lawngreen\",\n",
        "            \"honeydew\",\n",
        "            \"darkseagreen\",\n",
        "            \"palegreen\",\n",
        "            \"lightgreen\",\n",
        "            \"forestgreen\",\n",
        "            \"limegreen\",\n",
        "            \"darkgreen\",\n",
        "            \"green\",\n",
        "            \"lime\",\n",
        "            \"seagreen\",\n",
        "            \"mediumseagreen\",\n",
        "            \"springgreen\",\n",
        "            \"mintcream\",\n",
        "            \"mediumspringgreen\",\n",
        "            \"mediumaquamarine\",\n",
        "            \"aquamarine\",\n",
        "            \"turquoise\",\n",
        "            \"lightseagreen\",\n",
        "            \"mediumturquoise\",\n",
        "            \"azure\",\n",
        "            \"lightcyan\",\n",
        "            \"paleturquoise\",\n",
        "            \"darkslategray\",\n",
        "            \"darkslategrey\",\n",
        "            \"teal\",\n",
        "            \"darkcyan\",\n",
        "            \"aqua\",\n",
        "            \"cyan\",\n",
        "            \"darkturquoise\",\n",
        "            \"cadetblue\",\n",
        "            \"powderblue\",\n",
        "            \"lightblue\",\n",
        "            \"deepskyblue\",\n",
        "            \"skyblue\",\n",
        "            \"lightskyblue\",\n",
        "            \"steelblue\",\n",
        "            \"aliceblue\",\n",
        "            \"dodgerblue\",\n",
        "            \"lightslategray\",\n",
        "            \"lightslategrey\",\n",
        "            \"slategray\",\n",
        "            \"slategrey\",\n",
        "            \"lightsteelblue\",\n",
        "            \"cornflowerblue\",\n",
        "            \"royalblue\",\n",
        "            \"ghostwhite\",\n",
        "            \"lavender\",\n",
        "            \"midnightblue\",\n",
        "            \"navy\",\n",
        "            \"darkblue\",\n",
        "            \"mediumblue\",\n",
        "            \"blue\",\n",
        "            \"slateblue\",\n",
        "            \"darkslateblue\",\n",
        "            \"mediumslateblue\",\n",
        "            \"mediumpurple\",\n",
        "            \"rebeccapurple\",\n",
        "            \"blueviolet\",\n",
        "            \"indigo\",\n",
        "            \"darkorchid\",\n",
        "            \"darkviolet\",\n",
        "            \"mediumorchid\",\n",
        "            \"thistle\",\n",
        "            \"plum\",\n",
        "            \"violet\",\n",
        "            \"purple\",\n",
        "            \"darkmagenta\",\n",
        "            \"fuchsia\",\n",
        "            \"magenta\",\n",
        "            \"orchid\",\n",
        "            \"mediumvioletred\",\n",
        "            \"deeppink\",\n",
        "            \"hotpink\",\n",
        "            \"lavenderblush\",\n",
        "            \"palevioletred\",\n",
        "            \"crimson\",\n",
        "            \"pink\",\n",
        "            \"lightpink\"\n",
        "           ]"
      ]
    },
    {
      "cell_type": "markdown",
      "id": "9f56b994",
      "metadata": {
        "id": "9f56b994"
      },
      "source": []
    },
    {
      "cell_type": "markdown",
      "id": "a954ecad",
      "metadata": {
        "id": "a954ecad"
      },
      "source": [
        "## NETWORK TRAFFIC OUTGOING SMART DEVICE"
      ]
    },
    {
      "cell_type": "markdown",
      "id": "9aee4b55",
      "metadata": {
        "id": "9aee4b55"
      },
      "source": [
        "#### filtering the pcap upon smart devices mac address"
      ]
    },
    {
      "cell_type": "markdown",
      "id": "7e7e628d",
      "metadata": {
        "id": "7e7e628d"
      },
      "source": []
    },
    {
      "cell_type": "code",
      "execution_count": null,
      "id": "4cd3ae6b",
      "metadata": {
        "id": "4cd3ae6b"
      },
      "outputs": [],
      "source": [
        "lblsel = 'label1'"
      ]
    },
    {
      "cell_type": "code",
      "execution_count": null,
      "id": "685922db",
      "metadata": {
        "id": "685922db"
      },
      "outputs": [],
      "source": [
        "skdata = pd.read_csv(\"/content/drive/MyDrive/Thesis - Computer Science and Engineering - Master's degree/datasets/sankey/sankey.csv\",header=None)"
      ]
    },
    {
      "cell_type": "code",
      "execution_count": null,
      "id": "baf352c0",
      "metadata": {
        "id": "baf352c0"
      },
      "outputs": [],
      "source": [
        "skdata"
      ]
    },
    {
      "cell_type": "code",
      "execution_count": null,
      "id": "9b0cffaf-67af-4f51-b090-77ceb3c6806b",
      "metadata": {
        "id": "9b0cffaf-67af-4f51-b090-77ceb3c6806b"
      },
      "outputs": [],
      "source": [
        "len(skdata)"
      ]
    },
    {
      "cell_type": "code",
      "execution_count": null,
      "id": "c37019a2-575b-4a86-9aa9-fa4aad6076a4",
      "metadata": {
        "id": "c37019a2-575b-4a86-9aa9-fa4aad6076a4"
      },
      "outputs": [],
      "source": [
        "sum(skdata[10])"
      ]
    },
    {
      "cell_type": "code",
      "execution_count": null,
      "id": "e051b01f",
      "metadata": {
        "id": "e051b01f"
      },
      "outputs": [],
      "source": [
        "skdata.take(range(0,10))"
      ]
    },
    {
      "cell_type": "code",
      "execution_count": null,
      "id": "a62a4cea",
      "metadata": {
        "id": "a62a4cea"
      },
      "outputs": [],
      "source": [
        "pino = eval(lblsel).get(\"mac\").lower()\n",
        "\n",
        "# TRAFFICO IN USCITA DA DISPOSITIVO VERSO L'ESTERNO\n",
        "skinit = skdata.query(\"@skdata[1] == '{}'\".format(pino))"
      ]
    },
    {
      "cell_type": "code",
      "execution_count": null,
      "id": "d3ce5775",
      "metadata": {
        "id": "d3ce5775"
      },
      "outputs": [],
      "source": [
        "skinit"
      ]
    },
    {
      "cell_type": "code",
      "execution_count": null,
      "id": "37975fe5",
      "metadata": {
        "id": "37975fe5"
      },
      "outputs": [],
      "source": [
        "len(skinit)"
      ]
    },
    {
      "cell_type": "code",
      "execution_count": null,
      "id": "296025ee-51e4-4d3c-a43c-9b2cc368e554",
      "metadata": {
        "id": "296025ee-51e4-4d3c-a43c-9b2cc368e554"
      },
      "outputs": [],
      "source": [
        "sum(skinit[10])"
      ]
    },
    {
      "cell_type": "code",
      "execution_count": null,
      "id": "68432496",
      "metadata": {
        "id": "68432496"
      },
      "outputs": [],
      "source": [
        "skcleanse=skinit.fillna(0)"
      ]
    },
    {
      "cell_type": "code",
      "execution_count": null,
      "id": "aae3b5ac",
      "metadata": {
        "id": "aae3b5ac"
      },
      "outputs": [],
      "source": [
        "skcleanse.take(range(0,10))"
      ]
    },
    {
      "cell_type": "code",
      "execution_count": null,
      "id": "84d5f0dd",
      "metadata": {
        "id": "84d5f0dd"
      },
      "outputs": [],
      "source": [
        "def remap(mtup):\n",
        "    # OUTGOING\n",
        "    # [ time, mac address smart device, src port, fdqn/ip remote host, dst port, protocol, frame length ]\n",
        "\n",
        "    # IP not defined => Layer 2 protocol\n",
        "    if mtup[2] == 0 and mtup[6] == 0:\n",
        "        mtup[[2,3,4,5,6]] = [mtup[3],mtup[5],mtup[7],mtup[9],mtup[10]]\n",
        "        return mtup[range(0,7)]\n",
        "\n",
        "    # IP defined, but not TCP port => Layer 3 and 4 UDP protocol\n",
        "    if mtup[4] == 0 and mtup[8] == 0:\n",
        "        mtup[[2,3,4,5,6]] = [mtup[3],mtup[6],mtup[7],mtup[9],mtup[10]]\n",
        "        return mtup[range(0,7)]\n",
        "\n",
        "    # IP defined, TCP port defined => Layer 3 and 4 TCP protocol\n",
        "    mtup[[2,3,4,5,6]] = [mtup[4],mtup[6],mtup[8],mtup[9],mtup[10]]\n",
        "\n",
        "    return mtup[range(0,7)]"
      ]
    },
    {
      "cell_type": "code",
      "execution_count": null,
      "id": "4bd1efc8",
      "metadata": {
        "id": "4bd1efc8"
      },
      "outputs": [],
      "source": [
        "sklbl = skcleanse.apply(lambda x: remap(x), axis=1)"
      ]
    },
    {
      "cell_type": "code",
      "execution_count": null,
      "id": "3512d8db",
      "metadata": {
        "id": "3512d8db"
      },
      "outputs": [],
      "source": [
        "sklbl"
      ]
    },
    {
      "cell_type": "code",
      "execution_count": null,
      "id": "c5decf62",
      "metadata": {
        "id": "c5decf62"
      },
      "outputs": [],
      "source": [
        "def getfqdn(ip):\n",
        "    try:\n",
        "        #return socket.gethostbyaddr(ip)[0]\n",
        "        return str(dns.Resolver().resolve_address(ip)[0])\n",
        "    except Exception as e:\n",
        "        return ip"
      ]
    },
    {
      "cell_type": "code",
      "execution_count": null,
      "id": "728afa94-da31-49a2-89bf-80636566885a",
      "metadata": {
        "id": "728afa94-da31-49a2-89bf-80636566885a"
      },
      "outputs": [],
      "source": [
        "dns1 = dns.Resolver()\n",
        "dns1.nameservers = ['1.1.1.1','1.0.0.1','208.67.222.222','208.67.220.220','4.4.4.4','8.8.4.4']\n",
        "print(dns1.nameservers)\n",
        "print(dns1.resolve_address('18.203.82.110')[0])\n",
        "print(dns1.resolve_address('54.155.237.177')[0])"
      ]
    },
    {
      "cell_type": "code",
      "execution_count": null,
      "id": "cc76c6f4-ebe7-449d-b27b-81ec93989cd1",
      "metadata": {
        "id": "cc76c6f4-ebe7-449d-b27b-81ec93989cd1"
      },
      "outputs": [],
      "source": [
        "sklbl.take(range(0,5))"
      ]
    },
    {
      "cell_type": "code",
      "execution_count": null,
      "id": "f7cdc0e7-e652-4c73-9807-09cdf3f7d354",
      "metadata": {
        "id": "f7cdc0e7-e652-4c73-9807-09cdf3f7d354"
      },
      "outputs": [],
      "source": [
        "#sklbl.take(range(0,10000)).apply(lambda x: getfqdn(x[3]), axis=1)"
      ]
    },
    {
      "cell_type": "code",
      "execution_count": null,
      "id": "f4e1d089",
      "metadata": {
        "id": "f4e1d089"
      },
      "outputs": [],
      "source": [
        "tic = time.time()\n",
        "\n",
        "cns = sklbl.apply(lambda x: getfqdn(x[3]), axis=1)\n",
        "\n",
        "toc = time.time()\n",
        "elapsed = toc - tic"
      ]
    },
    {
      "cell_type": "code",
      "execution_count": null,
      "id": "6e60b196",
      "metadata": {
        "id": "6e60b196"
      },
      "outputs": [],
      "source": [
        "elapsed"
      ]
    },
    {
      "cell_type": "code",
      "execution_count": null,
      "id": "0cdc546b",
      "metadata": {
        "id": "0cdc546b"
      },
      "outputs": [],
      "source": [
        "cns"
      ]
    },
    {
      "cell_type": "code",
      "execution_count": null,
      "id": "0871626f",
      "metadata": {
        "id": "0871626f"
      },
      "outputs": [],
      "source": [
        "sklbl.insert(7,7,cns)"
      ]
    },
    {
      "cell_type": "code",
      "execution_count": null,
      "id": "6efa5f94",
      "metadata": {
        "id": "6efa5f94"
      },
      "outputs": [],
      "source": [
        "sklbl[2]= sklbl.apply(lambda x: int(x[2]), axis=1)\n",
        "sklbl[4]= sklbl.apply(lambda x: int(x[4]), axis=1)"
      ]
    },
    {
      "cell_type": "code",
      "execution_count": null,
      "id": "711f2c34",
      "metadata": {
        "id": "711f2c34"
      },
      "outputs": [],
      "source": [
        "sklbl"
      ]
    },
    {
      "cell_type": "code",
      "execution_count": null,
      "id": "d44025ed",
      "metadata": {
        "id": "d44025ed"
      },
      "outputs": [],
      "source": [
        "sklayer34 = sklbl.query(\"@sklbl[2] != 0 and @sklbl[4] != 0\")"
      ]
    },
    {
      "cell_type": "code",
      "execution_count": null,
      "id": "7b801e92",
      "metadata": {
        "id": "7b801e92"
      },
      "outputs": [],
      "source": [
        "sklayer34"
      ]
    },
    {
      "cell_type": "code",
      "execution_count": null,
      "id": "d85592b0",
      "metadata": {
        "id": "d85592b0"
      },
      "outputs": [],
      "source": [
        "sklayer2 = sklbl.query(\"@sklbl[2] == 0 and @sklbl[4] == 0\")"
      ]
    },
    {
      "cell_type": "code",
      "execution_count": null,
      "id": "3e850dc9",
      "metadata": {
        "id": "3e850dc9"
      },
      "outputs": [],
      "source": [
        "sklayer2"
      ]
    },
    {
      "cell_type": "code",
      "execution_count": null,
      "id": "fbed41ea",
      "metadata": {
        "id": "fbed41ea"
      },
      "outputs": [],
      "source": [
        "processedList = [ i for i in sklbl.apply(lambda x: x[1], axis=1).drop_duplicates().values.tolist() ]\n",
        "out = [ processedList.append(i) for i in sklbl.apply(lambda x: x[7], axis=1).drop_duplicates().values.tolist() ]\n",
        "out = [ processedList.append(i) for i in sklayer34.apply(lambda x: x[2], axis=1).drop_duplicates().values.tolist() ]\n",
        "out = [ processedList.append(i) for i in sklayer34.apply(lambda x: x[4], axis=1).drop_duplicates().values.tolist() ]\n",
        "out = [ processedList.append(i) for i in sklbl.apply(lambda x: x[5], axis=1).drop_duplicates().values.tolist() ]"
      ]
    },
    {
      "cell_type": "code",
      "execution_count": null,
      "id": "762e88d1",
      "metadata": {
        "id": "762e88d1"
      },
      "outputs": [],
      "source": [
        "processedList"
      ]
    },
    {
      "cell_type": "code",
      "execution_count": null,
      "id": "ec7205ae",
      "metadata": {
        "id": "ec7205ae"
      },
      "outputs": [],
      "source": [
        "processedList1 = [ i for i in sklbl.apply(lambda x: x[1], axis=1).drop_duplicates().values.tolist() ]\n",
        "processedList2 = [ i for i in sklbl.apply(lambda x: x[7], axis=1).drop_duplicates().values.tolist() ]\n",
        "processedList3 = [ i for i in sklayer34.apply(lambda x: x[2], axis=1).drop_duplicates().values.tolist() ]\n",
        "processedList4 = [ i for i in sklayer34.apply(lambda x: x[4], axis=1).drop_duplicates().values.tolist() ]\n",
        "processedList5 = [ i for i in sklbl.apply(lambda x: x[5], axis=1).drop_duplicates().values.tolist() ]"
      ]
    },
    {
      "cell_type": "code",
      "execution_count": null,
      "id": "fcb257dc",
      "metadata": {
        "id": "fcb257dc"
      },
      "outputs": [],
      "source": [
        "processedList1"
      ]
    },
    {
      "cell_type": "code",
      "execution_count": null,
      "id": "b9e7f9fe",
      "metadata": {
        "id": "b9e7f9fe"
      },
      "outputs": [],
      "source": [
        "processedList2"
      ]
    },
    {
      "cell_type": "code",
      "execution_count": null,
      "id": "d487f874",
      "metadata": {
        "id": "d487f874"
      },
      "outputs": [],
      "source": [
        "processedList3"
      ]
    },
    {
      "cell_type": "code",
      "execution_count": null,
      "id": "15eb79c1",
      "metadata": {
        "id": "15eb79c1"
      },
      "outputs": [],
      "source": [
        "processedList4"
      ]
    },
    {
      "cell_type": "code",
      "execution_count": null,
      "id": "a27e02d9",
      "metadata": {
        "id": "a27e02d9"
      },
      "outputs": [],
      "source": [
        "processedList5"
      ]
    },
    {
      "cell_type": "code",
      "execution_count": null,
      "id": "f08e8477",
      "metadata": {
        "id": "f08e8477"
      },
      "outputs": [],
      "source": [
        "mapidxs1 = { i: processedList1.index(i) for i in processedList1 }\n",
        "mapidxs2 = { i: processedList2.index(i) + len(processedList1) for i in processedList2 }\n",
        "mapidxs3 = { i: processedList3.index(i) + len(processedList1) + len(processedList2) for i in processedList3 }\n",
        "mapidxs4 = { i: processedList4.index(i) + len(processedList1) + len(processedList2) + len(processedList3) for i in processedList4 }\n",
        "mapidxs5 = { i: processedList5.index(i) + len(processedList1) + len(processedList2) + len(processedList3) + len(processedList4) for i in processedList5 }"
      ]
    },
    {
      "cell_type": "code",
      "execution_count": null,
      "id": "011d4889",
      "metadata": {
        "id": "011d4889"
      },
      "outputs": [],
      "source": [
        "mapidxs1"
      ]
    },
    {
      "cell_type": "code",
      "execution_count": null,
      "id": "fa665cc9",
      "metadata": {
        "id": "fa665cc9"
      },
      "outputs": [],
      "source": [
        "mapidxs2"
      ]
    },
    {
      "cell_type": "code",
      "execution_count": null,
      "id": "1fa1688b",
      "metadata": {
        "id": "1fa1688b"
      },
      "outputs": [],
      "source": [
        "mapidxs3"
      ]
    },
    {
      "cell_type": "code",
      "execution_count": null,
      "id": "205072b0",
      "metadata": {
        "id": "205072b0"
      },
      "outputs": [],
      "source": [
        "mapidxs4"
      ]
    },
    {
      "cell_type": "code",
      "execution_count": null,
      "id": "b9d9aa99",
      "metadata": {
        "id": "b9d9aa99"
      },
      "outputs": [],
      "source": [
        "mapidxs5"
      ]
    },
    {
      "cell_type": "code",
      "execution_count": null,
      "id": "1aad94c6",
      "metadata": {
        "id": "1aad94c6"
      },
      "outputs": [],
      "source": [
        "lbllbl = processedList"
      ]
    },
    {
      "cell_type": "code",
      "execution_count": null,
      "id": "5001d181",
      "metadata": {
        "id": "5001d181"
      },
      "outputs": [],
      "source": [
        "lbllbl"
      ]
    },
    {
      "cell_type": "code",
      "execution_count": null,
      "id": "b927d13b",
      "metadata": {
        "id": "b927d13b"
      },
      "outputs": [],
      "source": [
        "# FLOW 1 => FROM SRC SMART DEVICE MAC ADDRESS TO DST REMOTE IP ADDRESS (TCP/IP STACK LAYER 3 AND 4)\n",
        "srclbl = [ mapidxs1.get(i[0]) for i in sklayer34.groupby([1,7]).count().index ]\n",
        "trgtlbl = [ mapidxs2.get(i[1]) for i in sklayer34.groupby([1,7]).count().index ]\n",
        "vllbl = [ i for i in sklayer34.groupby([1,7]).sum()[6].values ]"
      ]
    },
    {
      "cell_type": "code",
      "execution_count": null,
      "id": "56de997f",
      "metadata": {
        "id": "56de997f"
      },
      "outputs": [],
      "source": [
        "# FLOW 2 => FROM DST REMOTE IP ADDRESS TO SRC SMART DEVICE PORT (TCP/IP STACK LAYER 3 AND 4)\n",
        "out = [ srclbl.append(mapidxs2.get(i[0])) for i in sklayer34.groupby([7,2]).count().index ]\n",
        "out = [ trgtlbl.append(mapidxs3.get(i[1])) for i in sklayer34.groupby([7,2]).count().index ]\n",
        "out = [ vllbl.append(i) for i in sklayer34.groupby([7,2]).sum()[6].values ]"
      ]
    },
    {
      "cell_type": "code",
      "execution_count": null,
      "id": "71d20718",
      "metadata": {
        "id": "71d20718"
      },
      "outputs": [],
      "source": [
        "# FLOW 3 => FROM SRC SMART DEVICE PORT TO DST REMOTE PORT (TCP/IP STACK LAYER 3 AND 4)\n",
        "out = [ srclbl.append(mapidxs3.get(i[0])) for i in sklayer34.groupby([2,4]).count().index ]\n",
        "out = [ trgtlbl.append(mapidxs4.get(i[1])) for i in sklayer34.groupby([2,4]).count().index ]\n",
        "out = [ vllbl.append(i) for i in sklayer34.groupby([2,4]).sum()[6].values ]"
      ]
    },
    {
      "cell_type": "code",
      "execution_count": null,
      "id": "1061be90",
      "metadata": {
        "id": "1061be90"
      },
      "outputs": [],
      "source": [
        "# FLOW 4 => FROM DST REMOTE PORT TO PROTOCOL USED (TCP/IP STACK LAYER 3 AND 4)\n",
        "out = [ srclbl.append(mapidxs4.get(i[0])) for i in sklayer34.groupby([4,5]).count().index ]\n",
        "out = [ trgtlbl.append(mapidxs5.get(i[1])) for i in sklayer34.groupby([4,5]).count().index ]\n",
        "out = [ vllbl.append(i) for i in sklayer34.groupby([4,5]).sum()[6].values ]"
      ]
    },
    {
      "cell_type": "code",
      "execution_count": null,
      "id": "a6b07dc5",
      "metadata": {
        "id": "a6b07dc5"
      },
      "outputs": [],
      "source": [
        "# FLOW 5 => FROM SRC SMART DEVICE MAC ADDRESS TO DST REMOTE MAC ADDRESS (TCP/IP STACK LAYER 2)\n",
        "out = [ srclbl.append(mapidxs1.get(i[0])) for i in sklayer2.groupby([1,7]).count().index ]\n",
        "out = [ trgtlbl.append(mapidxs2.get(i[1])) for i in sklayer2.groupby([1,7]).count().index ]\n",
        "out = [ vllbl.append(i) for i in sklayer2.groupby([1,7]).sum()[6].values ]"
      ]
    },
    {
      "cell_type": "code",
      "execution_count": null,
      "id": "6fee3446",
      "metadata": {
        "id": "6fee3446"
      },
      "outputs": [],
      "source": [
        "# FLOW 6 => FROM DST REMOTE MAC ADDRESS TO PROTOCOL USED (TCP/IP STACK LAYER 2)\n",
        "out = [ srclbl.append(mapidxs2.get(i[0])) for i in sklayer2.groupby([7,5]).count().index ]\n",
        "out = [ trgtlbl.append(mapidxs5.get(i[1])) for i in sklayer2.groupby([7,5]).count().index ]\n",
        "out = [ vllbl.append(i) for i in sklayer2.groupby([7,5]).sum()[6].values ]"
      ]
    },
    {
      "cell_type": "code",
      "execution_count": null,
      "id": "6e1468d7",
      "metadata": {
        "id": "6e1468d7"
      },
      "outputs": [],
      "source": [
        "nodeclrs = [\n",
        "    \"turquoise\" for i in sklbl.apply(lambda x: x[1], axis=1).drop_duplicates().values.tolist()\n",
        "]\n",
        "out = [ nodeclrs.append(\"limegreen\") for i in sklbl.apply(lambda x: x[7], axis=1).drop_duplicates().values.tolist()]\n",
        "out = [ nodeclrs.append(\"green\") for i in sklayer34.apply(lambda x: x[2], axis=1).drop_duplicates().values.tolist() ]\n",
        "out = [ nodeclrs.append(\"salmon\") for i in sklayer34.apply(lambda x: x[4], axis=1).drop_duplicates().values.tolist() ]\n",
        "out = [ nodeclrs.append(\"deeppink\") for i in sklbl.apply(lambda x: x[5], axis=1).drop_duplicates().values.tolist() ]\n",
        "\n",
        "linkclrs=[\n",
        "    \"silver\" for i in trgtlbl\n",
        "]"
      ]
    },
    {
      "cell_type": "code",
      "execution_count": null,
      "id": "881d9855",
      "metadata": {
        "id": "881d9855"
      },
      "outputs": [],
      "source": [
        "fig = go.Figure(data=[go.Sankey(\n",
        "    valuesuffix = \"Bytes\",\n",
        "    node = dict(\n",
        "      pad = 10,\n",
        "      thickness = 5,\n",
        "      line = dict(color = \"black\", width = .5),\n",
        "      label = lbllbl\n",
        "    ),\n",
        "    link = dict(\n",
        "      source = srclbl,\n",
        "      target = trgtlbl,\n",
        "      value = vllbl\n",
        "  ))])\n",
        "\n",
        "\n",
        "fig.update_layout(width=1000,height=500,title_text=\"Network Traffic Outgoing for {} {} {}\".format(eval(lblsel).get(\"app\"),eval(lblsel).get(\"device\"),eval(lblsel).get(\"name\")), font_size=10)\n",
        "fig.update_traces(node_color=nodeclrs,link_color=linkclrs)\n",
        "fig.write_image(file=\"/content/drive/MyDrive/Thesis - Computer Science and Engineering - Master's degree/datasets/sankey/fig1.png\",format='png',engine='orca')\n",
        "fig.show()"
      ]
    },
    {
      "cell_type": "markdown",
      "id": "fa30a870",
      "metadata": {
        "id": "fa30a870"
      },
      "source": []
    },
    {
      "cell_type": "markdown",
      "id": "c50902fe",
      "metadata": {
        "id": "c50902fe"
      },
      "source": [
        "## NETWORK TRAFFIC INCOMING SMART DEVICE"
      ]
    },
    {
      "cell_type": "markdown",
      "id": "84097f46",
      "metadata": {
        "id": "84097f46"
      },
      "source": []
    },
    {
      "cell_type": "code",
      "execution_count": null,
      "id": "f30bdb88",
      "metadata": {
        "id": "f30bdb88"
      },
      "outputs": [],
      "source": [
        "lblsel = 'label1'"
      ]
    },
    {
      "cell_type": "code",
      "execution_count": null,
      "id": "e9271878",
      "metadata": {
        "id": "e9271878"
      },
      "outputs": [],
      "source": [
        "skdata = pd.read_csv(\"/content/drive/MyDrive/Thesis - Computer Science and Engineering - Master's degree/datasets/sankey/sankey.csv\",header=None)"
      ]
    },
    {
      "cell_type": "code",
      "execution_count": null,
      "id": "799c47f0",
      "metadata": {
        "id": "799c47f0"
      },
      "outputs": [],
      "source": [
        "len(skdata)"
      ]
    },
    {
      "cell_type": "code",
      "execution_count": null,
      "id": "d460e04f",
      "metadata": {
        "id": "d460e04f"
      },
      "outputs": [],
      "source": [
        "skdata.take(range(0,10))"
      ]
    },
    {
      "cell_type": "code",
      "execution_count": null,
      "id": "31366231",
      "metadata": {
        "id": "31366231"
      },
      "outputs": [],
      "source": [
        "pino = eval(lblsel).get(\"mac\").lower()\n",
        "\n",
        "# TRAFFICO IN ENTRATA VERSO IL DISPOSITIVO DALL'ESTERNO\n",
        "skinit = skdata.query(\"@skdata[5] == '{}'\".format(pino))"
      ]
    },
    {
      "cell_type": "code",
      "execution_count": null,
      "id": "1da5885c",
      "metadata": {
        "id": "1da5885c"
      },
      "outputs": [],
      "source": [
        "skinit"
      ]
    },
    {
      "cell_type": "code",
      "execution_count": null,
      "id": "bb1483a7-129c-4182-ab5e-6c55b1bb9acb",
      "metadata": {
        "id": "bb1483a7-129c-4182-ab5e-6c55b1bb9acb"
      },
      "outputs": [],
      "source": [
        "len(skinit)"
      ]
    },
    {
      "cell_type": "code",
      "execution_count": null,
      "id": "d589906f",
      "metadata": {
        "id": "d589906f"
      },
      "outputs": [],
      "source": [
        "sum(skinit[10])"
      ]
    },
    {
      "cell_type": "code",
      "execution_count": null,
      "id": "10645339",
      "metadata": {
        "id": "10645339"
      },
      "outputs": [],
      "source": [
        "skcleanse=skinit.fillna(0)"
      ]
    },
    {
      "cell_type": "code",
      "execution_count": null,
      "id": "cf345159",
      "metadata": {
        "id": "cf345159"
      },
      "outputs": [],
      "source": [
        "skcleanse.take(range(0,10))"
      ]
    },
    {
      "cell_type": "code",
      "execution_count": null,
      "id": "b53d37da",
      "metadata": {
        "id": "b53d37da"
      },
      "outputs": [],
      "source": [
        "def remap(mtup):\n",
        "    # INGOING\n",
        "    # [ time, fdqn/ip remote host, src port, mac address smart device, dst port, protocol, frame length ]\n",
        "\n",
        "    # IP not defined => Layer 2 protocol\n",
        "    if mtup[2] == 0 and mtup[6] == 0:\n",
        "        mtup[[2,3,4,5,6]] = [mtup[3],mtup[5],mtup[7],mtup[9],mtup[10]]\n",
        "        return mtup[range(0,7)]\n",
        "\n",
        "    # IP defined, but not TCP port => Layer 3 and 4 UDP protocol\n",
        "    if mtup[4] == 0 and mtup[8] == 0:\n",
        "        mtup[[1,2,3,4,5,6]] = [mtup[2],mtup[3],mtup[5],mtup[7],mtup[9],mtup[10]]\n",
        "        return mtup[range(0,7)]\n",
        "\n",
        "    # IP defined, TCP port defined => Layer 3 and 4 TCP protocol\n",
        "    mtup[[1,2,3,4,5,6]] = [mtup[2],mtup[4],mtup[5],mtup[8],mtup[9],mtup[10]]\n",
        "\n",
        "    return mtup[range(0,7)]"
      ]
    },
    {
      "cell_type": "code",
      "execution_count": null,
      "id": "9303f65e",
      "metadata": {
        "id": "9303f65e"
      },
      "outputs": [],
      "source": [
        "sklbl = skcleanse.apply(lambda x: remap(x), axis=1)"
      ]
    },
    {
      "cell_type": "code",
      "execution_count": null,
      "id": "69545a3c",
      "metadata": {
        "id": "69545a3c"
      },
      "outputs": [],
      "source": [
        "sklbl"
      ]
    },
    {
      "cell_type": "code",
      "execution_count": null,
      "id": "396f594f",
      "metadata": {
        "id": "396f594f"
      },
      "outputs": [],
      "source": [
        "def getfqdn(ip):\n",
        "    try:\n",
        "        #return socket.gethostbyaddr(ip)[0]\n",
        "        return str(dns.Resolver().resolve_address(ip)[0])\n",
        "    except Exception as e:\n",
        "        return ip"
      ]
    },
    {
      "cell_type": "code",
      "execution_count": null,
      "id": "3292c4c9",
      "metadata": {
        "id": "3292c4c9"
      },
      "outputs": [],
      "source": [
        "tic = time.time()\n",
        "\n",
        "cns = sklbl.apply(lambda x: getfqdn(x[1]), axis=1)\n",
        "\n",
        "toc = time.time()\n",
        "elapsed = toc - tic"
      ]
    },
    {
      "cell_type": "code",
      "execution_count": null,
      "id": "bf7049be",
      "metadata": {
        "id": "bf7049be"
      },
      "outputs": [],
      "source": [
        "elapsed"
      ]
    },
    {
      "cell_type": "code",
      "execution_count": null,
      "id": "31f66fe8",
      "metadata": {
        "id": "31f66fe8"
      },
      "outputs": [],
      "source": [
        "cns"
      ]
    },
    {
      "cell_type": "code",
      "execution_count": null,
      "id": "9533f127",
      "metadata": {
        "id": "9533f127"
      },
      "outputs": [],
      "source": [
        "sklbl.insert(7,7,cns)"
      ]
    },
    {
      "cell_type": "code",
      "execution_count": null,
      "id": "bebedb3f",
      "metadata": {
        "id": "bebedb3f"
      },
      "outputs": [],
      "source": [
        "sklbl[2]= sklbl.apply(lambda x: int(x[2]), axis=1)\n",
        "sklbl[4]= sklbl.apply(lambda x: int(x[4]), axis=1)"
      ]
    },
    {
      "cell_type": "code",
      "execution_count": null,
      "id": "60df671f",
      "metadata": {
        "id": "60df671f"
      },
      "outputs": [],
      "source": [
        "sklbl"
      ]
    },
    {
      "cell_type": "code",
      "execution_count": null,
      "id": "d55682b1",
      "metadata": {
        "id": "d55682b1"
      },
      "outputs": [],
      "source": [
        "sklayer34 = sklbl.query(\"@sklbl[2] != 0 and @sklbl[4] != 0\")"
      ]
    },
    {
      "cell_type": "code",
      "execution_count": null,
      "id": "b16859b2",
      "metadata": {
        "id": "b16859b2"
      },
      "outputs": [],
      "source": [
        "sklayer34"
      ]
    },
    {
      "cell_type": "code",
      "execution_count": null,
      "id": "93d00a25",
      "metadata": {
        "id": "93d00a25"
      },
      "outputs": [],
      "source": [
        "sklayer2 = sklbl.query(\"@sklbl[2] == 0 and @sklbl[4] == 0\")"
      ]
    },
    {
      "cell_type": "code",
      "execution_count": null,
      "id": "c13c8921",
      "metadata": {
        "id": "c13c8921"
      },
      "outputs": [],
      "source": [
        "sklayer2"
      ]
    },
    {
      "cell_type": "code",
      "execution_count": null,
      "id": "31007bc9",
      "metadata": {
        "id": "31007bc9"
      },
      "outputs": [],
      "source": [
        "processedList = [ i for i in sklbl.apply(lambda x: x[7], axis=1).drop_duplicates().values.tolist() ]\n",
        "out = [ processedList.append(i) for i in sklbl.apply(lambda x: x[3], axis=1).drop_duplicates().values.tolist() ]\n",
        "out = [ processedList.append(i) for i in sklayer34.apply(lambda x: x[2], axis=1).drop_duplicates().values.tolist() ]\n",
        "out = [ processedList.append(i) for i in sklayer34.apply(lambda x: x[4], axis=1).drop_duplicates().values.tolist() ]\n",
        "out = [ processedList.append(i) for i in sklbl.apply(lambda x: x[5], axis=1).drop_duplicates().values.tolist() ]"
      ]
    },
    {
      "cell_type": "code",
      "execution_count": null,
      "id": "46836917",
      "metadata": {
        "id": "46836917"
      },
      "outputs": [],
      "source": [
        "processedList"
      ]
    },
    {
      "cell_type": "code",
      "execution_count": null,
      "id": "3c980039",
      "metadata": {
        "id": "3c980039"
      },
      "outputs": [],
      "source": [
        "processedList1 = [ i for i in sklbl.apply(lambda x: x[7], axis=1).drop_duplicates().values.tolist() ]\n",
        "processedList2 = [ i for i in sklbl.apply(lambda x: x[3], axis=1).drop_duplicates().values.tolist() ]\n",
        "processedList3 = [ i for i in sklayer34.apply(lambda x: x[2], axis=1).drop_duplicates().values.tolist() ]\n",
        "processedList4 = [ i for i in sklayer34.apply(lambda x: x[4], axis=1).drop_duplicates().values.tolist() ]\n",
        "processedList5 = [ i for i in sklbl.apply(lambda x: x[5], axis=1).drop_duplicates().values.tolist() ]"
      ]
    },
    {
      "cell_type": "code",
      "execution_count": null,
      "id": "a6dad086",
      "metadata": {
        "id": "a6dad086"
      },
      "outputs": [],
      "source": [
        "processedList1"
      ]
    },
    {
      "cell_type": "code",
      "execution_count": null,
      "id": "a3059ad7",
      "metadata": {
        "id": "a3059ad7"
      },
      "outputs": [],
      "source": [
        "processedList2"
      ]
    },
    {
      "cell_type": "code",
      "execution_count": null,
      "id": "c12eebaa",
      "metadata": {
        "id": "c12eebaa"
      },
      "outputs": [],
      "source": [
        "processedList3"
      ]
    },
    {
      "cell_type": "code",
      "execution_count": null,
      "id": "73599dd2",
      "metadata": {
        "id": "73599dd2"
      },
      "outputs": [],
      "source": [
        "processedList4"
      ]
    },
    {
      "cell_type": "code",
      "execution_count": null,
      "id": "d5ba443f",
      "metadata": {
        "id": "d5ba443f"
      },
      "outputs": [],
      "source": [
        "processedList5"
      ]
    },
    {
      "cell_type": "code",
      "execution_count": null,
      "id": "6b9e37be",
      "metadata": {
        "id": "6b9e37be"
      },
      "outputs": [],
      "source": [
        "mapidxs1 = { i: processedList1.index(i) for i in processedList1 }\n",
        "mapidxs2 = { i: processedList2.index(i) + len(processedList1) for i in processedList2 }\n",
        "mapidxs3 = { i: processedList3.index(i) + len(processedList1) + len(processedList2) for i in processedList3 }\n",
        "mapidxs4 = { i: processedList4.index(i) + len(processedList1) + len(processedList2) + len(processedList3) for i in processedList4 }\n",
        "mapidxs5 = { i: processedList5.index(i) + len(processedList1) + len(processedList2) + len(processedList3) + len(processedList4) for i in processedList5 }"
      ]
    },
    {
      "cell_type": "code",
      "execution_count": null,
      "id": "ca5a4106",
      "metadata": {
        "id": "ca5a4106"
      },
      "outputs": [],
      "source": [
        "mapidxs1"
      ]
    },
    {
      "cell_type": "code",
      "execution_count": null,
      "id": "9f2c20b8",
      "metadata": {
        "id": "9f2c20b8"
      },
      "outputs": [],
      "source": [
        "mapidxs2"
      ]
    },
    {
      "cell_type": "code",
      "execution_count": null,
      "id": "9ef952eb",
      "metadata": {
        "id": "9ef952eb"
      },
      "outputs": [],
      "source": [
        "mapidxs3"
      ]
    },
    {
      "cell_type": "code",
      "execution_count": null,
      "id": "0bbe2770",
      "metadata": {
        "id": "0bbe2770"
      },
      "outputs": [],
      "source": [
        "mapidxs4"
      ]
    },
    {
      "cell_type": "code",
      "execution_count": null,
      "id": "ddaada14",
      "metadata": {
        "id": "ddaada14"
      },
      "outputs": [],
      "source": [
        "mapidxs5"
      ]
    },
    {
      "cell_type": "code",
      "execution_count": null,
      "id": "c4a22507",
      "metadata": {
        "id": "c4a22507"
      },
      "outputs": [],
      "source": [
        "lbllbl = processedList"
      ]
    },
    {
      "cell_type": "code",
      "execution_count": null,
      "id": "a3127b99",
      "metadata": {
        "id": "a3127b99"
      },
      "outputs": [],
      "source": [
        "lbllbl"
      ]
    },
    {
      "cell_type": "code",
      "execution_count": null,
      "id": "a1b66a52",
      "metadata": {
        "id": "a1b66a52"
      },
      "outputs": [],
      "source": [
        "# FLOW 1 => FROM SRC REMOTE IP ADDRESS TO DST SMART DEVICE MAC ADDRESS (TCP/IP STACK LAYER 3 AND 4)\n",
        "srclbl = [ mapidxs1.get(i[0]) for i in sklayer34.groupby([7,3]).count().index ]\n",
        "trgtlbl = [ mapidxs2.get(i[1]) for i in sklayer34.groupby([7,3]).count().index ]\n",
        "vllbl = [ i for i in sklayer34.groupby([7,3]).sum()[6].values ]"
      ]
    },
    {
      "cell_type": "code",
      "execution_count": null,
      "id": "bbafc53a",
      "metadata": {
        "id": "bbafc53a"
      },
      "outputs": [],
      "source": [
        "# FLOW 2 => FROM DST SMART DEVICE MAC ADDRESS TO SRC REMOTE IP PORT (TCP/IP STACK LAYER 3 AND 4)\n",
        "out = [ srclbl.append(mapidxs2.get(i[0])) for i in sklayer34.groupby([3,2]).count().index  ]\n",
        "out = [ trgtlbl.append(mapidxs3.get(i[1])) for i in sklayer34.groupby([3,2]).count().index ]\n",
        "out = [ vllbl.append(i) for i in sklayer34.groupby([3,2]).sum()[6].values ]"
      ]
    },
    {
      "cell_type": "code",
      "execution_count": null,
      "id": "57a257be",
      "metadata": {
        "id": "57a257be"
      },
      "outputs": [],
      "source": [
        "# FLOW 3 => FROM SRC REMOTE IP PORT TO DST SMART DEVICE PORT (TCP/IP STACK LAYER 3 AND 4)\n",
        "out = [ srclbl.append(mapidxs3.get(i[0])) for i in sklayer34.groupby([2,4]).count().index]\n",
        "out = [ trgtlbl.append(mapidxs4.get(i[1])) for i in sklayer34.groupby([2,4]).count().index ]\n",
        "out = [ vllbl.append(i) for i in sklayer34.groupby([2,4]).sum()[6].values ]"
      ]
    },
    {
      "cell_type": "code",
      "execution_count": null,
      "id": "791bd0b8",
      "metadata": {
        "id": "791bd0b8"
      },
      "outputs": [],
      "source": [
        "# FLOW 4 => FROM DST SMART DEVICE PORT TO PROTOCOL USED (TCP/IP STACK LAYER 3 AND 4)\n",
        "out = [ srclbl.append(mapidxs4.get(i[0])) for i in sklayer34.groupby([4,5]).count().index ]\n",
        "out = [ trgtlbl.append(mapidxs5.get(i[1])) for i in sklayer34.groupby([4,5]).count().index ]\n",
        "out = [ vllbl.append(i) for i in sklayer34.groupby([4,5]).sum()[6].values ]"
      ]
    },
    {
      "cell_type": "code",
      "execution_count": null,
      "id": "f0940852",
      "metadata": {
        "id": "f0940852"
      },
      "outputs": [],
      "source": [
        "# FLOW 5 => FROM SRC REMOTE MAC ADDRESS TO DST SMART DEVICE MAC ADDRESS (TCP/IP STACK LAYER 2)\n",
        "out = [ srclbl.append(mapidxs1.get(i[0])) for i in sklayer2.groupby([7,3]).count().index ]\n",
        "out = [ trgtlbl.append(mapidxs2.get(i[1])) for i in sklayer2.groupby([7,3]).count().index ]\n",
        "out = [ vllbl.append(i) for i in sklayer2.groupby([7,3]).sum()[6].values ]"
      ]
    },
    {
      "cell_type": "code",
      "execution_count": null,
      "id": "5b017c71",
      "metadata": {
        "id": "5b017c71"
      },
      "outputs": [],
      "source": [
        "# FLOW 6 => FROM DST SMART DEVICE MAC ADDRESS TO PROTOCOL USED (TCP/IP STACK LAYER 2)\n",
        "out = [ srclbl.append(mapidxs2.get(i[0])) for i in sklayer2.groupby([3,5]).count().index ]\n",
        "out = [ trgtlbl.append(mapidxs5.get(i[1])) for i in sklayer2.groupby([3,5]).count().index ]\n",
        "out = [ vllbl.append(i) for i in sklayer2.groupby([7,5]).sum()[6].values ]"
      ]
    },
    {
      "cell_type": "code",
      "execution_count": null,
      "id": "e2ddb975",
      "metadata": {
        "id": "e2ddb975"
      },
      "outputs": [],
      "source": [
        "nodeclrs = [\n",
        "    \"turquoise\" for i in sklbl.apply(lambda x: x[7], axis=1).drop_duplicates().values.tolist()\n",
        "]\n",
        "out = [ nodeclrs.append(\"limegreen\") for i in sklbl.apply(lambda x: x[3], axis=1).drop_duplicates().values.tolist()]\n",
        "out = [ nodeclrs.append(\"green\") for i in sklayer34.apply(lambda x: x[2], axis=1).drop_duplicates().values.tolist() ]\n",
        "out = [ nodeclrs.append(\"salmon\") for i in sklayer34.apply(lambda x: x[4], axis=1).drop_duplicates().values.tolist() ]\n",
        "out = [ nodeclrs.append(\"deeppink\") for i in sklbl.apply(lambda x: x[5], axis=1).drop_duplicates().values.tolist() ]\n",
        "\n",
        "linkclrs=[\n",
        "    \"silver\" for i in trgtlbl\n",
        "]"
      ]
    },
    {
      "cell_type": "code",
      "execution_count": null,
      "id": "0810af64",
      "metadata": {
        "id": "0810af64"
      },
      "outputs": [],
      "source": [
        "fig = go.Figure(data=[go.Sankey(\n",
        "    valuesuffix = \"Bytes\",\n",
        "    node = dict(\n",
        "      pad = 20,\n",
        "      thickness = 20,\n",
        "      line = dict(color = \"black\", width = .5),\n",
        "      label = lbllbl\n",
        "    ),\n",
        "    link = dict(\n",
        "      source = srclbl,\n",
        "      target = trgtlbl,\n",
        "      value = vllbl,\n",
        "  ))])\n",
        "\n",
        "\n",
        "fig.update_layout(width=1500,height=1000,title_text=\"Network Traffic Incoming for {} {} {}\".format(eval(lblsel).get(\"app\"),eval(lblsel).get(\"device\"),eval(lblsel).get(\"name\")), font_size=10)\n",
        "fig.update_traces(node_color=nodeclrs,link_color=linkclrs)\n",
        "fig.write_image(file=\"/content/drive/MyDrive/Thesis - Computer Science and Engineering - Master's degree/datasets/sankey/fig1.png\",format='png',engine='orca')\n",
        "fig.show()"
      ]
    },
    {
      "cell_type": "code",
      "execution_count": null,
      "id": "8601f673-e60d-4656-a7ab-25dab56f96d9",
      "metadata": {
        "id": "8601f673-e60d-4656-a7ab-25dab56f96d9"
      },
      "outputs": [],
      "source": []
    }
  ],
  "metadata": {
    "kernelspec": {
      "display_name": "Python 3 (ipykernel)",
      "language": "python",
      "name": "python3"
    },
    "language_info": {
      "codemirror_mode": {
        "name": "ipython",
        "version": 3
      },
      "file_extension": ".py",
      "mimetype": "text/x-python",
      "name": "python",
      "nbconvert_exporter": "python",
      "pygments_lexer": "ipython3",
      "version": "3.11.6"
    },
    "colab": {
      "provenance": [],
      "include_colab_link": true
    }
  },
  "nbformat": 4,
  "nbformat_minor": 5
}